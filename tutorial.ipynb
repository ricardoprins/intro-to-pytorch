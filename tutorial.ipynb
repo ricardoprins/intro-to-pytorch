{
 "cells": [
  {
   "cell_type": "markdown",
   "metadata": {},
   "source": [
    "# Parte 1: Tensores"
   ]
  },
  {
   "cell_type": "markdown",
   "metadata": {},
   "source": [
    "### Tensores\n",
    "\n",
    "Tensores são uma estrutura de dados especializada, parecidos com vetores/matrizes. No PyTorch, tensores são utilizados para codificar entradas(inputs) e saídas(outputs) em um modelo, e também os parâmetros desse modelo.\n",
    "\n",
    "<img src=img/2-tensor-1.png>\n",
    "\n",
    "Tensores no PyTorch são similares a `ndarray` no NumPy, com a diferença que tensores podem ser executados em GPUs. Caso sejam utilizados em CPUs, tensores e `ndarrays` podem compartilhar o mesmo endereço na memória, eliminando assim a necessidade de copiar os dados de um para o outro (leia mais sobre isso pesquisando por `bridge-to-np-label`). Tensores são também optimizados para diferenciação automática. Caso você tenha familiaridade com a API NumPy de `ndarrrays`, você não terá nenhum problema em utilizar tensores no PyTorch."
   ]
  },
  {
   "cell_type": "markdown",
   "metadata": {},
   "source": [
    "## Inicializando tensores\n",
    "\n",
    "Tensores podem ser inicializados de várias maneiras: os dados podem ser passados diretamente (o data type é inferido automaticamente pelo PyTorch); por meio de um `np.array`; por meio de outro tensor; ou ainda com valores constantes ou aleatórios.\n",
    "\n",
    "Veja os exemplos a seguir:"
   ]
  },
  {
   "cell_type": "code",
   "execution_count": 2,
   "metadata": {},
   "outputs": [],
   "source": [
    "%matplotlib inline\n",
    "import torch\n",
    "import numpy as np"
   ]
  },
  {
   "cell_type": "markdown",
   "metadata": {},
   "source": [
    "#### Inicialização direta"
   ]
  },
  {
   "cell_type": "code",
   "execution_count": 3,
   "metadata": {},
   "outputs": [],
   "source": [
    "data = [[1, 2],[3, 4]]\n",
    "x_data = torch.tensor(data)"
   ]
  },
  {
   "cell_type": "markdown",
   "metadata": {},
   "source": [
    "#### Inicialização a partir de array NumPy"
   ]
  },
  {
   "cell_type": "code",
   "execution_count": 4,
   "metadata": {},
   "outputs": [
    {
     "name": "stdout",
     "output_type": "stream",
     "text": [
      "Valor do np_array (Numpy): \n",
      " [[1 2]\n",
      " [3 4]] \n",
      "\n",
      "Valor do tensor (pytorch): \n",
      " tensor([[1, 2],\n",
      "        [3, 4]]) \n",
      "\n",
      "Valor do np_array depois da multiplicação: \n",
      " [[2 4]\n",
      " [6 8]] \n",
      "\n",
      "Valor do tensor depois da multiplicação: \n",
      " tensor([[2, 4],\n",
      "        [6, 8]]) \n",
      "\n"
     ]
    }
   ],
   "source": [
    "np_array = np.array(data)\n",
    "x_np = torch.from_numpy(np_array)\n",
    "\n",
    "print(f\"Valor do np_array (Numpy): \\n {np_array} \\n\")\n",
    "print(f\"Valor do tensor (pytorch): \\n {x_np} \\n\")\n",
    "\n",
    "# Observe que alterações no array numpy são propagadas para o tensor, visto que compartilham o mesmo endereço na memória!\n",
    "\n",
    "np.multiply(np_array, 2, out=np_array)\n",
    "\n",
    "print(f\"Valor do np_array depois da multiplicação: \\n {np_array} \\n\")\n",
    "print(f\"Valor do tensor depois da multiplicação: \\n {x_np} \\n\")"
   ]
  },
  {
   "cell_type": "markdown",
   "metadata": {},
   "source": [
    "#### Inicialização a partir de outro tensor"
   ]
  },
  {
   "cell_type": "code",
   "execution_count": 8,
   "metadata": {},
   "outputs": [
    {
     "name": "stdout",
     "output_type": "stream",
     "text": [
      "Tensor unitário: \n",
      " tensor([[1, 1],\n",
      "        [1, 1]]) \n",
      "\n",
      "Tensor aleatório: \n",
      " tensor([[0.5459, 0.1739],\n",
      "        [0.1319, 0.6596]]) \n",
      "\n"
     ]
    }
   ],
   "source": [
    "x_ones = torch.ones_like(x_data) # mantém as propriedades do x_data\n",
    "print(f\"Tensor unitário: \\n {x_ones} \\n\")\n",
    "\n",
    "x_rand = torch.rand_like(x_data, dtype=torch.float) # sobreescreve as propriedades do x_data\n",
    "print(f\"Tensor aleatório: \\n {x_rand} \\n\")"
   ]
  },
  {
   "cell_type": "markdown",
   "metadata": {},
   "source": [
    "#### Inicialização com valores constantes/aleatórios\n",
    "\n",
    "A variável `shape` abaixo é um _tuplo_ que armazena as dimensões do tensor. Veja no exemplo abaixo o output dos tensores, conforme criados com as funções `rand`, `ones` e `zeros`:"
   ]
  },
  {
   "cell_type": "code",
   "execution_count": 12,
   "metadata": {},
   "outputs": [
    {
     "name": "stdout",
     "output_type": "stream",
     "text": [
      "Tensor aleatório: \n",
      " tensor([[0.1376, 0.6016, 0.5484],\n",
      "        [0.9618, 0.5907, 0.6932]]) \n",
      "\n",
      "Tensor unitário: \n",
      " tensor([[1., 1., 1.],\n",
      "        [1., 1., 1.]]) \n",
      "\n",
      "Tensor zero: \n",
      " tensor([[0., 0., 0.],\n",
      "        [0., 0., 0.]])\n"
     ]
    }
   ],
   "source": [
    "shape = (2,3,)\n",
    "rand_tensor = torch.rand(shape)\n",
    "ones_tensor = torch.ones(shape)\n",
    "zeros_tensor = torch.zeros(shape)\n",
    "\n",
    "print(f\"Tensor aleatório: \\n {rand_tensor} \\n\")\n",
    "print(f\"Tensor unitário: \\n {ones_tensor} \\n\")\n",
    "print(f\"Tensor zero: \\n {zeros_tensor}\")"
   ]
  },
  {
   "cell_type": "markdown",
   "metadata": {},
   "source": [
    "## Atributos de um tensor\n",
    "\n",
    "Os atributos do tensor descrevem sua forma (shape), tipo de dados e o dispositivo no qual o mesmo está armazenado."
   ]
  },
  {
   "cell_type": "code",
   "execution_count": 13,
   "metadata": {},
   "outputs": [
    {
     "name": "stdout",
     "output_type": "stream",
     "text": [
      "Forma do tensor: torch.Size([3, 4])\n",
      "Tipo de dados do tensor: torch.float32\n",
      "Dispositivo armazenando o tensor: cpu\n"
     ]
    }
   ],
   "source": [
    "tensor = torch.rand(3,4)\n",
    "\n",
    "print(f\"Forma do tensor: {tensor.shape}\")\n",
    "print(f\"Tipo de dados do tensor: {tensor.dtype}\")\n",
    "print(f\"Dispositivo armazenando o tensor: {tensor.device}\")"
   ]
  },
  {
   "cell_type": "markdown",
   "metadata": {},
   "source": [
    "## Operações em tensores\n",
    "\n",
    "O PyTorch possui funcionalidades para mais de 100 operações com tensores, incluindo operações aritméticas, de álgebra linear e de manipulação de matrizes. Para saber mais, clique [aqui](https://pytorch.org/docs/stable/torch.html) (em inglês).\n",
    "\n",
    "Cada uma dessas operações podem ser executadas no GPU (normalmente bem mais rápido do que em CPUs). O PyTorch pode usar a library CUDA da Nvidia, obtendo assim uma vantagem significativa com placas de vídeo.\n",
    "\n",
    "Tensores são criados inicialmente no CPU, mas podem ser movidos por meio do método `.to()`, conforme exemplo abaixo. Lembre-se que para tensores maiores, essa operação possui um custo alto em tempo e memória."
   ]
  },
  {
   "cell_type": "code",
   "execution_count": 14,
   "metadata": {},
   "outputs": [],
   "source": [
    "# Caso possível, podemos mover o tensor para o acelerador GPU.\n",
    "if torch.cuda.is_available():\n",
    "    tensor = tensor.to('cuda')"
   ]
  },
  {
   "cell_type": "markdown",
   "metadata": {},
   "source": [
    "#### Exemplos de operações - indexing e slicing"
   ]
  },
  {
   "cell_type": "code",
   "execution_count": 15,
   "metadata": {},
   "outputs": [
    {
     "name": "stdout",
     "output_type": "stream",
     "text": [
      "Primeira linha:  tensor([1., 1., 1., 1.])\n",
      "Primeira coluna:  tensor([1., 1., 1., 1.])\n",
      "Última coluna: tensor([1., 1., 1., 1.])\n",
      "tensor([[1., 0., 1., 1.],\n",
      "        [1., 0., 1., 1.],\n",
      "        [1., 0., 1., 1.],\n",
      "        [1., 0., 1., 1.]])\n"
     ]
    }
   ],
   "source": [
    "tensor = torch.ones(4, 4)\n",
    "print('Primeira linha: ',tensor[0])\n",
    "print('Primeira coluna: ', tensor[:, 0])\n",
    "print('Última coluna:', tensor[..., -1])\n",
    "tensor[:,1] = 0\n",
    "print(tensor)"
   ]
  },
  {
   "cell_type": "markdown",
   "metadata": {},
   "source": [
    "#### União de tensores"
   ]
  },
  {
   "cell_type": "code",
   "execution_count": 16,
   "metadata": {},
   "outputs": [
    {
     "name": "stdout",
     "output_type": "stream",
     "text": [
      "tensor([[1., 0., 1., 1., 1., 0., 1., 1., 1., 0., 1., 1.],\n",
      "        [1., 0., 1., 1., 1., 0., 1., 1., 1., 0., 1., 1.],\n",
      "        [1., 0., 1., 1., 1., 0., 1., 1., 1., 0., 1., 1.],\n",
      "        [1., 0., 1., 1., 1., 0., 1., 1., 1., 0., 1., 1.]])\n"
     ]
    }
   ],
   "source": [
    "# Concatenando três tensores\n",
    "\n",
    "t1 = torch.cat([tensor, tensor, tensor], dim=1)\n",
    "print(t1)"
   ]
  },
  {
   "cell_type": "markdown",
   "metadata": {},
   "source": [
    "#### Operações aritméticas"
   ]
  },
  {
   "cell_type": "code",
   "execution_count": 17,
   "metadata": {},
   "outputs": [
    {
     "name": "stdout",
     "output_type": "stream",
     "text": [
      "tensor([[3., 3., 3., 3.],\n",
      "        [3., 3., 3., 3.],\n",
      "        [3., 3., 3., 3.],\n",
      "        [3., 3., 3., 3.]])\n",
      "tensor([[3., 3., 3., 3.],\n",
      "        [3., 3., 3., 3.],\n",
      "        [3., 3., 3., 3.],\n",
      "        [3., 3., 3., 3.]])\n",
      "tensor([[1., 0., 1., 1.],\n",
      "        [1., 0., 1., 1.],\n",
      "        [1., 0., 1., 1.],\n",
      "        [1., 0., 1., 1.]])\n",
      "tensor([[1., 0., 1., 1.],\n",
      "        [1., 0., 1., 1.],\n",
      "        [1., 0., 1., 1.],\n",
      "        [1., 0., 1., 1.]])\n"
     ]
    },
    {
     "data": {
      "text/plain": [
       "tensor([[1., 0., 1., 1.],\n",
       "        [1., 0., 1., 1.],\n",
       "        [1., 0., 1., 1.],\n",
       "        [1., 0., 1., 1.]])"
      ]
     },
     "execution_count": 17,
     "metadata": {},
     "output_type": "execute_result"
    }
   ],
   "source": [
    "y1 = tensor @ tensor.T\n",
    "y2 = tensor.matmul(tensor.T)\n",
    "\n",
    "y3 = torch.rand_like(tensor)\n",
    "\n",
    "print(y1)\n",
    "print(y2)\n",
    "\n",
    "torch.matmul(tensor, tensor.T, out=y3)\n",
    "\n",
    "\n",
    "z1 = tensor * tensor\n",
    "z2 = tensor.mul(tensor)\n",
    "\n",
    "\n",
    "print(z1)\n",
    "print(z2)\n",
    "\n",
    "z3 = torch.rand_like(tensor)\n",
    "\n",
    "torch.mul(tensor, tensor, out=z3)"
   ]
  },
  {
   "cell_type": "markdown",
   "metadata": {},
   "source": [
    "#### Tensores unitários\n",
    "\n",
    "Caso você possua um tensor unitário, isto é, com apenas um elemento, este pode ser convertido para um valor numérico usando `item()`:"
   ]
  },
  {
   "cell_type": "code",
   "execution_count": 18,
   "metadata": {},
   "outputs": [
    {
     "name": "stdout",
     "output_type": "stream",
     "text": [
      "12.0 <class 'float'>\n"
     ]
    }
   ],
   "source": [
    "agg = tensor.sum()\n",
    "agg_item = agg.item()  \n",
    "print(agg_item, type(agg_item))"
   ]
  },
  {
   "cell_type": "markdown",
   "metadata": {},
   "source": [
    "#### Operações _in-place_\n",
    "\n",
    "Operações que armazenam o resultado diretamente no operando são chamadas _in-place_. No PyTorch, elas são indicadas através do sufixo `_`. Por exemplo:"
   ]
  },
  {
   "cell_type": "code",
   "execution_count": 23,
   "metadata": {},
   "outputs": [
    {
     "name": "stdout",
     "output_type": "stream",
     "text": [
      "tensor([[1., 0., 1., 1.],\n",
      "        [1., 0., 1., 1.],\n",
      "        [1., 0., 1., 1.],\n",
      "        [1., 0., 1., 1.]]) \n",
      "\n",
      "tensor([[6., 5., 6., 6.],\n",
      "        [6., 5., 6., 6.],\n",
      "        [6., 5., 6., 6.],\n",
      "        [6., 5., 6., 6.]])\n"
     ]
    }
   ],
   "source": [
    "print(tensor, \"\\n\")\n",
    "tensor.add_(5)\n",
    "print(tensor)"
   ]
  },
  {
   "cell_type": "markdown",
   "metadata": {},
   "source": [
    "## Interoperabilidade entre tensores e arrays NumPy\n",
    "\n",
    "Conforme mencionado anteriormente, caso tensores estejam armazenados na CPU, os endereços de memória de tensores e arrays NumPy são compartilhados e, por isso, alterações feitas em um são propagadas para o outro. \n",
    "\n",
    "Veja os exemplos a seguir:"
   ]
  },
  {
   "cell_type": "code",
   "execution_count": 24,
   "metadata": {},
   "outputs": [
    {
     "name": "stdout",
     "output_type": "stream",
     "text": [
      "t: tensor([1., 1., 1., 1., 1.])\n",
      "n: [1. 1. 1. 1. 1.]\n"
     ]
    }
   ],
   "source": [
    "t = torch.ones(5)\n",
    "print(f\"t: {t}\")\n",
    "n = t.numpy()\n",
    "print(f\"n: {n}\")"
   ]
  },
  {
   "cell_type": "code",
   "execution_count": 25,
   "metadata": {},
   "outputs": [
    {
     "name": "stdout",
     "output_type": "stream",
     "text": [
      "t: tensor([2., 2., 2., 2., 2.])\n",
      "n: [2. 2. 2. 2. 2.]\n"
     ]
    }
   ],
   "source": [
    "t.add_(1)\n",
    "print(f\"t: {t}\")\n",
    "print(f\"n: {n}\")"
   ]
  },
  {
   "cell_type": "code",
   "execution_count": 19,
   "metadata": {},
   "outputs": [],
   "source": [
    "n = np.ones(5)\n",
    "t = torch.from_numpy(n)"
   ]
  },
  {
   "cell_type": "code",
   "execution_count": 20,
   "metadata": {},
   "outputs": [
    {
     "name": "stdout",
     "output_type": "stream",
     "text": [
      "t: tensor([2., 2., 2., 2., 2.], dtype=torch.float64)\n",
      "n: [2. 2. 2. 2. 2.]\n"
     ]
    }
   ],
   "source": [
    "np.add(n, 1, out=n)\n",
    "print(f\"t: {t}\")\n",
    "print(f\"n: {n}\")"
   ]
  },
  {
   "cell_type": "markdown",
   "metadata": {},
   "source": [
    "# Parte 2: Carregando e normalizando datasets"
   ]
  },
  {
   "cell_type": "markdown",
   "metadata": {},
   "source": [
    "## Datasets e Dataloaders\n",
    "\n",
    "A manutenção de código para alteração e manipulação de dados pode se tornar complexa e difícil de ser executada; o ideal é que o código para essas operações sejam feitas separadamente, e não em conjunto com o código para treino de modelos. Com isso, melhoramos a leitura e facilitamos a manutenção do código. \n",
    "\n",
    "Para auxiliar nessas tarefas, o PyTorch oferece dois tipos primitivos de dados: `torch.utils.data.DataLoader` e `torch.utils.data.Dataset`, que permitem tanto a utilização de datasets preexistentes no PyTorch quanto datasets fornecidos pelo usuário.\n",
    "\n",
    "`Dataset` armazena os dados e seus _labels_ correspondentes, e `DataLoader` encapsula o `Dataset` em um _iterable_ para permitir fácil acesso aos dados.\n",
    "\n",
    "Há uma série de datasets disponíveis no PyTorch (como FashionMNIST, por exemplo) que são subclasses de `torch.utils.data.Dataset`, e que implementam funções específicas aos dados às quais se referem. Há dados disponíveis para imagens, texto e áudio."
   ]
  },
  {
   "cell_type": "markdown",
   "metadata": {},
   "source": [
    "## Carregando um dataset\n",
    "\n",
    "Para este tutorial, vamos utilizar o dataset *Fashion-MNIST*, do TorchVision (clique [aqui](https://github.com/zalandoresearch/fashion-mnist) para mais informações sobre o dataset).\n",
    "\n",
    "Algumas informações sobre o dataset:\n",
    "\n",
    "- Cada imagem possui 28x28 pixels de dimensão, totalizando 784 pixels.\n",
    "- As imagens são categorizadas em 10 classes, que correspondem ao tipo de vestimenta da imagem, como: _t-shirt/top_, _trouser_, _dress_, etc. (em português: camisa, calça, vestido)\n",
    "- As imagens possuem dados sobre escala de cinza (grayscale) em cada pixel, variando de 0 a 255, correspondente à medida da intensidade de preto/branco em cada pixel, sendo 0 correspondente à cor branca e 255, à cor negra.\n",
    "\n",
    "![](img/3-data-1.png)\n",
    "\n",
    "O dataset será carregado com os parâmetros abaixo:\n",
    "\n",
    "- *root* é o local no qual os dados de treino e teste serão armazenados;\n",
    "- *train* especifica os dados de treino e teste;\n",
    "- *download=True* este kwarg assegura o download dos dados, caso estes não estejam presentes no _root_\n",
    "- *transform* e *target_transform* especificam as transformações de _features_ e _labels_ no dataset.\n"
   ]
  },
  {
   "cell_type": "code",
   "execution_count": 21,
   "metadata": {},
   "outputs": [],
   "source": [
    "%matplotlib inline\n",
    "import torch\n",
    "from torch.utils.data import Dataset\n",
    "from torchvision import datasets\n",
    "from torchvision.transforms import ToTensor, Lambda\n",
    "import matplotlib.pyplot as plt\n",
    "\n",
    "training_data = datasets.FashionMNIST(\n",
    "    root=\"data\",\n",
    "    train=True,\n",
    "    download=True,\n",
    "    transform=ToTensor()\n",
    ")\n",
    "\n",
    "test_data = datasets.FashionMNIST(\n",
    "    root=\"data\",\n",
    "    train=False,\n",
    "    download=True,\n",
    "    transform=ToTensor()\n",
    ")"
   ]
  },
  {
   "cell_type": "markdown",
   "metadata": {},
   "source": [
    "#### Visualizando os dados do dataset\n",
    "\n",
    "Podemos indexar os dados manualmente usando uma lista, e em seguida visualizá-los usando `matplotlib`:"
   ]
  },
  {
   "cell_type": "code",
   "execution_count": 22,
   "metadata": {},
   "outputs": [
    {
     "data": {
      "image/png": "[encoded data removed]",
      "text/plain": [
       "<Figure size 576x576 with 9 Axes>"
      ]
     },
     "metadata": {
      "needs_background": "light"
     },
     "output_type": "display_data"
    }
   ],
   "source": [
    "labels_map = {\n",
    "    0: \"T-Shirt\",\n",
    "    1: \"Trouser\",\n",
    "    2: \"Pullover\",\n",
    "    3: \"Dress\",\n",
    "    4: \"Coat\",\n",
    "    5: \"Sandal\",\n",
    "    6: \"Shirt\",\n",
    "    7: \"Sneaker\",\n",
    "    8: \"Bag\",\n",
    "    9: \"Ankle Boot\",\n",
    "}\n",
    "figure = plt.figure(figsize=(8, 8))\n",
    "cols, rows = 3, 3\n",
    "for i in range(1, cols * rows + 1):\n",
    "    sample_idx = torch.randint(len(training_data), size=(1,)).item()\n",
    "    img, label = training_data[sample_idx]\n",
    "    figure.add_subplot(rows, cols, i)\n",
    "    plt.title(labels_map[label])\n",
    "    plt.axis(\"off\")\n",
    "    plt.imshow(img.squeeze(), cmap=\"gray\")\n",
    "plt.show()"
   ]
  },
  {
   "cell_type": "markdown",
   "metadata": {},
   "source": [
    "#### Preparando os dados com DataLoaders\n",
    "---\n",
    "\n",
    "Ao utilizarmos a classe `Dataset`, podemos obter _features_ e _labels_ de nosso dataset uma amostra de cada vez. Ao treinarmos um modelo, o ideal é que possamos passar amostras em \"minilotes\"(minibatches), reembaralhando os dados em cada ciclo(epoch) para evitar _overfitting_ no modelo, e usando multiprocessamento para acelerar a obtenção/extração dos dados neste processo.\n",
    "\n",
    "É preciso, em Machine Learning, especificar quais são as _features_ e _labels_ em nossos datasets. As **_features_** são os inputs (entradas) e as **_labels_** são os outputs (saídas). \n",
    "\n",
    "Usamos as _features_ ao treinar o modelo, para tentar estimar e prever as _labels_."
   ]
  },
  {
   "cell_type": "code",
   "execution_count": 23,
   "metadata": {},
   "outputs": [],
   "source": [
    "from torch.utils.data import DataLoader\n",
    "\n",
    "train_dataloader = DataLoader(training_data, batch_size=64, shuffle=True)\n",
    "test_dataloader = DataLoader(test_data, batch_size=64, shuffle=True)"
   ]
  },
  {
   "cell_type": "markdown",
   "metadata": {},
   "source": [
    "#### Iterando sobre o DataLoader\n",
    "---\n",
    "\n",
    "Agora que carregamos os dados do dataset em um `DataLoader`, podemos iterar sobre ele conforme necessário. Cada iteração abaixo retorna um lote (batch) de `train_features` e `train_labels` (contendo _features_ e _labels_ de `batch_size=64`). Por termos especificado `shuffle=True`, os dados serão embaralhados após uma iteração (para um controle mais detalhado sobre a ordem de carregamento dos dados).\n"
   ]
  },
  {
   "cell_type": "code",
   "execution_count": 29,
   "metadata": {},
   "outputs": [
    {
     "name": "stdout",
     "output_type": "stream",
     "text": [
      "Dimensões do lote de features: torch.Size([64, 1, 28, 28])\n",
      "Dimensões do lote de labels: torch.Size([64])\n"
     ]
    },
    {
     "data": {
      "image/png": "[encoded data removed]",
      "text/plain": [
       "<Figure size 432x288 with 1 Axes>"
      ]
     },
     "metadata": {
      "needs_background": "light"
     },
     "output_type": "display_data"
    },
    {
     "name": "stdout",
     "output_type": "stream",
     "text": [
      "Label: 6\n"
     ]
    }
   ],
   "source": [
    "# Exibindo imagens e rótulos:\n",
    "train_features, train_labels = next(iter(train_dataloader))\n",
    "print(f\"Dimensões do lote de features: {train_features.size()}\")\n",
    "print(f\"Dimensões do lote de labels: {train_labels.size()}\")\n",
    "img = train_features[0].squeeze()\n",
    "label = train_labels[0]\n",
    "plt.imshow(img, cmap=\"gray\")\n",
    "plt.show()\n",
    "print(f\"Label: {label}\")"
   ]
  },
  {
   "cell_type": "markdown",
   "metadata": {},
   "source": [
    "#### Normalização\n",
    "\n",
    "A normalização é uma técnica comum de pré-processamento que é aplicada para escalonar ou transformar os dados, assegurando assim uma contribuição equitativa de cada _feature_ no treinamento do modelo. Por exemplo, para o nosso modelo, cada pixel possui um valor entre 0 e 255 - nossos _features_. Caso um valor de pixel seja 17 e outro seja 197, pode haver uma distribuição desigual na hora de classificar a importância dos pixels, uma vez que valores maiores poderão exercer influência mais significativa no cálculo do aprendizado do modelo. Para resolver este problema utilizamos a normalização, que consiste em mudar a variância (range) dos dados, sem que isso distorça seu valor proporcional na _feature_ (em caso de dúvidas, leia mais a respeito [aqui](https://medium.com/ipnet-growth-partner/padronizacao-normalizacao-dados-machine-learning-f8f29246c12).)\n",
    "\n",
    "Executar a normalização dos dados evita redução na precisão do modelo, dificuldade no aprendizado do modelo, e distribuição desfavorável de variâncias (ranges) entre _features_."
   ]
  },
  {
   "cell_type": "markdown",
   "metadata": {},
   "source": [
    "#### ToTensor()\n",
    "---\n",
    "A função `ToTensor()` converte uma imagem PIL ou `ndarray` NumPy em um `FloatTensor` e escalona a intensidade de pixels da imagem para valores no intervalo [0.,1.].\n",
    "\n",
    "#### Transformações Lambda\n",
    "---\n",
    "As transformações `Lambda` aplicam um _lambda_ qualquer definido pelo usuário. Aqui, definimos uma função que transforma o valor inteiro em um tensor _one-hot encoded_ (leia mais a respeito [aqui](https://hackernoon.com/what-is-one-hot-encoding-why-and-when-do-you-have-to-use-it-e3c6186d008f).) Inicialmente, criamos um tensor zero de tamanho 10 (o número de _labels_ no dataset) e usamos um _scatter_ que atribui um `value=1` no index conforme dado pela label _y_. Você também pode usar `torch.nn.functional.one_hot` para fazer a mesma coisa."
   ]
  },
  {
   "cell_type": "code",
   "execution_count": 30,
   "metadata": {},
   "outputs": [],
   "source": [
    "from torchvision import datasets\n",
    "from torchvision.transforms import ToTensor, Lambda\n",
    "\n",
    "ds = datasets.FashionMNIST(\n",
    "    root=\"data\",\n",
    "    train=True,\n",
    "    download=True,\n",
    "    transform=ToTensor(),\n",
    "    target_transform=Lambda(lambda y: torch.zeros(10, dtype=torch.float).scatter_(0, torch.tensor(y), value=1))\n",
    ")"
   ]
  },
  {
   "cell_type": "code",
   "execution_count": 39,
   "metadata": {},
   "outputs": [],
   "source": [
    "target_transform = Lambda(lambda y: torch.zeros(\n",
    "    10, dtype=torch.float).scatter_(dim=0, index=torch.tensor(y), value=1))"
   ]
  },
  {
   "cell_type": "markdown",
   "metadata": {},
   "source": [
    "# Parte 3: Construindo as camadas do modelo"
   ]
  },
  {
   "cell_type": "markdown",
   "metadata": {},
   "source": [
    "## O que são Redes Neurais?\n",
    "\n",
    "Redes neurais são uma coleção de neurônios conectados por camadas (layers). Cada neurônio é uma pequena unidade computacional que executa cálculos simples para resolver coletivamente um problema. Os neurônios, por sua vez, são organizados em camadas. Há em redes neurais três tipos de camadas: entrada (input layers), oculta (hidden layers), e saída (output layers). Cada camada contém um número de neurônios, com exceção da camada de entrada. \n",
    "\n",
    "Redes neurais tentam imitar a maneira através da qual o cérebro humano processa informação.\n",
    "\n",
    "![](img/4-model-1.png)"
   ]
  },
  {
   "cell_type": "markdown",
   "metadata": {},
   "source": [
    "#### Componentes de uma rede neural\n",
    "\n",
    "- Função de ativação (activation function): determina se um neurônio deve ou não ser ativado. Os cálculos que acontecem em uma rede neural incluem a aplicação de uma função de ativação. Caso um neurônio seja ativado, isso significa que a entrada (input) é significativa. Existem diferentes tipos de funções de ativações. A escolha da função dependerá do tipo de saída (output) desejado. Outra função importante das funções de ativação é a de adicionar não-linearidade ao modelo. Eis abaixo alguns tipos de funções de ativação (leia mais a respeito [aqui](https://iaexpert.academy/2020/05/25/funcoes-de-ativacao-definicao-caracteristicas-e-quando-usar-cada-uma/)):\n",
    "   - Binário\n",
    "   - Sigmóide (sigmoid)\n",
    "   - tanh (tangente hiperbólica)\n",
    "   - Unidade linear retificada (ReLU)\n",
    "- Pesos (weights): medidas de influência que determinam quão bem a saída (output) de nossa rede neural se aproximam do valor esperado. Quando uma entrada (input) é passada para um neurônio, ela é multiplicada por um valor (o peso), e a saída resultante é ou observada ou transmitida para a camada seguinte na rede. Pesos para todos os neurônios em uma camada são organizados em um tensor.\n",
    "- Viés (bias): valor que representa a diferença entre a saída da função de ativação e o valor esperado. Um viés (bias) baixo sugere que a rede neural está inferindo mais (making more assumptions) sobre a forma da saída (output), enquanto um valor alto sugere o contrário.\n",
    "\n",
    "![](img/4-model-2.png)"
   ]
  },
  {
   "cell_type": "markdown",
   "metadata": {},
   "source": [
    "É possível afirmar que uma saída (output) _y_ de uma camada em uma rede neural com peso _W_ e viés _b_ seja computada como o somatório das entradas multiplicado pelos pesos e somada com o viés, $x = \\sum{(weights * inputs) + bias} $, onde $f(x)$ é a função de ativação."
   ]
  },
  {
   "cell_type": "code",
   "execution_count": 31,
   "metadata": {},
   "outputs": [],
   "source": [
    "%matplotlib inline\n",
    "import os\n",
    "import torch\n",
    "from torch import nn\n",
    "from torch.utils.data import DataLoader\n",
    "from torchvision import datasets, transforms"
   ]
  },
  {
   "cell_type": "markdown",
   "metadata": {},
   "source": [
    "#### Treinando o modelo na GPU\n",
    "\n",
    "Queremos treinar nosso modelo, se possível, na GPU. Para isso:"
   ]
  },
  {
   "cell_type": "code",
   "execution_count": 32,
   "metadata": {},
   "outputs": [
    {
     "name": "stdout",
     "output_type": "stream",
     "text": [
      "Using cuda device\n"
     ]
    }
   ],
   "source": [
    "device = 'cuda' if torch.cuda.is_available() else 'cpu'\n",
    "print('Using {} device'.format(device))"
   ]
  },
  {
   "cell_type": "markdown",
   "metadata": {},
   "source": [
    "#### Definindo a classe\n",
    "\n",
    "Definimos nossa rede neural como uma subclasse de `nn.Module`, e inicializamos as camadas(layers) em `__init__`. Cada subclasse de `nn.Module` implementa as operações nos dados de entrada(inputs) no método `forward()`.\n",
    "\n",
    "Nossa rede neural é composta de:\n",
    "\n",
    "- Uma camada de entrada (input layer) com 28x28 = 784 features/pixels.\n",
    "- O primeiro módulo linear, que transforma os 784 features em uma camada oculta (hidden layer) com 512 features.\n",
    "- Uma função de ativação ReLU, aplicada à essa transformação\n",
    "- O segundo módulo linear, que transforma os 512 features da primeira camada oculta em outra camada oculta com 512 features.\n",
    "- Uma função de ativação ReLU, aplicada à essa transformação\n",
    "- O terceiro módulo linear, que transforma os 512 features da primeira camada oculta em uma camada de saída, com 10 features, correspondentes ao número de classes do modelo.\n",
    "- Uma função de ativação ReLU, aplicada à essa transformação"
   ]
  },
  {
   "cell_type": "code",
   "execution_count": 33,
   "metadata": {},
   "outputs": [],
   "source": [
    "class NeuralNetwork(nn.Module):\n",
    "    def __init__(self):\n",
    "        super(NeuralNetwork, self).__init__()\n",
    "        self.flatten = nn.Flatten()\n",
    "        self.linear_relu_stack = nn.Sequential(\n",
    "            nn.Linear(28*28, 512),\n",
    "            nn.ReLU(),\n",
    "            nn.Linear(512, 512),\n",
    "            nn.ReLU(),\n",
    "            nn.Linear(512, 10),\n",
    "            nn.ReLU()\n",
    "        )\n",
    "\n",
    "    def forward(self, x):\n",
    "        x = self.flatten(x)\n",
    "        logits = self.linear_relu_stack(x)\n",
    "        return logits"
   ]
  },
  {
   "cell_type": "markdown",
   "metadata": {},
   "source": [
    "Criamos então uma instância da classe `NeuralNetwork`, e a movemos para o `device`, imprimindo a seguir sua estrutura."
   ]
  },
  {
   "cell_type": "code",
   "execution_count": 34,
   "metadata": {},
   "outputs": [
    {
     "name": "stdout",
     "output_type": "stream",
     "text": [
      "NeuralNetwork(\n",
      "  (flatten): Flatten(start_dim=1, end_dim=-1)\n",
      "  (linear_relu_stack): Sequential(\n",
      "    (0): Linear(in_features=784, out_features=512, bias=True)\n",
      "    (1): ReLU()\n",
      "    (2): Linear(in_features=512, out_features=512, bias=True)\n",
      "    (3): ReLU()\n",
      "    (4): Linear(in_features=512, out_features=10, bias=True)\n",
      "    (5): ReLU()\n",
      "  )\n",
      ")\n"
     ]
    }
   ],
   "source": [
    "model = NeuralNetwork().to(device)\n",
    "print(model)"
   ]
  },
  {
   "cell_type": "markdown",
   "metadata": {},
   "source": [
    "Para usar o modelo, passamos os dados de entrada. Essa operação executa o `forward()` do modelo, além de algumas outras operações internas adicionais. É importante ressaltar que nós **não chamamos `model.forward()` diretamente!** \n",
    "\n",
    "Ao chamarmos o modelo com os dados de entrada(input), temos como retorno (output) um tensor com 10 dimensões com os valores brutos de previsão para cada classe.\n",
    "\n",
    "As densidades da previsão são obtidas ao passar os dados para uma instância de `nn.Softmax`"
   ]
  },
  {
   "cell_type": "code",
   "execution_count": 41,
   "metadata": {},
   "outputs": [
    {
     "name": "stdout",
     "output_type": "stream",
     "text": [
      "Classe prevista: tensor([2], device='cuda:0')\n"
     ]
    }
   ],
   "source": [
    "X = torch.rand(1, 28, 28, device=device)\n",
    "logits = model(X) \n",
    "pred_probab = nn.Softmax(dim=1)(logits)\n",
    "y_pred = pred_probab.argmax(1)\n",
    "print(f\"Classe prevista: {y_pred}\")"
   ]
  },
  {
   "cell_type": "markdown",
   "metadata": {},
   "source": [
    "#### Pesos e viéses\n",
    "\n",
    "O módulo `nn.Linear` inicializa aleatoriamente os pesos (weights) e viéses (biases) para cada camada (layer) e armazena internamente os valores em tensores."
   ]
  },
  {
   "cell_type": "code",
   "execution_count": 44,
   "metadata": {},
   "outputs": [
    {
     "name": "stdout",
     "output_type": "stream",
     "text": [
      "Pesos lineares iniciais: Parameter containing:\n",
      "tensor([[ 0.0086, -0.0339,  0.0349,  ..., -0.0064,  0.0293, -0.0163],\n",
      "        [ 0.0140, -0.0305, -0.0032,  ..., -0.0269, -0.0038, -0.0006],\n",
      "        [-0.0267, -0.0298, -0.0271,  ...,  0.0238, -0.0287,  0.0168],\n",
      "        ...,\n",
      "        [ 0.0325,  0.0256,  0.0205,  ..., -0.0272, -0.0153,  0.0327],\n",
      "        [-0.0145, -0.0178,  0.0348,  ..., -0.0095, -0.0353,  0.0222],\n",
      "        [ 0.0047,  0.0224, -0.0244,  ...,  0.0017, -0.0131, -0.0126]],\n",
      "       device='cuda:0', requires_grad=True) \n",
      "\n",
      "Viéses(Biases) lineares iniciais: Parameter containing:\n",
      "tensor([-4.1926e-04, -2.8640e-02, -2.9700e-02, -7.7151e-03,  9.7803e-03,\n",
      "         2.2138e-02,  3.9356e-03,  1.6670e-02,  1.0543e-02,  3.3458e-02,\n",
      "        -1.1095e-02,  4.2567e-03,  3.5352e-02,  3.3096e-02, -1.3653e-02,\n",
      "        -2.8712e-02, -1.2468e-02,  1.1056e-02,  2.1126e-02, -9.2065e-04,\n",
      "         1.9918e-02, -1.6668e-02, -4.7309e-03, -3.2674e-02,  1.6663e-02,\n",
      "         4.8627e-03,  2.8092e-02,  1.8225e-02,  1.0289e-03,  1.3265e-03,\n",
      "         3.1552e-02, -1.0177e-02, -7.3763e-03, -2.6496e-02,  1.8731e-02,\n",
      "         2.4605e-02,  2.8292e-02, -1.0226e-02, -7.6525e-03, -2.5476e-02,\n",
      "        -1.8889e-02, -7.5689e-03, -5.2441e-03,  3.5134e-02,  1.6960e-02,\n",
      "         2.3246e-02, -6.5393e-03, -6.7544e-03,  2.4537e-02,  1.9913e-02,\n",
      "        -2.2546e-02,  7.7821e-04,  6.3441e-03, -3.1502e-02, -1.7470e-02,\n",
      "         1.6371e-02, -2.5381e-02, -7.6760e-03,  1.8009e-03,  6.3985e-03,\n",
      "        -2.0258e-02,  2.0212e-02,  9.3464e-03, -3.0989e-02,  1.2495e-02,\n",
      "         1.8892e-02, -3.0320e-02,  2.5583e-02, -2.1322e-02,  7.2256e-03,\n",
      "         1.1476e-02,  1.4093e-03,  3.1312e-02, -4.6538e-03, -3.0591e-02,\n",
      "        -1.7526e-03,  8.0359e-03, -1.6410e-04, -1.6648e-02, -2.7814e-02,\n",
      "        -8.2672e-03,  2.3948e-02,  2.6147e-02,  5.3672e-03,  3.5115e-03,\n",
      "        -7.7908e-03, -2.0127e-02,  1.8883e-02,  1.3006e-02, -2.7163e-02,\n",
      "         1.6521e-03,  3.4946e-02, -2.7967e-02, -2.9433e-02, -5.1829e-03,\n",
      "         1.9713e-02,  1.3319e-02,  3.4644e-02, -2.4011e-02, -2.1589e-03,\n",
      "        -1.6447e-02,  3.1143e-02,  1.9922e-02, -2.9975e-02,  2.1516e-02,\n",
      "        -3.1269e-03,  7.7829e-03, -2.0388e-02,  1.2290e-02,  1.1541e-02,\n",
      "         6.0232e-03,  1.8032e-02,  5.8101e-03,  2.4776e-02, -1.7154e-02,\n",
      "        -3.2798e-02,  1.2774e-02,  2.5250e-02,  6.1244e-03, -2.1243e-02,\n",
      "         1.4760e-02,  7.2525e-03,  3.2615e-02,  2.9427e-02, -3.1985e-02,\n",
      "         1.4648e-02,  5.5304e-03, -6.5361e-03,  9.7887e-03, -1.9218e-02,\n",
      "        -3.0264e-02, -1.0332e-02,  1.7652e-03,  1.1804e-03,  1.3790e-02,\n",
      "        -1.1039e-02,  2.0610e-02, -3.0793e-02, -3.6388e-03,  1.6221e-02,\n",
      "         9.1750e-03,  1.7868e-02, -2.9222e-02,  1.1065e-02, -1.1082e-02,\n",
      "        -1.1529e-03, -1.5189e-02,  2.5858e-02,  2.1487e-02, -3.0545e-02,\n",
      "        -1.4223e-02,  1.0972e-02,  3.1049e-02,  1.5586e-03,  1.4846e-03,\n",
      "         2.5178e-02,  3.2587e-02,  9.1299e-03,  2.9848e-02,  2.1669e-03,\n",
      "        -1.1132e-02,  1.2138e-02,  8.4877e-03,  6.0186e-03, -3.3427e-02,\n",
      "        -1.0211e-02, -3.9548e-03,  3.4259e-02,  6.1586e-03, -2.6038e-02,\n",
      "         3.0873e-02, -9.1128e-03, -2.2278e-02, -2.1437e-02,  3.0359e-02,\n",
      "         2.3034e-02, -1.2161e-02, -2.5189e-02, -1.7067e-02, -9.8756e-04,\n",
      "         1.8214e-02,  3.0786e-03, -2.0872e-02, -2.5040e-02, -2.3000e-02,\n",
      "         1.0317e-02,  2.5267e-02, -2.0593e-02,  1.2282e-02,  6.5862e-03,\n",
      "         8.9541e-03, -2.2057e-02,  1.3113e-03, -3.3739e-02,  1.6426e-02,\n",
      "        -3.0277e-02, -8.5411e-03, -2.9522e-02, -3.8562e-03,  6.6593e-03,\n",
      "         2.2625e-02, -1.7850e-02,  6.9767e-03, -1.8289e-02, -2.4536e-02,\n",
      "        -6.9063e-03, -2.2412e-02,  1.7937e-02,  1.4765e-02, -3.5390e-02,\n",
      "        -3.2994e-03,  3.2934e-02, -1.0944e-02, -2.5125e-02, -2.2367e-02,\n",
      "        -2.7302e-02,  6.8285e-03, -3.4711e-02, -1.7443e-02, -4.4599e-04,\n",
      "         2.2863e-02,  2.8854e-02,  2.5229e-03,  3.4648e-02, -1.7989e-02,\n",
      "         1.1045e-02, -1.0749e-03,  3.5471e-02, -1.1144e-03,  1.6761e-02,\n",
      "         2.7545e-02,  2.0141e-02,  2.0316e-02, -2.2133e-03, -2.5359e-02,\n",
      "         5.0334e-03,  1.8458e-02,  2.7152e-02,  3.1841e-02, -1.8084e-02,\n",
      "        -2.8790e-02,  4.7818e-03,  1.6471e-02,  1.4333e-02,  8.1749e-03,\n",
      "         2.4673e-04,  3.0742e-02,  1.4255e-02, -2.1364e-02,  3.3710e-02,\n",
      "        -1.7926e-02,  1.3007e-02, -3.2656e-02, -2.2845e-02,  8.3500e-03,\n",
      "         3.0598e-02, -3.1218e-02,  3.4942e-02,  2.4398e-02,  1.4537e-03,\n",
      "        -2.9680e-02,  1.0021e-02,  7.9376e-03, -1.6078e-02, -1.1371e-02,\n",
      "        -2.8838e-03, -4.5799e-03,  1.4216e-02,  4.0209e-04,  2.4625e-02,\n",
      "         1.5613e-02,  2.5585e-02, -7.2523e-03, -3.1182e-02, -2.8442e-02,\n",
      "         1.8230e-02, -2.1935e-04,  2.7766e-02, -1.0242e-02,  2.6486e-02,\n",
      "         8.9657e-03, -2.2389e-02,  2.8932e-02, -2.4131e-02,  1.4549e-02,\n",
      "         3.4740e-02, -6.7868e-03, -1.4002e-02, -1.8565e-02, -9.7680e-03,\n",
      "         1.4464e-02,  3.4448e-03,  1.6238e-02,  2.8387e-02,  2.4529e-02,\n",
      "         7.7428e-03,  7.1912e-03,  1.1625e-02,  2.2125e-03, -3.3013e-02,\n",
      "        -3.0444e-02,  5.0177e-03, -3.2088e-02,  1.0049e-02,  2.1666e-02,\n",
      "         1.2442e-04, -1.5655e-02, -7.9355e-05,  2.1654e-02, -2.2448e-02,\n",
      "        -3.2985e-02,  5.5903e-03,  1.0094e-02,  2.9446e-02, -3.1066e-02,\n",
      "        -1.0513e-02, -2.0895e-03, -3.3565e-02,  1.7326e-02, -3.4971e-02,\n",
      "        -2.3969e-02,  2.4430e-02,  3.4175e-02,  7.2354e-03,  3.7703e-03,\n",
      "         3.1363e-02, -1.8071e-02,  2.5517e-03, -1.8913e-03, -1.6205e-02,\n",
      "         3.1709e-02,  3.4069e-02,  2.1251e-02,  1.8949e-02,  3.4608e-02,\n",
      "         1.4097e-03, -2.3594e-02, -2.3241e-02,  9.3059e-03,  1.6850e-02,\n",
      "        -2.1461e-02, -2.7248e-02,  2.1190e-02, -2.9763e-02,  2.9040e-02,\n",
      "        -2.7887e-02,  1.7467e-02, -1.2670e-03,  1.9179e-02, -2.2307e-03,\n",
      "         3.4821e-02, -2.4470e-02,  1.0212e-02, -3.2640e-02,  1.2520e-02,\n",
      "        -3.3421e-02, -1.8647e-02,  1.6202e-02, -1.1077e-02,  8.8541e-03,\n",
      "        -2.5862e-02,  1.6500e-02,  2.4741e-02, -3.4994e-02, -7.7115e-03,\n",
      "        -2.6466e-02, -2.7763e-02, -3.1224e-02, -1.5541e-02, -1.8501e-02,\n",
      "        -1.6379e-02,  3.4999e-02, -2.1125e-02,  7.9752e-03,  3.3036e-02,\n",
      "         2.9378e-02,  2.3885e-02, -1.5895e-02, -1.4905e-02, -2.0435e-02,\n",
      "        -2.7810e-02,  7.6018e-03,  3.5443e-02, -1.7395e-02, -1.1417e-02,\n",
      "        -4.3664e-03,  2.7146e-02, -1.3769e-03, -2.1525e-02,  1.6455e-02,\n",
      "        -1.9334e-02,  3.2107e-02, -5.8889e-03,  8.3536e-04,  2.5290e-02,\n",
      "        -3.3654e-02,  1.9592e-02,  3.9984e-03,  2.8416e-02,  1.8635e-03,\n",
      "         2.9762e-02,  1.1743e-02, -3.2751e-02, -1.3576e-02, -2.8005e-02,\n",
      "        -2.6411e-03, -3.3682e-02,  2.6615e-02,  2.1200e-02,  4.2567e-03,\n",
      "         1.7389e-02, -2.2246e-02,  1.8933e-02, -9.4802e-03, -1.9704e-03,\n",
      "         1.1914e-02, -1.5064e-03,  3.3727e-03,  5.7366e-03, -3.3264e-02,\n",
      "        -2.3124e-02, -3.4192e-02, -3.1607e-02, -2.6710e-02,  3.1974e-02,\n",
      "         3.1678e-02,  1.9207e-02, -1.1010e-02,  1.9827e-02,  1.6682e-02,\n",
      "         2.8818e-02,  1.1594e-02,  1.5401e-02,  1.3848e-02,  2.0845e-02,\n",
      "        -1.3930e-02,  3.2624e-02,  2.4440e-02,  2.8738e-02,  2.7859e-02,\n",
      "         2.0808e-02,  9.1289e-03, -3.4386e-02, -3.3882e-02, -3.4343e-02,\n",
      "         1.5597e-02, -2.8482e-02, -1.6066e-02,  1.2861e-02, -1.7155e-02,\n",
      "        -3.4366e-02,  3.2606e-02, -5.0189e-03,  1.9383e-02, -1.8655e-02,\n",
      "         1.5918e-02, -1.0475e-02, -1.1081e-02,  7.3482e-03, -2.4010e-02,\n",
      "         1.8965e-02, -2.9373e-02, -8.6176e-03,  1.6267e-02, -2.1663e-02,\n",
      "        -2.9196e-02,  6.9450e-03, -1.9730e-02, -3.3669e-02,  2.7147e-02,\n",
      "         2.0357e-02,  1.7815e-02, -4.1226e-03, -4.3306e-03, -3.4996e-02,\n",
      "         2.2691e-02,  1.2816e-02, -8.7690e-04,  3.2769e-02,  2.7699e-02,\n",
      "         2.5722e-02,  2.0710e-02,  1.7058e-02,  4.8849e-03, -3.3224e-02,\n",
      "         1.9965e-02,  2.5612e-02, -3.2427e-03,  2.6989e-02, -1.8264e-02,\n",
      "         6.3398e-03,  1.3308e-03,  4.2982e-03, -1.9009e-02, -2.2181e-02,\n",
      "        -9.6225e-03, -7.8491e-03, -2.7349e-03, -1.2728e-03, -1.7975e-02,\n",
      "        -9.4546e-03, -3.3206e-02, -3.3051e-02,  3.2682e-02,  1.3328e-02,\n",
      "        -6.0826e-03, -2.3971e-02, -2.3007e-03,  2.3729e-02,  2.7770e-02,\n",
      "        -3.3401e-02,  2.3877e-02], device='cuda:0', requires_grad=True) \n",
      "\n"
     ]
    }
   ],
   "source": [
    "print(f\"Pesos lineares iniciais: {model.linear_relu_stack[0].weight} \\n\")\n",
    "\n",
    "print(f\"Viéses(Biases) lineares iniciais: {model.linear_relu_stack[0].bias} \\n\")"
   ]
  },
  {
   "cell_type": "markdown",
   "metadata": {},
   "source": [
    "#### Camadas do modelo\n",
    "Podemos subdividir as camadas (layers) no modelo FashionMNIST. Para ilustrar, tomaremos um minilote com 3 imagens de dimensões 28x28 e ver o que acontece ao passarmos este lote pela rede neural:"
   ]
  },
  {
   "cell_type": "code",
   "execution_count": 45,
   "metadata": {},
   "outputs": [
    {
     "name": "stdout",
     "output_type": "stream",
     "text": [
      "torch.Size([3, 28, 28])\n"
     ]
    }
   ],
   "source": [
    "input_image = torch.rand(3,28,28)\n",
    "print(input_image.size())"
   ]
  },
  {
   "cell_type": "markdown",
   "metadata": {},
   "source": [
    "#### nn.Flatten\n",
    "\n",
    "Inicializamos a camada `nn.Flatten` para converter cada imagem 2D 28x28 em um vetor contíguo de 784 valores de pixels (a dimensão do minilote (em dim=0) é mantida). Cada um dos pixels é passado para a camada de entrada (input layer) da rede neural.\n",
    "\n",
    "![](img/4-model-3.png)"
   ]
  },
  {
   "cell_type": "code",
   "execution_count": 46,
   "metadata": {},
   "outputs": [
    {
     "name": "stdout",
     "output_type": "stream",
     "text": [
      "torch.Size([3, 784])\n"
     ]
    }
   ],
   "source": [
    "flatten = nn.Flatten()\n",
    "flat_image = flatten(input_image)\n",
    "print(flat_image.size())"
   ]
  },
  {
   "cell_type": "markdown",
   "metadata": {},
   "source": [
    "#### nn.Linear\n",
    "\n",
    "A camada linear é um módulo que aplica uma transformação linear sobre a entrada, usando os valores de pesos e viéses armazenados internamente. O valor da escala de cinza (grayscale) de cada pixel no layer de entrada será conectado a neurônios na camada oculta, para cálculo. O cálculo utilizado para esta transformação é ${{weight * input + bias}} $."
   ]
  },
  {
   "cell_type": "code",
   "execution_count": 47,
   "metadata": {},
   "outputs": [
    {
     "name": "stdout",
     "output_type": "stream",
     "text": [
      "torch.Size([3, 20])\n"
     ]
    }
   ],
   "source": [
    "layer1 = nn.Linear(in_features=28*28, out_features=20)\n",
    "hidden1 = layer1(flat_image)\n",
    "print(hidden1.size())"
   ]
  },
  {
   "cell_type": "markdown",
   "metadata": {},
   "source": [
    "#### nn.ReLU\n",
    "\n",
    "Ativações não-lineares são o que criam os mapeamentos complexos entre as entradas e saídas no modelo. Elas são aplicadas após as transformações lineares, para introduzir um caráter não-linear, ajudando assim as redes neurais no aprendizado de uma vasta gama de fenômenos. Neste modelo, usamos a função ReLU entre nossas camadas lineares, mas é possível utilizar outros tipos de função.\n",
    "\n",
    "_Grosso modo_, a função ReLU toma as saídas obtidas das camadas lineares e substitui valores negativos por zeros.\n",
    "\n",
    "Saída linear: ${ x = {weight * input + bias}} $.  \n",
    "ReLU:  $f(x)= \n",
    "\\begin{cases}\n",
    "    0, & \\text{se } x < 0\\\\\n",
    "    x, & \\text{se } x\\geq 0\\\\\n",
    "\\end{cases}\n",
    "$"
   ]
  },
  {
   "cell_type": "code",
   "execution_count": 48,
   "metadata": {},
   "outputs": [
    {
     "name": "stdout",
     "output_type": "stream",
     "text": [
      "Antes do ReLU: tensor([[ 0.2158,  0.0516,  0.1485,  0.0539, -0.2812, -0.0446,  0.0425, -0.0213,\n",
      "          0.3487, -0.2741,  0.1790, -0.0734, -0.1057,  0.2831, -0.1830, -0.5011,\n",
      "          0.1491,  0.0115,  0.4648, -0.2270],\n",
      "        [-0.1100,  0.2561,  0.3743,  0.1342, -0.3538, -0.4352,  0.2379, -0.0286,\n",
      "          0.5223,  0.1682,  0.0774, -0.1895, -0.2785,  0.6129,  0.2382, -1.0676,\n",
      "         -0.3007, -0.2708,  0.4086,  0.0057],\n",
      "        [ 0.1780,  0.4379,  0.2642,  0.1867, -0.0210,  0.1912,  0.0882, -0.0310,\n",
      "          0.4280,  0.0211,  0.2791, -0.1447, -0.1393,  0.3163,  0.0779, -0.6637,\n",
      "          0.0261, -0.4427,  0.6725, -0.2667]], grad_fn=<AddmmBackward0>)\n",
      "\n",
      "\n",
      "Após o ReLU: tensor([[0.2158, 0.0516, 0.1485, 0.0539, 0.0000, 0.0000, 0.0425, 0.0000, 0.3487,\n",
      "         0.0000, 0.1790, 0.0000, 0.0000, 0.2831, 0.0000, 0.0000, 0.1491, 0.0115,\n",
      "         0.4648, 0.0000],\n",
      "        [0.0000, 0.2561, 0.3743, 0.1342, 0.0000, 0.0000, 0.2379, 0.0000, 0.5223,\n",
      "         0.1682, 0.0774, 0.0000, 0.0000, 0.6129, 0.2382, 0.0000, 0.0000, 0.0000,\n",
      "         0.4086, 0.0057],\n",
      "        [0.1780, 0.4379, 0.2642, 0.1867, 0.0000, 0.1912, 0.0882, 0.0000, 0.4280,\n",
      "         0.0211, 0.2791, 0.0000, 0.0000, 0.3163, 0.0779, 0.0000, 0.0261, 0.0000,\n",
      "         0.6725, 0.0000]], grad_fn=<ReluBackward0>)\n"
     ]
    }
   ],
   "source": [
    "print(f\"Antes do ReLU: {hidden1}\\n\\n\")\n",
    "hidden1 = nn.ReLU()(hidden1)\n",
    "print(f\"Após o ReLU: {hidden1}\")"
   ]
  },
  {
   "cell_type": "markdown",
   "metadata": {},
   "source": [
    "#### nn.Sequential\n",
    "\n",
    "O `nn.Sequential` é um contêiner ordenado de módulos. Os dados são passados por todos os módulos na ordem definida. É possível utilizar contêineres em sequência para montar uma rede rápida como `seq.modules`"
   ]
  },
  {
   "cell_type": "code",
   "execution_count": 49,
   "metadata": {},
   "outputs": [],
   "source": [
    "seq_modules = nn.Sequential(\n",
    "    flatten,\n",
    "    layer1,\n",
    "    nn.ReLU(),\n",
    "    nn.Linear(20, 10)\n",
    ")\n",
    "input_image = torch.rand(3,28,28)\n",
    "logits = seq_modules(input_image)"
   ]
  },
  {
   "cell_type": "markdown",
   "metadata": {},
   "source": [
    "#### nn.Softmax\n",
    "\n",
    "A última camada linear da rede neural retorna valores `logits` brutos no intervalo [`-infty`, `infty`], que são passados em seguida para o módulo `nn.Softmax`. A função de ativação Softmax é usada para calcular a probabilidade da saída da rede neural. Ela é apenas utilizada na camada de saída de uma rede neural. Os resultados são, então, escalonados para o intervalo [0,1], representando as densidades previstas para cada classe do modelo. O parâmetro `dim` indica a dimensão através da qual os valores dos resultados, somados, devem resultar em 1. O _node_ com a maior probabilidade então é o que prevê a saída desejada.\n",
    "\n",
    "![](img/4-model-4.png)"
   ]
  },
  {
   "cell_type": "code",
   "execution_count": 50,
   "metadata": {},
   "outputs": [],
   "source": [
    "softmax = nn.Softmax(dim=1)\n",
    "pred_probab = softmax(logits)"
   ]
  },
  {
   "cell_type": "markdown",
   "metadata": {},
   "source": [
    "#### Parâmetros do modelo\n",
    "\n",
    "Muitas camadas dentro de uma rede neural são parametrizadas, isto é, possuem valores de pesos e viéses associados que são optimizados durante o processo do treinamento do modelo. Ao criar uma subclasse de `nn.Module` é possível rastrear automaticamente todos os campos definidos dentro de seu modelo, e permite acessar os parâmetros por meio dos métodos `parameters()` ou `named_parameters()`.\n",
    "\n",
    "No exemplo a seguir, iteramos sobre todos os parâmetros, e imprimimos a dimensão e uma previsão de seus valores."
   ]
  },
  {
   "cell_type": "code",
   "execution_count": 56,
   "metadata": {},
   "outputs": [
    {
     "name": "stdout",
     "output_type": "stream",
     "text": [
      "Estrutura do modelo:  NeuralNetwork(\n",
      "  (flatten): Flatten(start_dim=1, end_dim=-1)\n",
      "  (linear_relu_stack): Sequential(\n",
      "    (0): Linear(in_features=784, out_features=512, bias=True)\n",
      "    (1): ReLU()\n",
      "    (2): Linear(in_features=512, out_features=512, bias=True)\n",
      "    (3): ReLU()\n",
      "    (4): Linear(in_features=512, out_features=10, bias=True)\n",
      "    (5): ReLU()\n",
      "  )\n",
      ") \n",
      "\n",
      "\n",
      "Camada: linear_relu_stack.0.weight | Dimensão: torch.Size([512, 784]) | Valores : tensor([[ 0.0162,  0.0327,  0.0261,  ...,  0.0062, -0.0150, -0.0182],\n",
      "        [-0.0253, -0.0073, -0.0021,  ...,  0.0187, -0.0251, -0.0011]],\n",
      "       device='cuda:0', grad_fn=<SliceBackward0>) \n",
      "\n",
      "Camada: linear_relu_stack.0.bias | Dimensão: torch.Size([512]) | Valores : tensor([-0.0025, -0.0145], device='cuda:0', grad_fn=<SliceBackward0>) \n",
      "\n",
      "Camada: linear_relu_stack.2.weight | Dimensão: torch.Size([512, 512]) | Valores : tensor([[-0.0022,  0.0102,  0.0383,  ..., -0.0177, -0.0194, -0.0326],\n",
      "        [ 0.0152, -0.0040,  0.0315,  ...,  0.0339, -0.0424, -0.0033]],\n",
      "       device='cuda:0', grad_fn=<SliceBackward0>) \n",
      "\n",
      "Camada: linear_relu_stack.2.bias | Dimensão: torch.Size([512]) | Valores : tensor([0.0009, 0.0404], device='cuda:0', grad_fn=<SliceBackward0>) \n",
      "\n",
      "Camada: linear_relu_stack.4.weight | Dimensão: torch.Size([10, 512]) | Valores : tensor([[ 0.0089, -0.0371,  0.0422,  ..., -0.0023,  0.0354, -0.0137],\n",
      "        [-0.0160,  0.0441,  0.0376,  ..., -0.0360, -0.0119,  0.0045]],\n",
      "       device='cuda:0', grad_fn=<SliceBackward0>) \n",
      "\n",
      "Camada: linear_relu_stack.4.bias | Dimensão: torch.Size([10]) | Valores : tensor([-0.0037, -0.0204], device='cuda:0', grad_fn=<SliceBackward0>) \n",
      "\n"
     ]
    }
   ],
   "source": [
    "print(\"Estrutura do modelo: \", model, \"\\n\\n\")\n",
    "\n",
    "for name, param in model.named_parameters():\n",
    "    print(f\"Camada: {name} | Dimensão: {param.size()} | Valores : {param[:2]} \\n\")"
   ]
  },
  {
   "cell_type": "markdown",
   "metadata": {},
   "source": [
    "# Parte 4: Diferenciação automática"
   ]
  },
  {
   "cell_type": "markdown",
   "metadata": {},
   "source": [
    "Ao treinarmos redes neurais, o algoritmo mais frequentemente usado é o de **backpropagation** (para saber mais, clique [aqui](https://sijunhe.github.io/blog/2017/03/27/reading-notes-the-1986-backpropagation-paper/)). Neste algoritmo, os parâmetros (os pesos do modelo) são ajustados de acordo com o **gradiente** da função de perda (loss function) em relação ao parâmetro dado. A função de perda calcula a diferença entre a saída esperada (output) e a obtida por meio da rede neural. A meta é obter um resultado mais próximo possível de zero para essa diferença. O algoritmo é executado de forma reversa na rede neural de modo a ajustar os pesos e viéses, e com isso treinando novamente o modelo. Por essa razão possui o nome de _backpropagation_. Esse processo de execução reiterada, ajustando os valores do modelo ao longo do tempo, para com isso reduzir o valor da perda a zero é chamado **gradiente descendente ou descida de gradiente** (em inglês, _gradient descent_).\n",
    "\n",
    "Para computar estes gradientes, utilizamos uma ferramenta de diferenciação automática do PyTorch chamada de `torch.autograd`. Essa ferramenta oferece suporte a cálculos automáticos de gradientes para qualquer grafo computacional.\n",
    "\n",
    "Consideremos abaixo uma rede neural mais simples possível, com apenas uma camada, com entrada `x`, parâmetros `w` e `b`, e uma função de perda qualquer. Essa rede pode ser definida no PyTorch da seguinte maneira:"
   ]
  },
  {
   "cell_type": "code",
   "execution_count": 57,
   "metadata": {},
   "outputs": [],
   "source": [
    "%matplotlib inline\n",
    "import torch\n",
    "\n",
    "x = torch.ones(5)  # input tensor\n",
    "y = torch.zeros(3)  # expected output\n",
    "w = torch.randn(5, 3, requires_grad=True)\n",
    "b = torch.randn(3, requires_grad=True)\n",
    "z = torch.matmul(x, w)+b\n",
    "loss = torch.nn.functional.binary_cross_entropy_with_logits(z, y)"
   ]
  },
  {
   "cell_type": "markdown",
   "metadata": {},
   "source": [
    "#### Tensores, funções e grafos computacionais\n",
    "\n",
    "O código acima define o grafo computacional a seguir:\n",
    "\n",
    "![](img/5-autograd-1.png)\n",
    "\n",
    "Nessa rede, temos os parâmetros `w` e `b`, a serem optimizados. Assim, é necessário calcular os gradientes da função de perda em relação a essas variáveis. Para fazer isso, devemos definir a propriedade `requires_grad` desses tensores.\n",
    "\n",
    "> **Nota:** É possível definir o valor dessa propriedade durante a criação do tensor, ou após a mesma, usando o método `x.requires_grad(True)`.\n",
    "\n",
    "No PyTorch, uma função que aplicamos a tensores para construir grafos computacionais é um objeto da classe `Function`. Este objeto pode calcular a função na direção frontal (_forward_) e também calcular sua derivada durante a etapa de _propagação reversa_ (backward propagation). Uma referência à função de propagação reversa é armazenada na propriedade `grad_fn` de um tensor."
   ]
  },
  {
   "cell_type": "code",
   "execution_count": 59,
   "metadata": {},
   "outputs": [
    {
     "name": "stdout",
     "output_type": "stream",
     "text": [
      "Função gradiente para z = <AddBackward0 object at 0x7effb98153d0>\n",
      "Função gradiente para a perda = <BinaryCrossEntropyWithLogitsBackward0 object at 0x7effb981cdc0>\n"
     ]
    }
   ],
   "source": [
    "print('Função gradiente para z =',z.grad_fn)\n",
    "print('Função gradiente para a perda =', loss.grad_fn)"
   ]
  },
  {
   "cell_type": "markdown",
   "metadata": {},
   "source": [
    "#### Calculando os gradientes\n",
    "\n",
    "Para optimizar os pesos e viéses dos parâmetros em uma rede neural, precisamos calcular as derivadas de nossa função de perda em relação aos parâmetros. A saber, precisamos das derivadas parciais $\\frac{\\partial loss}{\\partial w}$ e $\\frac{\\partial loss}{\\partial b}$ para alguns valores fixos de `x` e `y`. Para calcular essas derivadas, nós usamos `loss.backward()` e em seguida obtemos os valores de `w.grad` e `b.grad`:"
   ]
  },
  {
   "cell_type": "code",
   "execution_count": 60,
   "metadata": {},
   "outputs": [
    {
     "name": "stdout",
     "output_type": "stream",
     "text": [
      "tensor([[0.1175, 0.2707, 0.0003],\n",
      "        [0.1175, 0.2707, 0.0003],\n",
      "        [0.1175, 0.2707, 0.0003],\n",
      "        [0.1175, 0.2707, 0.0003],\n",
      "        [0.1175, 0.2707, 0.0003]])\n",
      "tensor([0.1175, 0.2707, 0.0003])\n"
     ]
    }
   ],
   "source": [
    "loss.backward()\n",
    "print(w.grad)\n",
    "print(b.grad)"
   ]
  },
  {
   "cell_type": "markdown",
   "metadata": {},
   "source": [
    "> **Nota**: É apenas possível a obtenção das propriedades `grad` dos nós folha do grafo computacional que possuam `requires_grad=True`. Para todos os outros nós em nosso grafo, os gradientes não estão disponíveis. Além disso, é apenas possível executar os cálculos de gradiente utilizando `backward` uma vez para um dado grafo, por questões de performance. Caso seja necessário executar vários passos `backward` em um mesmo grafo, é preciso passar o kwarg `retain_graph=True` na execução de `backward`.\n",
    "\n",
    "#### Desabilitando o rastreamento de gradientes\n",
    "\n",
    "Todos os tensores com `requires_grad=True` armazenam seu histórico de cálculos e oferecem suporte a cálculos de gradiente. Entretanto, há alguns casos em que não queremos que isto aconteça, como por exemplo quando já treinamos o modelo previamente e apenas queremos executá-lo para uma nova entrada de dados (input), isto é, queremos apenas executar cálculos no sentido `forward` da rede neural.\n",
    "\n",
    "Para interrompermos este armazenamento de cálculos, podemos encapsular nosso código com um bloco `torch.no_grad()`:"
   ]
  },
  {
   "cell_type": "code",
   "execution_count": 61,
   "metadata": {},
   "outputs": [
    {
     "name": "stdout",
     "output_type": "stream",
     "text": [
      "True\n",
      "False\n"
     ]
    }
   ],
   "source": [
    "z = torch.matmul(x, w)+b\n",
    "print(z.requires_grad)\n",
    "\n",
    "with torch.no_grad():\n",
    "    z = torch.matmul(x, w)+b\n",
    "print(z.requires_grad)"
   ]
  },
  {
   "cell_type": "markdown",
   "metadata": {},
   "source": [
    "Uma outra maneira de obter o mesmo resultado é através do método `detach()` executado no tensor:"
   ]
  },
  {
   "cell_type": "code",
   "execution_count": 62,
   "metadata": {},
   "outputs": [
    {
     "name": "stdout",
     "output_type": "stream",
     "text": [
      "False\n"
     ]
    }
   ],
   "source": [
    "z = torch.matmul(x, w)+b\n",
    "z_det = z.detach()\n",
    "print(z_det.requires_grad)"
   ]
  },
  {
   "cell_type": "markdown",
   "metadata": {},
   "source": [
    "Há ainda outras razões pelas quais se torna útil interromper o rastreamento de gradientes:\n",
    "- Para indicar que alguns dos parâmetros em sua rede neural são **congelados** (frozen). Isso é um cenário bastante comum em etapas de ajuste de eficiềncia de uma rede neural que já tenha sido treinada anteriormente.\n",
    "- Para **acelerar cálculos** quando se está apenas executando passagens `forward` pela rede, tendo em vista que cálculos em tensores que não estão rastreando gradientes são mais eficientes."
   ]
  },
  {
   "cell_type": "markdown",
   "metadata": {},
   "source": [
    "#### Mais informações sobre grafos computacionais\n",
    "\n",
    "Conceitualmente, "
   ]
  },
  {
   "cell_type": "code",
   "execution_count": 64,
   "metadata": {},
   "outputs": [
    {
     "name": "stdout",
     "output_type": "stream",
     "text": [
      "Primeira execução\n",
      " tensor([[4., 2., 2., 2., 2.],\n",
      "        [2., 4., 2., 2., 2.],\n",
      "        [2., 2., 4., 2., 2.],\n",
      "        [2., 2., 2., 4., 2.],\n",
      "        [2., 2., 2., 2., 4.]])\n",
      "\n",
      "Segunda execução\n",
      " tensor([[8., 4., 4., 4., 4.],\n",
      "        [4., 8., 4., 4., 4.],\n",
      "        [4., 4., 8., 4., 4.],\n",
      "        [4., 4., 4., 8., 4.],\n",
      "        [4., 4., 4., 4., 8.]])\n",
      "\n",
      "Execução após zerar gradientes\n",
      " tensor([[4., 2., 2., 2., 2.],\n",
      "        [2., 4., 2., 2., 2.],\n",
      "        [2., 2., 4., 2., 2.],\n",
      "        [2., 2., 2., 4., 2.],\n",
      "        [2., 2., 2., 2., 4.]])\n"
     ]
    }
   ],
   "source": [
    "inp = torch.eye(5, requires_grad=True)\n",
    "out = (inp+1).pow(2)\n",
    "out.backward(torch.ones_like(inp), retain_graph=True)\n",
    "print(\"Primeira execução\\n\", inp.grad)\n",
    "out.backward(torch.ones_like(inp), retain_graph=True)\n",
    "print(\"\\nSegunda execução\\n\", inp.grad)\n",
    "inp.grad.zero_()\n",
    "out.backward(torch.ones_like(inp), retain_graph=True)\n",
    "print(\"\\nExecução após zerar gradientes\\n\", inp.grad)"
   ]
  },
  {
   "cell_type": "markdown",
   "metadata": {},
   "source": [
    "# Parte 5: Aprendendo sobre o loop de optimização"
   ]
  },
  {
   "cell_type": "code",
   "execution_count": 65,
   "metadata": {},
   "outputs": [],
   "source": [
    "%matplotlib inline\n",
    "import torch\n",
    "from torch import nn\n",
    "from torch.utils.data import DataLoader\n",
    "from torchvision import datasets\n",
    "from torchvision.transforms import ToTensor, Lambda\n",
    "\n",
    "training_data = datasets.FashionMNIST(\n",
    "    root=\"data\",\n",
    "    train=True,\n",
    "    download=True,\n",
    "    transform=ToTensor()\n",
    ")\n",
    "\n",
    "test_data = datasets.FashionMNIST(\n",
    "    root=\"data\",\n",
    "    train=False,\n",
    "    download=True,\n",
    "    transform=ToTensor()\n",
    ")\n",
    "\n",
    "train_dataloader = DataLoader(training_data, batch_size=64)\n",
    "test_dataloader = DataLoader(test_data, batch_size=64)\n",
    "\n",
    "class NeuralNetwork(nn.Module):\n",
    "    def __init__(self):\n",
    "        super(NeuralNetwork, self).__init__()\n",
    "        self.flatten = nn.Flatten()\n",
    "        self.linear_relu_stack = nn.Sequential(\n",
    "            nn.Linear(28*28, 512),\n",
    "            nn.ReLU(),\n",
    "            nn.Linear(512, 512),\n",
    "            nn.ReLU(),\n",
    "            nn.Linear(512, 10),\n",
    "            nn.ReLU()\n",
    "        )\n",
    "\n",
    "    def forward(self, x):\n",
    "        x = self.flatten(x)\n",
    "        logits = self.linear_relu_stack(x)\n",
    "        return logits\n",
    "\n",
    "model = NeuralNetwork()"
   ]
  },
  {
   "cell_type": "code",
   "execution_count": 66,
   "metadata": {},
   "outputs": [],
   "source": [
    "learning_rate = 1e-3\n",
    "batch_size = 64\n",
    "epochs = 5"
   ]
  },
  {
   "cell_type": "code",
   "execution_count": 67,
   "metadata": {},
   "outputs": [],
   "source": [
    "# Inicializando a loss function\n",
    "loss_fn = nn.CrossEntropyLoss()"
   ]
  },
  {
   "cell_type": "code",
   "execution_count": 68,
   "metadata": {},
   "outputs": [],
   "source": [
    "optimizer = torch.optim.SGD(model.parameters(), lr=learning_rate)"
   ]
  },
  {
   "cell_type": "code",
   "execution_count": 69,
   "metadata": {},
   "outputs": [],
   "source": [
    "def train_loop(dataloader, model, loss_fn, optimizer):\n",
    "    size = len(dataloader.dataset)\n",
    "    for batch, (X, y) in enumerate(dataloader):        \n",
    "        # Computa a previsão e a perda\n",
    "        pred = model(X)\n",
    "        loss = loss_fn(pred, y)\n",
    "        \n",
    "        # Backpropagation\n",
    "        optimizer.zero_grad()\n",
    "        loss.backward()\n",
    "        optimizer.step()\n",
    "\n",
    "        if batch % 100 == 0:\n",
    "            loss, current = loss.item(), batch * len(X)\n",
    "            print(f\"loss: {loss:>7f}  [{current:>5d}/{size:>5d}]\")\n",
    "\n",
    "\n",
    "def test_loop(dataloader, model, loss_fn):\n",
    "    size = len(dataloader.dataset)\n",
    "    test_loss, correct = 0, 0\n",
    "\n",
    "    with torch.no_grad():\n",
    "        for X, y in dataloader:\n",
    "            pred = model(X)\n",
    "            test_loss += loss_fn(pred, y).item()\n",
    "            correct += (pred.argmax(1) == y).type(torch.float).sum().item()\n",
    "            \n",
    "    test_loss /= size\n",
    "    correct /= size\n",
    "    print(f\"Erro no teste: \\n Precisão: {(100*correct):>0.1f}%, Perda média: {test_loss:>8f} \\n\")"
   ]
  },
  {
   "cell_type": "code",
   "execution_count": 70,
   "metadata": {},
   "outputs": [
    {
     "name": "stdout",
     "output_type": "stream",
     "text": [
      "Epoch 1\n",
      "-------------------------------\n",
      "loss: 2.307655  [    0/60000]\n",
      "loss: 2.296285  [ 6400/60000]\n",
      "loss: 2.280057  [12800/60000]\n",
      "loss: 2.276619  [19200/60000]\n",
      "loss: 2.253632  [25600/60000]\n",
      "loss: 2.247976  [32000/60000]\n",
      "loss: 2.253484  [38400/60000]\n",
      "loss: 2.235549  [44800/60000]\n",
      "loss: 2.233183  [51200/60000]\n",
      "loss: 2.197762  [57600/60000]\n",
      "Erro no teste: \n",
      " Precisão: 46.1%, Perda média: 0.034616 \n",
      "\n",
      "Epoch 2\n",
      "-------------------------------\n",
      "loss: 2.216839  [    0/60000]\n",
      "loss: 2.188782  [ 6400/60000]\n",
      "loss: 2.160083  [12800/60000]\n",
      "loss: 2.185682  [19200/60000]\n",
      "loss: 2.120147  [25600/60000]\n",
      "loss: 2.110475  [32000/60000]\n",
      "loss: 2.145373  [38400/60000]\n",
      "loss: 2.105047  [44800/60000]\n",
      "loss: 2.116391  [51200/60000]\n",
      "loss: 2.043687  [57600/60000]\n",
      "Erro no teste: \n",
      " Precisão: 46.8%, Perda média: 0.032389 \n",
      "\n",
      "Epoch 3\n",
      "-------------------------------\n",
      "loss: 2.081988  [    0/60000]\n",
      "loss: 2.021157  [ 6400/60000]\n",
      "loss: 1.979194  [12800/60000]\n",
      "loss: 2.047880  [19200/60000]\n",
      "loss: 1.925187  [25600/60000]\n",
      "loss: 1.926949  [32000/60000]\n",
      "loss: 1.987319  [38400/60000]\n",
      "loss: 1.933412  [44800/60000]\n",
      "loss: 1.961932  [51200/60000]\n",
      "loss: 1.851818  [57600/60000]\n",
      "Erro no teste: \n",
      " Precisão: 51.0%, Perda média: 0.029674 \n",
      "\n",
      "Epoch 4\n",
      "-------------------------------\n",
      "loss: 1.917277  [    0/60000]\n",
      "loss: 1.820684  [ 6400/60000]\n",
      "loss: 1.782186  [12800/60000]\n",
      "loss: 1.888684  [19200/60000]\n",
      "loss: 1.752360  [25600/60000]\n",
      "loss: 1.767538  [32000/60000]\n",
      "loss: 1.833444  [38400/60000]\n",
      "loss: 1.793334  [44800/60000]\n",
      "loss: 1.822171  [51200/60000]\n",
      "loss: 1.681712  [57600/60000]\n",
      "Erro no teste: \n",
      " Precisão: 52.5%, Perda média: 0.027403 \n",
      "\n",
      "Epoch 5\n",
      "-------------------------------\n",
      "loss: 1.774839  [    0/60000]\n",
      "loss: 1.660936  [ 6400/60000]\n",
      "loss: 1.625012  [12800/60000]\n",
      "loss: 1.760624  [19200/60000]\n",
      "loss: 1.642658  [25600/60000]\n",
      "loss: 1.647332  [32000/60000]\n",
      "loss: 1.714631  [38400/60000]\n",
      "loss: 1.693829  [44800/60000]\n",
      "loss: 1.721327  [51200/60000]\n",
      "loss: 1.560576  [57600/60000]\n",
      "Erro no teste: \n",
      " Precisão: 53.2%, Perda média: 0.025751 \n",
      "\n",
      "Epoch 6\n",
      "-------------------------------\n",
      "loss: 1.664997  [    0/60000]\n",
      "loss: 1.549654  [ 6400/60000]\n",
      "loss: 1.505899  [12800/60000]\n",
      "loss: 1.671661  [19200/60000]\n",
      "loss: 1.571282  [25600/60000]\n",
      "loss: 1.555534  [32000/60000]\n",
      "loss: 1.631543  [38400/60000]\n",
      "loss: 1.622299  [44800/60000]\n",
      "loss: 1.648675  [51200/60000]\n",
      "loss: 1.477592  [57600/60000]\n",
      "Erro no teste: \n",
      " Precisão: 53.9%, Perda média: 0.024548 \n",
      "\n",
      "Epoch 7\n",
      "-------------------------------\n",
      "loss: 1.582352  [    0/60000]\n",
      "loss: 1.471734  [ 6400/60000]\n",
      "loss: 1.416141  [12800/60000]\n",
      "loss: 1.606167  [19200/60000]\n",
      "loss: 1.518661  [25600/60000]\n",
      "loss: 1.485125  [32000/60000]\n",
      "loss: 1.572371  [38400/60000]\n",
      "loss: 1.569144  [44800/60000]\n",
      "loss: 1.592350  [51200/60000]\n",
      "loss: 1.418602  [57600/60000]\n",
      "Erro no teste: \n",
      " Precisão: 54.4%, Perda média: 0.023631 \n",
      "\n",
      "Epoch 8\n",
      "-------------------------------\n",
      "loss: 1.517940  [    0/60000]\n",
      "loss: 1.413484  [ 6400/60000]\n",
      "loss: 1.347263  [12800/60000]\n",
      "loss: 1.555774  [19200/60000]\n",
      "loss: 1.476673  [25600/60000]\n",
      "loss: 1.431799  [32000/60000]\n",
      "loss: 1.529670  [38400/60000]\n",
      "loss: 1.527925  [44800/60000]\n",
      "loss: 1.546765  [51200/60000]\n",
      "loss: 1.375788  [57600/60000]\n",
      "Erro no teste: \n",
      " Precisão: 54.7%, Perda média: 0.022927 \n",
      "\n",
      "Epoch 9\n",
      "-------------------------------\n",
      "loss: 1.466203  [    0/60000]\n",
      "loss: 1.369318  [ 6400/60000]\n",
      "loss: 1.293052  [12800/60000]\n",
      "loss: 1.515947  [19200/60000]\n",
      "loss: 1.441934  [25600/60000]\n",
      "loss: 1.389646  [32000/60000]\n",
      "loss: 1.497161  [38400/60000]\n",
      "loss: 1.497946  [44800/60000]\n",
      "loss: 1.510195  [51200/60000]\n",
      "loss: 1.342144  [57600/60000]\n",
      "Erro no teste: \n",
      " Precisão: 54.9%, Perda média: 0.022359 \n",
      "\n",
      "Epoch 10\n",
      "-------------------------------\n",
      "loss: 1.423564  [    0/60000]\n",
      "loss: 1.334300  [ 6400/60000]\n",
      "loss: 1.248909  [12800/60000]\n",
      "loss: 1.482247  [19200/60000]\n",
      "loss: 1.412598  [25600/60000]\n",
      "loss: 1.355554  [32000/60000]\n",
      "loss: 1.470673  [38400/60000]\n",
      "loss: 1.475479  [44800/60000]\n",
      "loss: 1.479814  [51200/60000]\n",
      "loss: 1.313755  [57600/60000]\n",
      "Erro no teste: \n",
      " Precisão: 54.9%, Perda média: 0.021884 \n",
      "\n",
      "Done!\n"
     ]
    }
   ],
   "source": [
    "loss_fn = nn.CrossEntropyLoss()\n",
    "optimizer = torch.optim.SGD(model.parameters(), lr=learning_rate)\n",
    "\n",
    "epochs = 10\n",
    "for t in range(epochs):\n",
    "    print(f\"Epoch {t+1}\\n-------------------------------\")\n",
    "    train_loop(train_dataloader, model, loss_fn, optimizer)\n",
    "    test_loop(test_dataloader, model, loss_fn)\n",
    "print(\"Fim!\")"
   ]
  },
  {
   "cell_type": "code",
   "execution_count": 71,
   "metadata": {},
   "outputs": [
    {
     "name": "stdout",
     "output_type": "stream",
     "text": [
      "Modelo salvo em model.pth.\n"
     ]
    }
   ],
   "source": [
    "torch.save(model.state_dict(), \"data/model.pth\")\n",
    "\n",
    "print(\"Modelo salvo em model.pth.\")"
   ]
  },
  {
   "cell_type": "markdown",
   "metadata": {},
   "source": [
    "# Parte 6: Carregando e executando as previsões do modelo"
   ]
  },
  {
   "cell_type": "code",
   "execution_count": 73,
   "metadata": {},
   "outputs": [],
   "source": [
    "%matplotlib inline\n",
    "import torch\n",
    "import onnxruntime\n",
    "from torch import nn\n",
    "import torch.onnx as onnx\n",
    "import torchvision.models as models\n",
    "from torchvision import datasets\n",
    "from torchvision.transforms import ToTensor"
   ]
  },
  {
   "cell_type": "code",
   "execution_count": 74,
   "metadata": {},
   "outputs": [],
   "source": [
    "class NeuralNetwork(nn.Module):\n",
    "    def __init__(self):\n",
    "        super(NeuralNetwork, self).__init__()\n",
    "        self.flatten = nn.Flatten()\n",
    "        self.linear_relu_stack = nn.Sequential(\n",
    "            nn.Linear(28*28, 512),\n",
    "            nn.ReLU(),\n",
    "            nn.Linear(512, 512),\n",
    "            nn.ReLU(),\n",
    "            nn.Linear(512, 10),\n",
    "            nn.ReLU()\n",
    "        )\n",
    "\n",
    "    def forward(self, x):\n",
    "        x = self.flatten(x)\n",
    "        logits = self.linear_relu_stack(x)\n",
    "        return logits"
   ]
  },
  {
   "cell_type": "code",
   "execution_count": 75,
   "metadata": {},
   "outputs": [
    {
     "data": {
      "text/plain": [
       "NeuralNetwork(\n",
       "  (flatten): Flatten(start_dim=1, end_dim=-1)\n",
       "  (linear_relu_stack): Sequential(\n",
       "    (0): Linear(in_features=784, out_features=512, bias=True)\n",
       "    (1): ReLU()\n",
       "    (2): Linear(in_features=512, out_features=512, bias=True)\n",
       "    (3): ReLU()\n",
       "    (4): Linear(in_features=512, out_features=10, bias=True)\n",
       "    (5): ReLU()\n",
       "  )\n",
       ")"
      ]
     },
     "execution_count": 75,
     "metadata": {},
     "output_type": "execute_result"
    }
   ],
   "source": [
    "model = NeuralNetwork()\n",
    "model.load_state_dict(torch.load('data/model.pth'))\n",
    "model.eval()"
   ]
  },
  {
   "cell_type": "code",
   "execution_count": 76,
   "metadata": {},
   "outputs": [],
   "source": [
    "input_image = torch.zeros((1,28,28))\n",
    "onnx_model = 'data/model.onnx'\n",
    "onnx.export(model, input_image, onnx_model)"
   ]
  },
  {
   "cell_type": "code",
   "execution_count": 77,
   "metadata": {},
   "outputs": [],
   "source": [
    "test_data = datasets.FashionMNIST(\n",
    "    root=\"data\",\n",
    "    train=False,\n",
    "    download=True,\n",
    "    transform=ToTensor()\n",
    ")\n",
    "\n",
    "classes = [\n",
    "    \"T-shirt/top\",\n",
    "    \"Trouser\",\n",
    "    \"Pullover\",\n",
    "    \"Dress\",\n",
    "    \"Coat\",\n",
    "    \"Sandal\",\n",
    "    \"Shirt\",\n",
    "    \"Sneaker\",\n",
    "    \"Bag\",\n",
    "    \"Ankle boot\",\n",
    "]\n",
    "x, y = test_data[0][0], test_data[0][1]"
   ]
  },
  {
   "cell_type": "code",
   "execution_count": 81,
   "metadata": {},
   "outputs": [
    {
     "name": "stdout",
     "output_type": "stream",
     "text": [
      "Previsto: \"Ankle boot\", Atual: \"Ankle boot\"\n"
     ]
    }
   ],
   "source": [
    "session = onnxruntime.InferenceSession(onnx_model, providers=['CUDAExecutionProvider'])\n",
    "input_name = session.get_inputs()[0].name\n",
    "output_name = session.get_outputs()[0].name\n",
    "\n",
    "result = session.run([output_name], {input_name: x.numpy()})\n",
    "predicted, actual = classes[result[0][0].argmax(0)], classes[y]\n",
    "print(f'Previsto: \"{predicted}\", Atual: \"{actual}\"')"
   ]
  },
  {
   "cell_type": "markdown",
   "metadata": {},
   "source": [
    "# Parte 7: O processo completo de construção do modelo"
   ]
  },
  {
   "cell_type": "markdown",
   "metadata": {},
   "source": [
    "Vamos agora resumir todo o processo, executando as etapas em sequência para uma compreensão mais holística de como funciona a criação e a execução do modelo."
   ]
  },
  {
   "cell_type": "code",
   "execution_count": 51,
   "metadata": {},
   "outputs": [],
   "source": [
    "%matplotlib inline\n",
    "import torch\n",
    "from torch import nn\n",
    "from torch.utils.data import DataLoader\n",
    "from torchvision import datasets\n",
    "from torchvision.transforms import ToTensor, Lambda, Compose\n",
    "import matplotlib.pyplot as plt"
   ]
  },
  {
   "cell_type": "code",
   "execution_count": 52,
   "metadata": {},
   "outputs": [],
   "source": [
    "# Baixando dados de treino do dataset:\n",
    "training_data = datasets.FashionMNIST(\n",
    "    root=\"data\",\n",
    "    train=True,\n",
    "    download=True,\n",
    "    transform=ToTensor(),\n",
    ")\n",
    "\n",
    "# Baixando dados de teste do dataset:\n",
    "test_data = datasets.FashionMNIST(\n",
    "    root=\"data\",\n",
    "    train=False,\n",
    "    download=True,\n",
    "    transform=ToTensor(),\n",
    ")"
   ]
  },
  {
   "cell_type": "code",
   "execution_count": 53,
   "metadata": {},
   "outputs": [
    {
     "name": "stdout",
     "output_type": "stream",
     "text": [
      "Dimensões de X [N, C, H, W]:  torch.Size([64, 1, 28, 28])\n",
      "Dimensões de y:  torch.Size([64]) torch.int64\n"
     ]
    },
    {
     "data": {
      "image/png": "[encoded data removed]",
      "text/plain": [
       "<Figure size 720x576 with 25 Axes>"
      ]
     },
     "metadata": {
      "needs_background": "light"
     },
     "output_type": "display_data"
    }
   ],
   "source": [
    "batch_size = 64\n",
    "\n",
    "# Criando os DataLoaders.\n",
    "train_dataloader = DataLoader(training_data, batch_size=batch_size)\n",
    "test_dataloader = DataLoader(test_data, batch_size=batch_size)\n",
    "\n",
    "for X, y in test_dataloader:\n",
    "    print(\"Dimensões de X [N, C, H, W]: \", X.shape)\n",
    "    print(\"Dimensões de y: \", y.shape, y.dtype)\n",
    "    break\n",
    "    \n",
    "# Mostrando exemplos dos dados\n",
    "figure = plt.figure(figsize=(10, 8))\n",
    "cols, rows = 5, 5\n",
    "for i in range(1, cols * rows + 1):\n",
    "    idx = torch.randint(len(test_data), size=(1,)).item()\n",
    "    img, label = test_data[idx]\n",
    "    figure.add_subplot(rows, cols, i)\n",
    "    plt.title(label)\n",
    "    plt.axis(\"off\")\n",
    "    plt.imshow(img.squeeze(), cmap=\"gray\")\n",
    "plt.show()"
   ]
  },
  {
   "cell_type": "code",
   "execution_count": 54,
   "metadata": {},
   "outputs": [
    {
     "name": "stdout",
     "output_type": "stream",
     "text": [
      "Usando cuda.\n",
      "NeuralNetwork(\n",
      "  (flatten): Flatten(start_dim=1, end_dim=-1)\n",
      "  (linear_relu_stack): Sequential(\n",
      "    (0): Linear(in_features=784, out_features=512, bias=True)\n",
      "    (1): ReLU()\n",
      "    (2): Linear(in_features=512, out_features=512, bias=True)\n",
      "    (3): ReLU()\n",
      "    (4): Linear(in_features=512, out_features=10, bias=True)\n",
      "    (5): ReLU()\n",
      "  )\n",
      ")\n"
     ]
    }
   ],
   "source": [
    "# Escolhendo o dispositivo de treino:\n",
    "device = \"cuda\" if torch.cuda.is_available() else \"cpu\"\n",
    "print(f\"Usando {device}.\")\n",
    "\n",
    "# Definindo o modelo\n",
    "class NeuralNetwork(nn.Module):\n",
    "    def __init__(self):\n",
    "        super(NeuralNetwork, self).__init__()\n",
    "        self.flatten = nn.Flatten()\n",
    "        self.linear_relu_stack = nn.Sequential(\n",
    "            nn.Linear(28*28, 512),\n",
    "            nn.ReLU(),\n",
    "            nn.Linear(512, 512),\n",
    "            nn.ReLU(),\n",
    "            nn.Linear(512, 10),\n",
    "            nn.ReLU()\n",
    "        )\n",
    "\n",
    "    def forward(self, x):\n",
    "        x = self.flatten(x)\n",
    "        logits = self.linear_relu_stack(x)\n",
    "        return logits\n",
    "\n",
    "model = NeuralNetwork().to(device)\n",
    "print(model)"
   ]
  },
  {
   "cell_type": "code",
   "execution_count": 55,
   "metadata": {},
   "outputs": [],
   "source": [
    "# Optimizando os parâmetros do modelo\n",
    "\n",
    "loss_fn = nn.CrossEntropyLoss()\n",
    "learning_rate = 1e-3\n",
    "optimizer = torch.optim.SGD(model.parameters(), lr=learning_rate)"
   ]
  },
  {
   "cell_type": "code",
   "execution_count": 56,
   "metadata": {},
   "outputs": [],
   "source": [
    "# Treinando o modelo\n",
    "def train(dataloader, model, loss_fn, optimizer):\n",
    "    size = len(dataloader.dataset)\n",
    "    for batch, (X, y) in enumerate(dataloader):\n",
    "        X, y = X.to(device), y.to(device)\n",
    "        \n",
    "        # Calculando o erro nas previsões\n",
    "        pred = model(X)\n",
    "        loss = loss_fn(pred, y)\n",
    "        \n",
    "        # Backpropagation\n",
    "        optimizer.zero_grad()\n",
    "        loss.backward()\n",
    "        optimizer.step()\n",
    "\n",
    "        if batch % 100 == 0:\n",
    "            loss, current = loss.item(), batch * len(X)\n",
    "            print(f\"loss: {loss:>7f}  [{current:>5d}/{size:>5d}]\")"
   ]
  },
  {
   "cell_type": "code",
   "execution_count": 57,
   "metadata": {},
   "outputs": [],
   "source": [
    "# Testando o desempenho do modelo para verificar sua eficiência\n",
    "def test(dataloader, model):\n",
    "    size = len(dataloader.dataset)\n",
    "    model.eval()\n",
    "    test_loss, correct = 0, 0\n",
    "    with torch.no_grad():\n",
    "        for X, y in dataloader:\n",
    "            X, y = X.to(device), y.to(device)\n",
    "            pred = model(X)\n",
    "            test_loss += loss_fn(pred, y).item()\n",
    "            correct += (pred.argmax(1) == y).type(torch.float).sum().item()\n",
    "    test_loss /= size\n",
    "    correct /= size\n",
    "    print(f\"Erros no teste: \\n Previsão: {(100*correct):>0.1f}%, Perda média: {test_loss:>8f} \\n\")"
   ]
  },
  {
   "cell_type": "code",
   "execution_count": 58,
   "metadata": {},
   "outputs": [
    {
     "name": "stdout",
     "output_type": "stream",
     "text": [
      "Epoch 1\n",
      "-------------------------------\n",
      "loss: 2.305469  [    0/60000]\n",
      "loss: 2.295341  [ 6400/60000]\n",
      "loss: 2.280827  [12800/60000]\n",
      "loss: 2.274299  [19200/60000]\n",
      "loss: 2.270704  [25600/60000]\n",
      "loss: 2.239027  [32000/60000]\n",
      "loss: 2.256210  [38400/60000]\n",
      "loss: 2.225467  [44800/60000]\n",
      "loss: 2.230449  [51200/60000]\n",
      "loss: 2.200821  [57600/60000]\n",
      "Erros no teste: \n",
      " Previsão: 41.4%, Perda média: 0.034694 \n",
      "\n",
      "Epoch 2\n",
      "-------------------------------\n",
      "loss: 2.223240  [    0/60000]\n",
      "loss: 2.222971  [ 6400/60000]\n",
      "loss: 2.168818  [12800/60000]\n",
      "loss: 2.167040  [19200/60000]\n",
      "loss: 2.172105  [25600/60000]\n",
      "loss: 2.102654  [32000/60000]\n",
      "loss: 2.139273  [38400/60000]\n",
      "loss: 2.079427  [44800/60000]\n",
      "loss: 2.103875  [51200/60000]\n",
      "loss: 2.036804  [57600/60000]\n",
      "Erros no teste: \n",
      " Previsão: 47.1%, Perda média: 0.032272 \n",
      "\n",
      "Epoch 3\n",
      "-------------------------------\n",
      "loss: 2.099289  [    0/60000]\n",
      "loss: 2.087212  [ 6400/60000]\n",
      "loss: 1.971647  [12800/60000]\n",
      "loss: 1.973247  [19200/60000]\n",
      "loss: 1.985877  [25600/60000]\n",
      "loss: 1.878708  [32000/60000]\n",
      "loss: 1.937018  [38400/60000]\n",
      "loss: 1.844219  [44800/60000]\n",
      "loss: 1.900565  [51200/60000]\n",
      "loss: 1.786677  [57600/60000]\n",
      "Erros no teste: \n",
      " Previsão: 49.6%, Perda média: 0.028677 \n",
      "\n",
      "Epoch 4\n",
      "-------------------------------\n",
      "loss: 1.917105  [    0/60000]\n",
      "loss: 1.895553  [ 6400/60000]\n",
      "loss: 1.719290  [12800/60000]\n",
      "loss: 1.722023  [19200/60000]\n",
      "loss: 1.771955  [25600/60000]\n",
      "loss: 1.634182  [32000/60000]\n",
      "loss: 1.711410  [38400/60000]\n",
      "loss: 1.617959  [44800/60000]\n",
      "loss: 1.701133  [51200/60000]\n",
      "loss: 1.552101  [57600/60000]\n",
      "Erros no teste: \n",
      " Previsão: 54.4%, Perda média: 0.025461 \n",
      "\n",
      "Epoch 5\n",
      "-------------------------------\n",
      "loss: 1.751212  [    0/60000]\n",
      "loss: 1.726396  [ 6400/60000]\n",
      "loss: 1.519394  [12800/60000]\n",
      "loss: 1.519536  [19200/60000]\n",
      "loss: 1.595766  [25600/60000]\n",
      "loss: 1.459036  [32000/60000]\n",
      "loss: 1.533411  [38400/60000]\n",
      "loss: 1.466619  [44800/60000]\n",
      "loss: 1.547382  [51200/60000]\n",
      "loss: 1.391144  [57600/60000]\n",
      "Erros no teste: \n",
      " Previsão: 56.5%, Perda média: 0.023124 \n",
      "\n",
      "Epoch 6\n",
      "-------------------------------\n",
      "loss: 1.616917  [    0/60000]\n",
      "loss: 1.596264  [ 6400/60000]\n",
      "loss: 1.374143  [12800/60000]\n",
      "loss: 1.379891  [19200/60000]\n",
      "loss: 1.431456  [25600/60000]\n",
      "loss: 1.315686  [32000/60000]\n",
      "loss: 1.369145  [38400/60000]\n",
      "loss: 1.338454  [44800/60000]\n",
      "loss: 1.408982  [51200/60000]\n",
      "loss: 1.187244  [57600/60000]\n",
      "Erros no teste: \n",
      " Previsão: 58.2%, Perda média: 0.020329 \n",
      "\n",
      "Epoch 7\n",
      "-------------------------------\n",
      "loss: 1.423205  [    0/60000]\n",
      "loss: 1.438016  [ 6400/60000]\n",
      "loss: 1.151029  [12800/60000]\n",
      "loss: 1.200169  [19200/60000]\n",
      "loss: 1.291957  [25600/60000]\n",
      "loss: 1.201470  [32000/60000]\n",
      "loss: 1.263237  [38400/60000]\n",
      "loss: 1.246096  [44800/60000]\n",
      "loss: 1.316998  [51200/60000]\n",
      "loss: 1.094716  [57600/60000]\n",
      "Erros no teste: \n",
      " Previsão: 59.6%, Perda média: 0.018887 \n",
      "\n",
      "Epoch 8\n",
      "-------------------------------\n",
      "loss: 1.323460  [    0/60000]\n",
      "loss: 1.360306  [ 6400/60000]\n",
      "loss: 1.050165  [12800/60000]\n",
      "loss: 1.112340  [19200/60000]\n",
      "loss: 1.213968  [25600/60000]\n",
      "loss: 1.125604  [32000/60000]\n",
      "loss: 1.195391  [38400/60000]\n",
      "loss: 1.182514  [44800/60000]\n",
      "loss: 1.246869  [51200/60000]\n",
      "loss: 1.038521  [57600/60000]\n",
      "Erros no teste: \n",
      " Previsão: 60.9%, Perda média: 0.017898 \n",
      "\n",
      "Epoch 9\n",
      "-------------------------------\n",
      "loss: 1.246540  [    0/60000]\n",
      "loss: 1.302987  [ 6400/60000]\n",
      "loss: 0.978049  [12800/60000]\n",
      "loss: 1.053594  [19200/60000]\n",
      "loss: 1.155283  [25600/60000]\n",
      "loss: 1.067789  [32000/60000]\n",
      "loss: 1.145197  [38400/60000]\n",
      "loss: 1.134032  [44800/60000]\n",
      "loss: 1.190171  [51200/60000]\n",
      "loss: 0.996421  [57600/60000]\n",
      "Erros no teste: \n",
      " Previsão: 62.1%, Perda média: 0.017137 \n",
      "\n",
      "Epoch 10\n",
      "-------------------------------\n",
      "loss: 1.183183  [    0/60000]\n",
      "loss: 1.256420  [ 6400/60000]\n",
      "loss: 0.920531  [12800/60000]\n",
      "loss: 1.006752  [19200/60000]\n",
      "loss: 1.109964  [25600/60000]\n",
      "loss: 1.020638  [32000/60000]\n",
      "loss: 1.104739  [38400/60000]\n",
      "loss: 1.095437  [44800/60000]\n",
      "loss: 1.142975  [51200/60000]\n",
      "loss: 0.962993  [57600/60000]\n",
      "Erros no teste: \n",
      " Previsão: 63.3%, Perda média: 0.016519 \n",
      "\n",
      "Epoch 11\n",
      "-------------------------------\n",
      "loss: 1.130177  [    0/60000]\n",
      "loss: 1.218432  [ 6400/60000]\n",
      "loss: 0.873138  [12800/60000]\n",
      "loss: 0.968974  [19200/60000]\n",
      "loss: 1.073870  [25600/60000]\n",
      "loss: 0.981197  [32000/60000]\n",
      "loss: 1.070857  [38400/60000]\n",
      "loss: 1.063276  [44800/60000]\n",
      "loss: 1.103106  [51200/60000]\n",
      "loss: 0.935113  [57600/60000]\n",
      "Erros no teste: \n",
      " Previsão: 64.6%, Perda média: 0.016003 \n",
      "\n",
      "Epoch 12\n",
      "-------------------------------\n",
      "loss: 1.085093  [    0/60000]\n",
      "loss: 1.187697  [ 6400/60000]\n",
      "loss: 0.832663  [12800/60000]\n",
      "loss: 0.936780  [19200/60000]\n",
      "loss: 1.045724  [25600/60000]\n",
      "loss: 0.947714  [32000/60000]\n",
      "loss: 1.042145  [38400/60000]\n",
      "loss: 1.036067  [44800/60000]\n",
      "loss: 1.068879  [51200/60000]\n",
      "loss: 0.911969  [57600/60000]\n",
      "Erros no teste: \n",
      " Previsão: 65.7%, Perda média: 0.015563 \n",
      "\n",
      "Epoch 13\n",
      "-------------------------------\n",
      "loss: 1.045619  [    0/60000]\n",
      "loss: 1.161385  [ 6400/60000]\n",
      "loss: 0.798098  [12800/60000]\n",
      "loss: 0.909335  [19200/60000]\n",
      "loss: 1.022780  [25600/60000]\n",
      "loss: 0.919195  [32000/60000]\n",
      "loss: 1.016500  [38400/60000]\n",
      "loss: 1.012835  [44800/60000]\n",
      "loss: 1.039034  [51200/60000]\n",
      "loss: 0.891074  [57600/60000]\n",
      "Erros no teste: \n",
      " Previsão: 66.7%, Perda média: 0.015177 \n",
      "\n",
      "Epoch 14\n",
      "-------------------------------\n",
      "loss: 1.010707  [    0/60000]\n",
      "loss: 1.137796  [ 6400/60000]\n",
      "loss: 0.768390  [12800/60000]\n",
      "loss: 0.886247  [19200/60000]\n",
      "loss: 1.003184  [25600/60000]\n",
      "loss: 0.895105  [32000/60000]\n",
      "loss: 0.993357  [38400/60000]\n",
      "loss: 0.992454  [44800/60000]\n",
      "loss: 1.012835  [51200/60000]\n",
      "loss: 0.873168  [57600/60000]\n",
      "Erros no teste: \n",
      " Previsão: 67.6%, Perda média: 0.014831 \n",
      "\n",
      "Epoch 15\n",
      "-------------------------------\n",
      "loss: 0.979762  [    0/60000]\n",
      "loss: 1.115854  [ 6400/60000]\n",
      "loss: 0.742398  [12800/60000]\n",
      "loss: 0.866736  [19200/60000]\n",
      "loss: 0.986415  [25600/60000]\n",
      "loss: 0.873832  [32000/60000]\n",
      "loss: 0.972087  [38400/60000]\n",
      "loss: 0.974495  [44800/60000]\n",
      "loss: 0.989631  [51200/60000]\n",
      "loss: 0.857345  [57600/60000]\n",
      "Erros no teste: \n",
      " Previsão: 68.4%, Perda média: 0.014519 \n",
      "\n",
      "Fim!\n"
     ]
    }
   ],
   "source": [
    "# Vamos executar em 15 ciclos. \n",
    "epochs = 15\n",
    "for t in range(epochs):\n",
    "    print(f\"Epoch {t+1}\\n-------------------------------\")\n",
    "    train(train_dataloader, model, loss_fn, optimizer)\n",
    "    test(test_dataloader, model)\n",
    "print(\"Fim!\")"
   ]
  },
  {
   "cell_type": "code",
   "execution_count": 59,
   "metadata": {},
   "outputs": [
    {
     "name": "stdout",
     "output_type": "stream",
     "text": [
      "Modelo salvo em model.pth\n"
     ]
    }
   ],
   "source": [
    "# É possível salvar o modelo\n",
    "torch.save(model.state_dict(), \"data/model.pth\")\n",
    "print(\"Modelo salvo em model.pth\")"
   ]
  },
  {
   "cell_type": "code",
   "execution_count": 60,
   "metadata": {},
   "outputs": [
    {
     "data": {
      "text/plain": [
       "<All keys matched successfully>"
      ]
     },
     "execution_count": 60,
     "metadata": {},
     "output_type": "execute_result"
    }
   ],
   "source": [
    "# E carregar modelos salvos\n",
    "model = NeuralNetwork()\n",
    "model.load_state_dict(torch.load(\"data/model.pth\"))"
   ]
  },
  {
   "cell_type": "code",
   "execution_count": 62,
   "metadata": {},
   "outputs": [
    {
     "name": "stdout",
     "output_type": "stream",
     "text": [
      "Predicted: \"Ankle boot\", Actual: \"Ankle boot\"\n"
     ]
    }
   ],
   "source": [
    "# E em seguida, utilizar um modelo salvo para efetuar previsões.\n",
    "classes = [\n",
    "    \"T-shirt/top\",\n",
    "    \"Trouser\",\n",
    "    \"Pullover\",\n",
    "    \"Dress\",\n",
    "    \"Coat\",\n",
    "    \"Sandal\",\n",
    "    \"Shirt\",\n",
    "    \"Sneaker\",\n",
    "    \"Bag\",\n",
    "    \"Ankle boot\",\n",
    "]\n",
    "\n",
    "model.eval()\n",
    "x, y = test_data[0][0], test_data[0][1]\n",
    "with torch.no_grad():\n",
    "    pred = model(x)\n",
    "    predicted, actual = classes[pred[0].argmax(0)], classes[y]\n",
    "    print(f'Predicted: \"{predicted}\", Actual: \"{actual}\"')"
   ]
  }
 ],
 "metadata": {
  "kernelspec": {
   "display_name": "Python 3.9.13 ('intro-pytorch')",
   "language": "python",
   "name": "python3"
  },
  "language_info": {
   "codemirror_mode": {
    "name": "ipython",
    "version": 3
   },
   "file_extension": ".py",
   "mimetype": "text/x-python",
   "name": "python",
   "nbconvert_exporter": "python",
   "pygments_lexer": "ipython3",
   "version": "3.9.13"
  },
  "orig_nbformat": 4,
  "vscode": {
   "interpreter": {
    "hash": "75e9abd45e6be526d8622b7f981aa0daba29749ea801e913e6f82b84980524c2"
   }
  }
 },
 "nbformat": 4,
 "nbformat_minor": 2
}
