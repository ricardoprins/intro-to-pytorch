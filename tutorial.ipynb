{
 "cells": [
  {
   "cell_type": "markdown",
   "metadata": {},
   "source": [
    "# Parte 1: Tensores"
   ]
  },
  {
   "cell_type": "markdown",
   "metadata": {},
   "source": [
    "### Tensores\n",
    "\n",
    "Tensores são uma estrutura de dados especializada, parecidos com vetores/matrizes. No PyTorch, tensores são utilizados para codificar entradas(inputs) e saídas(outputs) em um modelo, e também os parâmetros desse modelo.\n",
    "\n",
    "<img src=img/2-tensor-1.png>\n",
    "\n",
    "Tensores no PyTorch são similares a `ndarray` no NumPy, com a diferença que tensores podem ser executados em GPUs. Caso sejam utilizados em CPUs, tensores e `ndarrays` podem compartilhar o mesmo endereço na memória, eliminando assim a necessidade de copiar os dados de um para o outro (leia mais sobre isso pesquisando por `bridge-to-np-label`). Tensores são também optimizados para diferenciação automática. Caso você tenha familiaridade com a API NumPy de `ndarrrays`, você não terá nenhum problema em utilizar tensores no PyTorch."
   ]
  },
  {
   "cell_type": "markdown",
   "metadata": {},
   "source": [
    "## Inicializando tensores\n",
    "\n",
    "Tensores podem ser inicializados de várias maneiras: os dados podem ser passados diretamente (o data type é inferido automaticamente pelo PyTorch); por meio de um `np.array`; por meio de outro tensor; ou ainda com valores constantes ou aleatórios.\n",
    "\n",
    "Veja os exemplos a seguir:"
   ]
  },
  {
   "cell_type": "code",
   "execution_count": 96,
   "metadata": {},
   "outputs": [],
   "source": [
    "%matplotlib inline\n",
    "import torch\n",
    "import numpy as np"
   ]
  },
  {
   "cell_type": "markdown",
   "metadata": {},
   "source": [
    "#### Inicialização direta"
   ]
  },
  {
   "cell_type": "code",
   "execution_count": 3,
   "metadata": {},
   "outputs": [],
   "source": [
    "data = [[1, 2],[3, 4]]\n",
    "x_data = torch.tensor(data)"
   ]
  },
  {
   "cell_type": "markdown",
   "metadata": {},
   "source": [
    "#### Inicialização a partir de array NumPy"
   ]
  },
  {
   "cell_type": "code",
   "execution_count": 4,
   "metadata": {},
   "outputs": [
    {
     "name": "stdout",
     "output_type": "stream",
     "text": [
      "Valor do np_array (Numpy): \n",
      " [[1 2]\n",
      " [3 4]] \n",
      "\n",
      "Valor do tensor (pytorch): \n",
      " tensor([[1, 2],\n",
      "        [3, 4]]) \n",
      "\n",
      "Valor do np_array depois da multiplicação: \n",
      " [[2 4]\n",
      " [6 8]] \n",
      "\n",
      "Valor do tensor depois da multiplicação: \n",
      " tensor([[2, 4],\n",
      "        [6, 8]]) \n",
      "\n"
     ]
    }
   ],
   "source": [
    "np_array = np.array(data)\n",
    "x_np = torch.from_numpy(np_array)\n",
    "\n",
    "print(f\"Valor do np_array (Numpy): \\n {np_array} \\n\")\n",
    "print(f\"Valor do tensor (pytorch): \\n {x_np} \\n\")\n",
    "\n",
    "# Observe que alterações no array numpy são propagadas para o tensor, visto que compartilham o mesmo endereço na memória!\n",
    "\n",
    "np.multiply(np_array, 2, out=np_array)\n",
    "\n",
    "print(f\"Valor do np_array depois da multiplicação: \\n {np_array} \\n\")\n",
    "print(f\"Valor do tensor depois da multiplicação: \\n {x_np} \\n\")"
   ]
  },
  {
   "cell_type": "markdown",
   "metadata": {},
   "source": [
    "#### Inicialização a partir de outro tensor"
   ]
  },
  {
   "cell_type": "code",
   "execution_count": 6,
   "metadata": {},
   "outputs": [
    {
     "name": "stdout",
     "output_type": "stream",
     "text": [
      "Tensor unitário: \n",
      " tensor([[1, 1],\n",
      "        [1, 1]]) \n",
      "\n",
      "Tensor aleatório: \n",
      " tensor([[0.6456, 0.4287],\n",
      "        [0.0766, 0.9469]]) \n",
      "\n"
     ]
    }
   ],
   "source": [
    "x_ones = torch.ones_like(x_data) # mantém as propriedades do x_data\n",
    "print(f\"Tensor unitário: \\n {x_ones} \\n\")\n",
    "\n",
    "x_rand = torch.rand_like(x_data, dtype=torch.float) # sobreescreve as propriedades do x_data\n",
    "print(f\"Tensor aleatório: \\n {x_rand} \\n\")"
   ]
  },
  {
   "cell_type": "markdown",
   "metadata": {},
   "source": [
    "#### Inicialização com valores constantes/aleatórios\n",
    "\n",
    "A variável `shape` abaixo é um _tuplo_ que armazena as dimensões do tensor. Veja no exemplo abaixo o output dos tensores, conforme criados com as funções `rand`, `ones` e `zeros`:"
   ]
  },
  {
   "cell_type": "code",
   "execution_count": 7,
   "metadata": {},
   "outputs": [
    {
     "name": "stdout",
     "output_type": "stream",
     "text": [
      "Tensor aleatório: \n",
      " tensor([[0.7274, 0.7206, 0.9310],\n",
      "        [0.9329, 0.8290, 0.4387]]) \n",
      "\n",
      "Tensor unitário: \n",
      " tensor([[1., 1., 1.],\n",
      "        [1., 1., 1.]]) \n",
      "\n",
      "Tensor zero: \n",
      " tensor([[0., 0., 0.],\n",
      "        [0., 0., 0.]])\n"
     ]
    }
   ],
   "source": [
    "shape = (2,3,)\n",
    "rand_tensor = torch.rand(shape)\n",
    "ones_tensor = torch.ones(shape)\n",
    "zeros_tensor = torch.zeros(shape)\n",
    "\n",
    "print(f\"Tensor aleatório: \\n {rand_tensor} \\n\")\n",
    "print(f\"Tensor unitário: \\n {ones_tensor} \\n\")\n",
    "print(f\"Tensor zero: \\n {zeros_tensor}\")"
   ]
  },
  {
   "cell_type": "markdown",
   "metadata": {},
   "source": [
    "## Atributos de um tensor\n",
    "\n",
    "Os atributos do tensor descrevem sua forma (shape), tipo de dados e o dispositivo no qual o mesmo está armazenado."
   ]
  },
  {
   "cell_type": "code",
   "execution_count": 98,
   "metadata": {},
   "outputs": [
    {
     "name": "stdout",
     "output_type": "stream",
     "text": [
      "Forma do tensor: torch.Size([3, 4])\n",
      "Tipo de dados do tensor: torch.float32\n",
      "Dispositivo armazenando o tensor: cpu\n"
     ]
    }
   ],
   "source": [
    "tensor = torch.rand(3,4)\n",
    "\n",
    "print(f\"Forma do tensor: {tensor.shape}\")\n",
    "print(f\"Tipo de dados do tensor: {tensor.dtype}\")\n",
    "print(f\"Dispositivo armazenando o tensor: {tensor.device}\")"
   ]
  },
  {
   "cell_type": "markdown",
   "metadata": {},
   "source": [
    "## Operações em tensores\n",
    "\n",
    "O PyTorch possui funcionalidades para mais de 100 operações com tensores, incluindo operações aritméticas, de álgebra linear e de manipulação de matrizes. Para saber mais, clique [aqui](https://pytorch.org/docs/stable/torch.html) (em inglês).\n",
    "\n",
    "Cada uma dessas operações podem ser executadas no GPU (normalmente bem mais rápido do que em CPUs). O PyTorch pode usar a library CUDA da Nvidia, obtendo assim uma vantagem significativa com placas de vídeo.\n",
    "\n",
    "Tensores são criados inicialmente no CPU, mas podem ser movidos por meio do método `.to()`, conforme exemplo abaixo. Lembre-se que para tensores maiores, essa operação possui um custo alto em tempo e memória."
   ]
  },
  {
   "cell_type": "code",
   "execution_count": 99,
   "metadata": {},
   "outputs": [],
   "source": [
    "# Caso possível, podemos mover o tensor para o acelerador GPU.\n",
    "if torch.cuda.is_available():\n",
    "    tensor = tensor.to('cuda')"
   ]
  },
  {
   "cell_type": "markdown",
   "metadata": {},
   "source": [
    "#### Exemplos de operações - indexing e slicing"
   ]
  },
  {
   "cell_type": "code",
   "execution_count": 10,
   "metadata": {},
   "outputs": [
    {
     "name": "stdout",
     "output_type": "stream",
     "text": [
      "Primeira linha:  tensor([1., 1., 1., 1.])\n",
      "Primeira coluna:  tensor([1., 1., 1., 1.])\n",
      "Última coluna: tensor([1., 1., 1., 1.])\n",
      "tensor([[1., 0., 1., 1.],\n",
      "        [1., 0., 1., 1.],\n",
      "        [1., 0., 1., 1.],\n",
      "        [1., 0., 1., 1.]])\n"
     ]
    }
   ],
   "source": [
    "tensor = torch.ones(4, 4)\n",
    "print('Primeira linha: ',tensor[0])\n",
    "print('Primeira coluna: ', tensor[:, 0])\n",
    "print('Última coluna:', tensor[..., -1])\n",
    "tensor[:,1] = 0\n",
    "print(tensor)"
   ]
  },
  {
   "cell_type": "markdown",
   "metadata": {},
   "source": [
    "#### União de tensores"
   ]
  },
  {
   "cell_type": "code",
   "execution_count": 100,
   "metadata": {},
   "outputs": [
    {
     "name": "stdout",
     "output_type": "stream",
     "text": [
      "tensor([[0.3936, 0.2243, 0.4822, 0.6408, 0.3936, 0.2243, 0.4822, 0.6408, 0.3936,\n",
      "         0.2243, 0.4822, 0.6408],\n",
      "        [0.0801, 0.8140, 0.3581, 0.6557, 0.0801, 0.8140, 0.3581, 0.6557, 0.0801,\n",
      "         0.8140, 0.3581, 0.6557],\n",
      "        [0.1877, 0.6010, 0.8480, 0.1845, 0.1877, 0.6010, 0.8480, 0.1845, 0.1877,\n",
      "         0.6010, 0.8480, 0.1845]], device='cuda:0')\n"
     ]
    }
   ],
   "source": [
    "# Concatenando três tensores\n",
    "\n",
    "t1 = torch.cat([tensor, tensor, tensor], dim=1)\n",
    "print(t1)"
   ]
  },
  {
   "cell_type": "markdown",
   "metadata": {},
   "source": [
    "#### Operações aritméticas"
   ]
  },
  {
   "cell_type": "code",
   "execution_count": 21,
   "metadata": {},
   "outputs": [
    {
     "data": {
      "text/plain": [
       "tensor([[1., 0., 1., 1.],\n",
       "        [1., 0., 1., 1.],\n",
       "        [1., 0., 1., 1.],\n",
       "        [1., 0., 1., 1.]])"
      ]
     },
     "execution_count": 21,
     "metadata": {},
     "output_type": "execute_result"
    }
   ],
   "source": [
    "y1 = tensor @ tensor.T\n",
    "y2 = tensor.matmul(tensor.T)\n",
    "\n",
    "y3 = torch.rand_like(tensor)\n",
    "\n",
    "torch.matmul(tensor, tensor.T, out=y3)\n",
    "\n",
    "\n",
    "z1 = tensor * tensor\n",
    "z2 = tensor.mul(tensor)\n",
    "\n",
    "z3 = torch.rand_like(tensor)\n",
    "\n",
    "torch.mul(tensor, tensor, out=z3)"
   ]
  },
  {
   "cell_type": "markdown",
   "metadata": {},
   "source": [
    "#### Tensores unitários\n",
    "\n",
    "Caso você possua um tensor unitário, isto é, com apenas um elemento, este pode ser convertido para um valor numérico usando `item()`:"
   ]
  },
  {
   "cell_type": "code",
   "execution_count": 22,
   "metadata": {},
   "outputs": [
    {
     "name": "stdout",
     "output_type": "stream",
     "text": [
      "12.0 <class 'float'>\n"
     ]
    }
   ],
   "source": [
    "agg = tensor.sum()\n",
    "agg_item = agg.item()  \n",
    "print(agg_item, type(agg_item))"
   ]
  },
  {
   "cell_type": "markdown",
   "metadata": {},
   "source": [
    "#### Operações _in-place_\n",
    "\n",
    "Operações que armazenam o resultado diretamente no operando são chamadas _in-place_. No PyTorch, elas são indicadas através do sufixo `_`. Por exemplo:"
   ]
  },
  {
   "cell_type": "code",
   "execution_count": 23,
   "metadata": {},
   "outputs": [
    {
     "name": "stdout",
     "output_type": "stream",
     "text": [
      "tensor([[1., 0., 1., 1.],\n",
      "        [1., 0., 1., 1.],\n",
      "        [1., 0., 1., 1.],\n",
      "        [1., 0., 1., 1.]]) \n",
      "\n",
      "tensor([[6., 5., 6., 6.],\n",
      "        [6., 5., 6., 6.],\n",
      "        [6., 5., 6., 6.],\n",
      "        [6., 5., 6., 6.]])\n"
     ]
    }
   ],
   "source": [
    "print(tensor, \"\\n\")\n",
    "tensor.add_(5)\n",
    "print(tensor)"
   ]
  },
  {
   "cell_type": "markdown",
   "metadata": {},
   "source": [
    "## Interoperabilidade entre tensores e arrays NumPy\n",
    "\n",
    "Conforme mencionado anteriormente, caso tensores estejam armazenados na CPU, os endereços de memória de tensores e arrays NumPy são compartilhados e, por isso, alterações feitas em um são propagadas para o outro. \n",
    "\n",
    "Veja os exemplos a seguir:"
   ]
  },
  {
   "cell_type": "code",
   "execution_count": 24,
   "metadata": {},
   "outputs": [
    {
     "name": "stdout",
     "output_type": "stream",
     "text": [
      "t: tensor([1., 1., 1., 1., 1.])\n",
      "n: [1. 1. 1. 1. 1.]\n"
     ]
    }
   ],
   "source": [
    "t = torch.ones(5)\n",
    "print(f\"t: {t}\")\n",
    "n = t.numpy()\n",
    "print(f\"n: {n}\")"
   ]
  },
  {
   "cell_type": "code",
   "execution_count": 25,
   "metadata": {},
   "outputs": [
    {
     "name": "stdout",
     "output_type": "stream",
     "text": [
      "t: tensor([2., 2., 2., 2., 2.])\n",
      "n: [2. 2. 2. 2. 2.]\n"
     ]
    }
   ],
   "source": [
    "t.add_(1)\n",
    "print(f\"t: {t}\")\n",
    "print(f\"n: {n}\")"
   ]
  },
  {
   "cell_type": "code",
   "execution_count": 26,
   "metadata": {},
   "outputs": [],
   "source": [
    "n = np.ones(5)\n",
    "t = torch.from_numpy(n)"
   ]
  },
  {
   "cell_type": "code",
   "execution_count": 27,
   "metadata": {},
   "outputs": [
    {
     "name": "stdout",
     "output_type": "stream",
     "text": [
      "t: tensor([2., 2., 2., 2., 2.], dtype=torch.float64)\n",
      "n: [2. 2. 2. 2. 2.]\n"
     ]
    }
   ],
   "source": [
    "np.add(n, 1, out=n)\n",
    "print(f\"t: {t}\")\n",
    "print(f\"n: {n}\")"
   ]
  },
  {
   "cell_type": "markdown",
   "metadata": {},
   "source": [
    "# Parte 2: Carregando e normalizando datasets"
   ]
  },
  {
   "cell_type": "markdown",
   "metadata": {},
   "source": [
    "## Datasets e Dataloaders\n",
    "\n",
    "A manutenção de código para alteração e manipulação de dados pode se tornar complexa e difícil de ser executada; o ideal é que o código para essas operações sejam feitas separadamente, e não em conjunto com o código para treino de modelos. Com isso, melhoramos a leitura e facilitamos a manutenção do código. \n",
    "\n",
    "Para auxiliar nessas tarefas, o PyTorch oferece dois tipos primitivos de dados: `torch.utils.data.DataLoader` e `torch.utils.data.Dataset`, que permitem tanto a utilização de datasets preexistentes no PyTorch quanto datasets fornecidos pelo usuário.\n",
    "\n",
    "`Dataset` armazena os dados e seus _labels_ correspondentes, e `DataLoader` encapsula o `Dataset` em um _iterable_ para permitir fácil acesso aos dados.\n",
    "\n",
    "Há uma série de datasets disponíveis no PyTorch (como FashionMNIST, por exemplo) que são subclasses de `torch.utils.data.Dataset`, e que implementam funções específicas aos dados às quais se referem. Há dados disponíveis para imagens, texto e áudio."
   ]
  },
  {
   "cell_type": "markdown",
   "metadata": {},
   "source": [
    "## Carregando um dataset\n",
    "\n",
    "Para este tutorial, vamos utilizar o dataset *Fashion-MNIST*, do TorchVision (clique [aqui](https://github.com/zalandoresearch/fashion-mnist) para mais informações sobre o dataset).\n",
    "\n",
    "Algumas informações sobre o dataset:\n",
    "\n",
    "- Cada imagem possui 28x28 pixels de dimensão, totalizando 784 pixels.\n",
    "- As imagens são categorizadas em 10 classes, que correspondem ao tipo de vestimenta da imagem, como: _t-shirt/top_, _trouser_, _dress_, etc. (em português: camisa, calça, vestido)\n",
    "- As imagens possuem dados sobre escala de cinza (grayscale) em cada pixel, variando de 0 a 255, correspondente à medida da intensidade de preto/branco em cada pixel, sendo 0 correspondente à cor branca e 255, à cor negra.\n",
    "\n",
    "![](img/3-data-1.png)\n",
    "\n",
    "O dataset será carregado com os parâmetros abaixo:\n",
    "\n",
    "- *root* é o local no qual os dados de treino e teste serão armazenados;\n",
    "- *train* especifica os dados de treino e teste;\n",
    "- *download=True* este kwarg assegura o download dos dados, caso estes não estejam presentes no _root_\n",
    "- *transform* e *target_transform* especificam as transformações de _features_ e _labels_ no dataset.\n"
   ]
  },
  {
   "cell_type": "code",
   "execution_count": 28,
   "metadata": {},
   "outputs": [
    {
     "name": "stdout",
     "output_type": "stream",
     "text": [
      "Downloading http://fashion-mnist.s3-website.eu-central-1.amazonaws.com/train-images-idx3-ubyte.gz\n",
      "Downloading http://fashion-mnist.s3-website.eu-central-1.amazonaws.com/train-images-idx3-ubyte.gz to data/FashionMNIST/raw/train-images-idx3-ubyte.gz\n"
     ]
    },
    {
     "name": "stderr",
     "output_type": "stream",
     "text": [
      "100.0%\n"
     ]
    },
    {
     "name": "stdout",
     "output_type": "stream",
     "text": [
      "Extracting data/FashionMNIST/raw/train-images-idx3-ubyte.gz to data/FashionMNIST/raw\n",
      "\n",
      "Downloading http://fashion-mnist.s3-website.eu-central-1.amazonaws.com/train-labels-idx1-ubyte.gz\n",
      "Downloading http://fashion-mnist.s3-website.eu-central-1.amazonaws.com/train-labels-idx1-ubyte.gz to data/FashionMNIST/raw/train-labels-idx1-ubyte.gz\n"
     ]
    },
    {
     "name": "stderr",
     "output_type": "stream",
     "text": [
      "100.0%\n"
     ]
    },
    {
     "name": "stdout",
     "output_type": "stream",
     "text": [
      "Extracting data/FashionMNIST/raw/train-labels-idx1-ubyte.gz to data/FashionMNIST/raw\n",
      "\n",
      "Downloading http://fashion-mnist.s3-website.eu-central-1.amazonaws.com/t10k-images-idx3-ubyte.gz\n",
      "Downloading http://fashion-mnist.s3-website.eu-central-1.amazonaws.com/t10k-images-idx3-ubyte.gz to data/FashionMNIST/raw/t10k-images-idx3-ubyte.gz\n"
     ]
    },
    {
     "name": "stderr",
     "output_type": "stream",
     "text": [
      "100.0%\n"
     ]
    },
    {
     "name": "stdout",
     "output_type": "stream",
     "text": [
      "Extracting data/FashionMNIST/raw/t10k-images-idx3-ubyte.gz to data/FashionMNIST/raw\n",
      "\n",
      "Downloading http://fashion-mnist.s3-website.eu-central-1.amazonaws.com/t10k-labels-idx1-ubyte.gz\n",
      "Downloading http://fashion-mnist.s3-website.eu-central-1.amazonaws.com/t10k-labels-idx1-ubyte.gz to data/FashionMNIST/raw/t10k-labels-idx1-ubyte.gz\n"
     ]
    },
    {
     "name": "stderr",
     "output_type": "stream",
     "text": [
      "100.0%"
     ]
    },
    {
     "name": "stdout",
     "output_type": "stream",
     "text": [
      "Extracting data/FashionMNIST/raw/t10k-labels-idx1-ubyte.gz to data/FashionMNIST/raw\n",
      "\n"
     ]
    },
    {
     "name": "stderr",
     "output_type": "stream",
     "text": [
      "\n"
     ]
    }
   ],
   "source": [
    "%matplotlib inline\n",
    "import torch\n",
    "from torch.utils.data import Dataset\n",
    "from torchvision import datasets\n",
    "from torchvision.transforms import ToTensor, Lambda\n",
    "import matplotlib.pyplot as plt\n",
    "\n",
    "training_data = datasets.FashionMNIST(\n",
    "    root=\"data\",\n",
    "    train=True,\n",
    "    download=True,\n",
    "    transform=ToTensor()\n",
    ")\n",
    "\n",
    "test_data = datasets.FashionMNIST(\n",
    "    root=\"data\",\n",
    "    train=False,\n",
    "    download=True,\n",
    "    transform=ToTensor()\n",
    ")"
   ]
  },
  {
   "cell_type": "markdown",
   "metadata": {},
   "source": [
    "#### Visualizando os dados do dataset\n",
    "\n",
    "Podemos indexar os dados manualmente usando uma lista, e em seguida visualizá-los usando `matplotlib`:"
   ]
  },
  {
   "cell_type": "code",
   "execution_count": 29,
   "metadata": {},
   "outputs": [
    {
     "data": {
      "image/png": "[encoded data removed]",
      "text/plain": [
       "<Figure size 576x576 with 9 Axes>"
      ]
     },
     "metadata": {
      "needs_background": "light"
     },
     "output_type": "display_data"
    }
   ],
   "source": [
    "labels_map = {\n",
    "    0: \"T-Shirt\",\n",
    "    1: \"Trouser\",\n",
    "    2: \"Pullover\",\n",
    "    3: \"Dress\",\n",
    "    4: \"Coat\",\n",
    "    5: \"Sandal\",\n",
    "    6: \"Shirt\",\n",
    "    7: \"Sneaker\",\n",
    "    8: \"Bag\",\n",
    "    9: \"Ankle Boot\",\n",
    "}\n",
    "figure = plt.figure(figsize=(8, 8))\n",
    "cols, rows = 3, 3\n",
    "for i in range(1, cols * rows + 1):\n",
    "    sample_idx = torch.randint(len(training_data), size=(1,)).item()\n",
    "    img, label = training_data[sample_idx]\n",
    "    figure.add_subplot(rows, cols, i)\n",
    "    plt.title(labels_map[label])\n",
    "    plt.axis(\"off\")\n",
    "    plt.imshow(img.squeeze(), cmap=\"gray\")\n",
    "plt.show()"
   ]
  },
  {
   "cell_type": "markdown",
   "metadata": {},
   "source": [
    "#### Preparando os dados com DataLoaders\n",
    "---\n",
    "\n",
    "Ao utilizarmos a classe `Dataset`, podemos obter _features_ e _labels_ de nosso dataset uma amostra de cada vez. Ao treinarmos um modelo, o ideal é que possamos passar amostras em \"minilotes\"(minibatches), reembaralhando os dados em cada ciclo(epoch) para evitar _overfitting_ no modelo, e usando multiprocessamento para acelerar a obtenção/extração dos dados neste processo.\n",
    "\n",
    "É preciso, em Machine Learning, especificar quais são as _features_ e _labels_ em nossos datasets. As **_features_** são os inputs (entradas) e as **_labels_** são os outputs (saídas). \n",
    "\n",
    "Usamos as _features_ ao treinar o modelo, para tentar estimar e prever as _labels_."
   ]
  },
  {
   "cell_type": "code",
   "execution_count": 30,
   "metadata": {},
   "outputs": [],
   "source": [
    "from torch.utils.data import DataLoader\n",
    "\n",
    "train_dataloader = DataLoader(training_data, batch_size=64, shuffle=True)\n",
    "test_dataloader = DataLoader(test_data, batch_size=64, shuffle=True)"
   ]
  },
  {
   "cell_type": "markdown",
   "metadata": {},
   "source": [
    "#### Iterando sobre o DataLoader\n",
    "---\n",
    "\n",
    "Agora que carregamos os dados do dataset em um `DataLoader`, podemos iterar sobre ele conforme necessário. Cada iteração abaixo retorna um lote (batch) de `train_features` e `train_labels` (contendo _features_ e _labels_ de `batch_size=64`). Por termos especificado `shuffle=True`, os dados serão embaralhados após uma iteração (para um controle mais detalhado sobre a ordem de carregamento dos dados).\n"
   ]
  },
  {
   "cell_type": "code",
   "execution_count": 101,
   "metadata": {},
   "outputs": [
    {
     "name": "stdout",
     "output_type": "stream",
     "text": [
      "Dimensões do lote de features: torch.Size([64, 1, 28, 28])\n",
      "Dimensões do lote de labels: torch.Size([64])\n"
     ]
    },
    {
     "data": {
      "image/png": "[encoded data removed]",
      "text/plain": [
       "<Figure size 432x288 with 1 Axes>"
      ]
     },
     "metadata": {
      "needs_background": "light"
     },
     "output_type": "display_data"
    },
    {
     "name": "stdout",
     "output_type": "stream",
     "text": [
      "Label: 9\n"
     ]
    }
   ],
   "source": [
    "# Exibindo imagens e rótulos:\n",
    "train_features, train_labels = next(iter(train_dataloader))\n",
    "print(f\"Dimensões do lote de features: {train_features.size()}\")\n",
    "print(f\"Dimensões do lote de labels: {train_labels.size()}\")\n",
    "img = train_features[0].squeeze()\n",
    "label = train_labels[0]\n",
    "plt.imshow(img, cmap=\"gray\")\n",
    "plt.show()\n",
    "print(f\"Label: {label}\")"
   ]
  },
  {
   "cell_type": "markdown",
   "metadata": {},
   "source": [
    "#### Normalização\n",
    "\n",
    "A normalização é uma técnica comum de pré-processamento que é aplicada para escalonar ou transformar os dados, assegurando assim uma contribuição equitativa de cada _feature_ no treinamento do modelo. Por exemplo, para o nosso modelo, cada pixel possui um valor entre 0 e 255 - nossos _features_. Caso um valor de pixel seja 17 e outro seja 197, pode haver uma distribuição desigual na hora de classificar a importância dos pixels, uma vez que valores maiores poderão exercer influência mais significativa no cálculo do aprendizado do modelo. Para resolver este problema utilizamos a normalização, que consiste em mudar a variância (range) dos dados, sem que isso distorça seu valor proporcional na _feature_ (em caso de dúvidas, leia mais a respeito [aqui](https://medium.com/ipnet-growth-partner/padronizacao-normalizacao-dados-machine-learning-f8f29246c12).)\n",
    "\n",
    "Executar a normalização dos dados evita redução na precisão do modelo, dificuldade no aprendizado do modelo, e distribuição desfavorável de variâncias (ranges) entre _features_."
   ]
  },
  {
   "cell_type": "markdown",
   "metadata": {},
   "source": [
    "#### ToTensor()\n",
    "---\n",
    "A função `ToTensor()` converte uma imagem PIL ou `ndarray` NumPy em um `FloatTensor` e escalona a intensidade de pixels da imagem para valores no intervalo [0.,1.].\n",
    "\n",
    "#### Transformações Lambda\n",
    "---\n",
    "As transformações `Lambda` aplicam um _lambda_ qualquer definido pelo usuário. Aqui, definimos uma função que transforma o valor inteiro em um tensor _one-hot encoded_ (leia mais a respeito [aqui](https://hackernoon.com/what-is-one-hot-encoding-why-and-when-do-you-have-to-use-it-e3c6186d008f).) Inicialmente, criamos um tensor zero de tamanho 10 (o número de _labels_ no dataset) e usamos um _scatter_ que atribui um `value=1` no index conforme dado pela label _y_. Você também pode usar `torch.nn.functional.one_hot` para fazer a mesma coisa."
   ]
  },
  {
   "cell_type": "code",
   "execution_count": 38,
   "metadata": {},
   "outputs": [],
   "source": [
    "from torchvision import datasets\n",
    "from torchvision.transforms import ToTensor, Lambda\n",
    "\n",
    "ds = datasets.FashionMNIST(\n",
    "    root=\"data\",\n",
    "    train=True,\n",
    "    download=True,\n",
    "    transform=ToTensor(),\n",
    "    target_transform=Lambda(lambda y: torch.zeros(10, dtype=torch.float).scatter_(0, torch.tensor(y), value=1))\n",
    ")"
   ]
  },
  {
   "cell_type": "code",
   "execution_count": 39,
   "metadata": {},
   "outputs": [],
   "source": [
    "target_transform = Lambda(lambda y: torch.zeros(\n",
    "    10, dtype=torch.float).scatter_(dim=0, index=torch.tensor(y), value=1))"
   ]
  },
  {
   "cell_type": "markdown",
   "metadata": {},
   "source": [
    "# Parte 3: Construindo as camadas do modelo"
   ]
  },
  {
   "cell_type": "markdown",
   "metadata": {},
   "source": [
    "## O que são Redes Neurais?\n",
    "\n",
    "Redes neurais são uma coleção de neurônios conectados por camadas (layers). Cada neurônio é uma pequena unidade computacional que executa cálculos simples para resolver coletivamente um problema. Os neurônios, por sua vez, são organizados em camadas. Há em redes neurais três tipos de camadas: entrada (input layers), oculta (hidden layers), e saída (output layers). Cada camada contém um número de neurônios, com exceção da camada de entrada. \n",
    "\n",
    "Redes neurais tentam imitar a maneira através da qual o cérebro humano processa informação.\n",
    "\n",
    "![](img/4-model-1.png)"
   ]
  },
  {
   "cell_type": "markdown",
   "metadata": {},
   "source": [
    "#### Componentes de uma rede neural\n",
    "\n",
    "- Função de ativação (activation function): determina se um neurônio deve ou não ser ativado. Os cálculos que acontecem em uma rede neural incluem a aplicação de uma função de ativação. Caso um neurônio seja ativado, isso significa que a entrada (input) é significativa. Existem diferentes tipos de funções de ativações. A escolha da função dependerá do tipo de saída (output) desejado. Outra função importante das funções de ativação é a de adicionar não-linearidade ao modelo. Eis abaixo alguns tipos de funções de ativação (leia mais a respeito [aqui](https://iaexpert.academy/2020/05/25/funcoes-de-ativacao-definicao-caracteristicas-e-quando-usar-cada-uma/)):\n",
    "   - Binário\n",
    "   - Sigmóide (sigmoid)\n",
    "   - tanh (tangente hiperbólica)\n",
    "   - Unidade linear retificada (ReLU)\n",
    "- Pesos (weights): medidas de influência que determinam quão bem a saída (output) de nossa rede neural se aproximam do valor esperado. Quando uma entrada (input) é passada para um neurônio, ela é multiplicada por um valor (o peso), e a saída resultante é ou observada ou transmitida para a camada seguinte na rede. Pesos para todos os neurônios em uma camada são organizados em um tensor.\n",
    "- Viés (bias): valor que representa a diferença entre a saída da função de ativação e o valor esperado. Um viés (bias) baixo sugere que a rede neural está inferindo mais (making more assumptions) sobre a forma da saída (output), enquanto um valor alto sugere o contrário.\n",
    "\n",
    "![](img/4-model-2.png)"
   ]
  },
  {
   "cell_type": "markdown",
   "metadata": {},
   "source": [
    "É possível afirmar que uma saída (output) _y_ de uma camada em uma rede neural com peso _W_ e viés _b_ seja computada como o somatório das entradas multiplicado pelos pesos e somada com o viés, $x = \\sum{(weights * inputs) + bias} $, onde $f(x)$ é a função de ativação."
   ]
  },
  {
   "cell_type": "code",
   "execution_count": 40,
   "metadata": {},
   "outputs": [],
   "source": [
    "%matplotlib inline\n",
    "import os\n",
    "import torch\n",
    "from torch import nn\n",
    "from torch.utils.data import DataLoader\n",
    "from torchvision import datasets, transforms"
   ]
  },
  {
   "cell_type": "markdown",
   "metadata": {},
   "source": [
    "#### Treinando o modelo na GPU\n",
    "\n",
    "Queremos treinar nosso modelo, se possível, na GPU. Para isso:"
   ]
  },
  {
   "cell_type": "code",
   "execution_count": 41,
   "metadata": {},
   "outputs": [
    {
     "name": "stdout",
     "output_type": "stream",
     "text": [
      "Using cuda device\n"
     ]
    }
   ],
   "source": [
    "device = 'cuda' if torch.cuda.is_available() else 'cpu'\n",
    "print('Using {} device'.format(device))"
   ]
  },
  {
   "cell_type": "markdown",
   "metadata": {},
   "source": [
    "#### Definindo a classe\n",
    "\n",
    "Definimos nossa rede neural como uma subclasse de `nn.Module`, e inicializamos as camadas(layers) em `__init__`. Cada subclasse de `nn.Module` implementa as operações nos dados de entrada(inputs) no método `forward()`.\n",
    "\n",
    "Nossa rede neural é composta de:\n",
    "\n",
    "- Uma camada de entrada (input layer) com 28x28 = 784 features/pixels.\n",
    "- O primeiro módulo linear, que transforma os 784 features em uma camada oculta (hidden layer) com 512 features.\n",
    "- Uma função de ativação ReLU, aplicada à essa transformação\n",
    "- O segundo módulo linear, que transforma os 512 features da primeira camada oculta em outra camada oculta com 512 features.\n",
    "- Uma função de ativação ReLU, aplicada à essa transformação\n",
    "- O terceiro módulo linear, que transforma os 512 features da primeira camada oculta em uma camada de saída, com 10 features, correspondentes ao número de classes do modelo.\n",
    "- Uma função de ativação ReLU, aplicada à essa transformação"
   ]
  },
  {
   "cell_type": "code",
   "execution_count": 102,
   "metadata": {},
   "outputs": [],
   "source": [
    "class NeuralNetwork(nn.Module):\n",
    "    def __init__(self):\n",
    "        super(NeuralNetwork, self).__init__()\n",
    "        self.flatten = nn.Flatten()\n",
    "        self.linear_relu_stack = nn.Sequential(\n",
    "            nn.Linear(28*28, 512),\n",
    "            nn.ReLU(),\n",
    "            nn.Linear(512, 512),\n",
    "            nn.ReLU(),\n",
    "            nn.Linear(512, 10),\n",
    "            nn.ReLU()\n",
    "        )\n",
    "\n",
    "    def forward(self, x):\n",
    "        x = self.flatten(x)\n",
    "        logits = self.linear_relu_stack(x)\n",
    "        return logits"
   ]
  },
  {
   "cell_type": "markdown",
   "metadata": {},
   "source": [
    "Criamos então uma instância da classe `NeuralNetwork`, e a movemos para o `device`, imprimindo a seguir sua estrutura."
   ]
  },
  {
   "cell_type": "code",
   "execution_count": 43,
   "metadata": {},
   "outputs": [
    {
     "name": "stdout",
     "output_type": "stream",
     "text": [
      "NeuralNetwork(\n",
      "  (flatten): Flatten(start_dim=1, end_dim=-1)\n",
      "  (linear_relu_stack): Sequential(\n",
      "    (0): Linear(in_features=784, out_features=512, bias=True)\n",
      "    (1): ReLU()\n",
      "    (2): Linear(in_features=512, out_features=512, bias=True)\n",
      "    (3): ReLU()\n",
      "    (4): Linear(in_features=512, out_features=10, bias=True)\n",
      "    (5): ReLU()\n",
      "  )\n",
      ")\n"
     ]
    }
   ],
   "source": [
    "model = NeuralNetwork().to(device)\n",
    "print(model)"
   ]
  },
  {
   "cell_type": "markdown",
   "metadata": {},
   "source": [
    "Para usar o modelo, passamos os dados de entrada. Essa operação executa o `forward()` do modelo, além de algumas outras operações internas adicionais. É importante ressaltar que nós **não chamamos `model.forward()` diretamente!** \n",
    "\n",
    "Ao chamarmos o modelo com os dados de entrada(input), temos como retorno (output) um tensor com 10 dimensões com os valores brutos de previsão para cada classe.\n",
    "\n",
    "As densidades da previsão são obtidas ao passar os dados para uma instância de `nn.Softmax`"
   ]
  },
  {
   "cell_type": "code",
   "execution_count": 48,
   "metadata": {},
   "outputs": [
    {
     "name": "stdout",
     "output_type": "stream",
     "text": [
      "Classe predita: tensor([3], device='cuda:0')\n"
     ]
    }
   ],
   "source": [
    "X = torch.rand(1, 28, 28, device=device)\n",
    "logits = model(X) \n",
    "pred_probab = nn.Softmax(dim=1)(logits)\n",
    "y_pred = pred_probab.argmax(1)\n",
    "print(f\"Classe prevista: {y_pred}\")"
   ]
  },
  {
   "cell_type": "markdown",
   "metadata": {},
   "source": [
    "#### Pesos e viéses\n",
    "\n",
    "O módulo `nn.Linear` inicializa aleatoriamente os pesos (weights) e viéses (biases) para cada camada (layer) e armazena internamente os valores em tensores."
   ]
  },
  {
   "cell_type": "code",
   "execution_count": 49,
   "metadata": {},
   "outputs": [
    {
     "name": "stdout",
     "output_type": "stream",
     "text": [
      "Pesos lineares iniciais: Parameter containing:\n",
      "tensor([[ 0.0162,  0.0327,  0.0261,  ...,  0.0062, -0.0150, -0.0182],\n",
      "        [-0.0253, -0.0073, -0.0021,  ...,  0.0187, -0.0251, -0.0011],\n",
      "        [ 0.0027,  0.0209, -0.0203,  ...,  0.0116, -0.0079, -0.0002],\n",
      "        ...,\n",
      "        [-0.0187,  0.0108, -0.0177,  ...,  0.0232,  0.0088,  0.0308],\n",
      "        [ 0.0094, -0.0318, -0.0020,  ..., -0.0191, -0.0179, -0.0302],\n",
      "        [-0.0115, -0.0029,  0.0161,  ...,  0.0053,  0.0195,  0.0322]],\n",
      "       device='cuda:0', requires_grad=True) \n",
      "\n",
      "Viéses(Biases) lineares iniciais: Parameter containing:\n",
      "tensor([-0.0025, -0.0145, -0.0120,  0.0251,  0.0296, -0.0185,  0.0253,  0.0272,\n",
      "         0.0220, -0.0169,  0.0234, -0.0278,  0.0341,  0.0153, -0.0077,  0.0145,\n",
      "         0.0044, -0.0119,  0.0107,  0.0355, -0.0335,  0.0107, -0.0348, -0.0021,\n",
      "        -0.0302, -0.0237, -0.0214, -0.0062,  0.0036, -0.0065, -0.0231,  0.0224,\n",
      "         0.0185, -0.0309, -0.0039,  0.0330,  0.0339,  0.0344,  0.0281,  0.0051,\n",
      "        -0.0120, -0.0187, -0.0007,  0.0199, -0.0310,  0.0314, -0.0301,  0.0167,\n",
      "         0.0244, -0.0229,  0.0158,  0.0295,  0.0122,  0.0125, -0.0218,  0.0297,\n",
      "         0.0331,  0.0254, -0.0173,  0.0298,  0.0285, -0.0175, -0.0332, -0.0027,\n",
      "         0.0193, -0.0355,  0.0167, -0.0195,  0.0117, -0.0086,  0.0305,  0.0240,\n",
      "         0.0295, -0.0067,  0.0335,  0.0327, -0.0279, -0.0153,  0.0281,  0.0338,\n",
      "        -0.0170, -0.0192,  0.0285, -0.0122,  0.0256,  0.0243, -0.0167,  0.0066,\n",
      "        -0.0255, -0.0299, -0.0222, -0.0140, -0.0125,  0.0175, -0.0264, -0.0322,\n",
      "         0.0125,  0.0098, -0.0226, -0.0273,  0.0318, -0.0086, -0.0031, -0.0120,\n",
      "         0.0051,  0.0166,  0.0143, -0.0035,  0.0145, -0.0314,  0.0215,  0.0334,\n",
      "        -0.0298,  0.0150,  0.0250,  0.0223,  0.0331,  0.0135,  0.0081, -0.0044,\n",
      "        -0.0276,  0.0269, -0.0280,  0.0096, -0.0187, -0.0334,  0.0196,  0.0303,\n",
      "        -0.0069,  0.0253,  0.0266, -0.0184, -0.0176,  0.0050, -0.0283, -0.0349,\n",
      "        -0.0150, -0.0211,  0.0270,  0.0313,  0.0088,  0.0303,  0.0173,  0.0086,\n",
      "         0.0242, -0.0286,  0.0308, -0.0305, -0.0041, -0.0232, -0.0061, -0.0301,\n",
      "         0.0296,  0.0346, -0.0159,  0.0048,  0.0040,  0.0026, -0.0002,  0.0096,\n",
      "         0.0118,  0.0288, -0.0258,  0.0160,  0.0170,  0.0034,  0.0071, -0.0079,\n",
      "        -0.0265,  0.0167,  0.0131,  0.0127, -0.0286, -0.0132, -0.0282,  0.0199,\n",
      "         0.0298,  0.0356,  0.0103, -0.0242,  0.0235, -0.0009,  0.0038, -0.0293,\n",
      "        -0.0004, -0.0288, -0.0175,  0.0329, -0.0341,  0.0046, -0.0050, -0.0008,\n",
      "        -0.0054, -0.0333, -0.0034,  0.0140,  0.0292,  0.0122, -0.0317,  0.0037,\n",
      "        -0.0029,  0.0264,  0.0097,  0.0285,  0.0356, -0.0073,  0.0313, -0.0141,\n",
      "        -0.0176,  0.0288, -0.0149,  0.0145,  0.0245,  0.0301,  0.0325,  0.0285,\n",
      "         0.0169, -0.0180,  0.0276,  0.0036,  0.0027,  0.0286,  0.0174,  0.0007,\n",
      "         0.0318, -0.0350, -0.0234, -0.0044,  0.0334,  0.0122, -0.0005,  0.0348,\n",
      "         0.0057, -0.0048,  0.0169,  0.0182,  0.0314, -0.0033, -0.0338, -0.0171,\n",
      "        -0.0237, -0.0231,  0.0270,  0.0294, -0.0031,  0.0237,  0.0074, -0.0339,\n",
      "        -0.0245, -0.0121,  0.0129,  0.0011,  0.0350,  0.0056,  0.0337,  0.0147,\n",
      "         0.0157, -0.0317, -0.0031, -0.0110, -0.0092,  0.0115,  0.0218, -0.0097,\n",
      "        -0.0046, -0.0036, -0.0165,  0.0169, -0.0321, -0.0329,  0.0189, -0.0330,\n",
      "         0.0018,  0.0024,  0.0067, -0.0117,  0.0011, -0.0181, -0.0121, -0.0355,\n",
      "        -0.0144,  0.0245, -0.0268,  0.0244, -0.0004,  0.0163,  0.0285, -0.0035,\n",
      "         0.0161, -0.0218, -0.0020, -0.0091, -0.0335,  0.0264,  0.0164,  0.0306,\n",
      "        -0.0255, -0.0114,  0.0037,  0.0235,  0.0245, -0.0007,  0.0296,  0.0149,\n",
      "         0.0169, -0.0353, -0.0072,  0.0149,  0.0294, -0.0067, -0.0156, -0.0283,\n",
      "        -0.0196, -0.0066, -0.0167, -0.0250,  0.0127,  0.0158,  0.0200, -0.0197,\n",
      "         0.0133, -0.0047,  0.0049, -0.0281, -0.0280,  0.0108,  0.0317, -0.0018,\n",
      "         0.0279,  0.0102,  0.0189,  0.0301, -0.0304,  0.0262,  0.0041, -0.0317,\n",
      "         0.0034, -0.0238, -0.0187,  0.0264,  0.0209, -0.0331,  0.0132, -0.0317,\n",
      "         0.0020,  0.0115,  0.0335,  0.0254, -0.0245,  0.0151,  0.0322, -0.0125,\n",
      "        -0.0198,  0.0007, -0.0139,  0.0352, -0.0286, -0.0138, -0.0163, -0.0194,\n",
      "        -0.0033,  0.0039,  0.0193, -0.0038,  0.0238,  0.0144,  0.0332, -0.0184,\n",
      "         0.0316,  0.0184, -0.0229, -0.0310, -0.0133,  0.0206, -0.0238,  0.0086,\n",
      "        -0.0048, -0.0313, -0.0340,  0.0097, -0.0321, -0.0308, -0.0217,  0.0176,\n",
      "         0.0161,  0.0083, -0.0184,  0.0237, -0.0257,  0.0226, -0.0231,  0.0152,\n",
      "         0.0181, -0.0028, -0.0270,  0.0279,  0.0051, -0.0081,  0.0185, -0.0106,\n",
      "         0.0126, -0.0244,  0.0249, -0.0117, -0.0150, -0.0312,  0.0356,  0.0091,\n",
      "         0.0243,  0.0192,  0.0021, -0.0127, -0.0100, -0.0142,  0.0330, -0.0041,\n",
      "        -0.0030, -0.0048,  0.0200, -0.0078, -0.0230,  0.0158, -0.0007, -0.0227,\n",
      "        -0.0155, -0.0212, -0.0325, -0.0111, -0.0172,  0.0128, -0.0173,  0.0182,\n",
      "         0.0073, -0.0071, -0.0073, -0.0151,  0.0191, -0.0225, -0.0230, -0.0300,\n",
      "         0.0016,  0.0184, -0.0018, -0.0246, -0.0057, -0.0190,  0.0068, -0.0203,\n",
      "         0.0006,  0.0353,  0.0114, -0.0174, -0.0353,  0.0183,  0.0057,  0.0175,\n",
      "        -0.0216, -0.0196, -0.0219, -0.0270,  0.0223, -0.0285,  0.0202,  0.0348,\n",
      "         0.0139, -0.0320,  0.0322, -0.0140, -0.0300,  0.0150,  0.0220,  0.0010,\n",
      "         0.0309, -0.0328,  0.0309, -0.0235,  0.0060,  0.0207,  0.0323,  0.0252,\n",
      "        -0.0043, -0.0063,  0.0059,  0.0192, -0.0130,  0.0006, -0.0299, -0.0164,\n",
      "         0.0343, -0.0054, -0.0166, -0.0349,  0.0319, -0.0092,  0.0032,  0.0090,\n",
      "         0.0055, -0.0079,  0.0169,  0.0312,  0.0137, -0.0139,  0.0023,  0.0129,\n",
      "         0.0357, -0.0037,  0.0086,  0.0254, -0.0009, -0.0183, -0.0175,  0.0353],\n",
      "       device='cuda:0', requires_grad=True) \n",
      "\n"
     ]
    }
   ],
   "source": [
    "print(f\"Pesos lineares iniciais: {model.linear_relu_stack[0].weight} \\n\")\n",
    "\n",
    "print(f\"Viéses(Biases) lineares iniciais: {model.linear_relu_stack[0].bias} \\n\")"
   ]
  },
  {
   "cell_type": "markdown",
   "metadata": {},
   "source": [
    "#### Camadas do modelo\n",
    "Podemos subdividir as camadas (layers) no modelo FashionMNIST. Para ilustrar, tomaremos um minilote com 3 imagens de dimensões 28x28 e ver o que acontece ao passarmos este lote pela rede neural:"
   ]
  },
  {
   "cell_type": "code",
   "execution_count": 50,
   "metadata": {},
   "outputs": [
    {
     "name": "stdout",
     "output_type": "stream",
     "text": [
      "torch.Size([3, 28, 28])\n"
     ]
    }
   ],
   "source": [
    "input_image = torch.rand(3,28,28)\n",
    "print(input_image.size())"
   ]
  },
  {
   "cell_type": "markdown",
   "metadata": {},
   "source": [
    "#### nn.Flatten\n",
    "\n",
    "Inicializamos a camada `nn.Flatten` para converter cada imagem 2D 28x28 em um vetor contíguo de 784 valores de pixels (a dimensão do minilote (em dim=0) é mantida). Cada um dos pixels é passado para a camada de entrada (input layer) da rede neural.\n",
    "\n",
    "![](img/4-model-3.png)"
   ]
  },
  {
   "cell_type": "code",
   "execution_count": 51,
   "metadata": {},
   "outputs": [
    {
     "name": "stdout",
     "output_type": "stream",
     "text": [
      "torch.Size([3, 784])\n"
     ]
    }
   ],
   "source": [
    "flatten = nn.Flatten()\n",
    "flat_image = flatten(input_image)\n",
    "print(flat_image.size())"
   ]
  },
  {
   "cell_type": "markdown",
   "metadata": {},
   "source": [
    "#### nn.Linear\n",
    "\n",
    "A camada linear é um módulo que aplica uma transformação linear sobre a entrada, usando os valores de pesos e viéses armazenados internamente. O valor da escala de cinza (grayscale) de cada pixel no layer de entrada será conectado a neurônios na camada oculta, para cálculo. O cálculo utilizado para esta transformação é ${{weight * input + bias}} $."
   ]
  },
  {
   "cell_type": "code",
   "execution_count": 52,
   "metadata": {},
   "outputs": [
    {
     "name": "stdout",
     "output_type": "stream",
     "text": [
      "torch.Size([3, 20])\n"
     ]
    }
   ],
   "source": [
    "layer1 = nn.Linear(in_features=28*28, out_features=20)\n",
    "hidden1 = layer1(flat_image)\n",
    "print(hidden1.size())"
   ]
  },
  {
   "cell_type": "markdown",
   "metadata": {},
   "source": [
    "#### nn.ReLU\n",
    "\n",
    "Ativações não-lineares são o que criam os mapeamentos complexos entre as entradas e saídas no modelo. Elas são aplicadas após as transformações lineares, para introduzir um caráter não-linear, ajudando assim as redes neurais no aprendizado de uma vasta gama de fenômenos. Neste modelo, usamos a função ReLU entre nossas camadas lineares, mas é possível utilizar outros tipos de função.\n",
    "\n",
    "_Grosso modo_, a função ReLU toma as saídas obtidas das camadas lineares e substitui valores negativos por zeros.\n",
    "\n",
    "Saída linear: ${ x = {weight * input + bias}} $.  \n",
    "ReLU:  $f(x)= \n",
    "\\begin{cases}\n",
    "    0, & \\text{se } x < 0\\\\\n",
    "    x, & \\text{se } x\\geq 0\\\\\n",
    "\\end{cases}\n",
    "$"
   ]
  },
  {
   "cell_type": "code",
   "execution_count": 53,
   "metadata": {},
   "outputs": [
    {
     "name": "stdout",
     "output_type": "stream",
     "text": [
      "Antes do ReLU: tensor([[ 0.3604, -0.2009, -0.3886,  0.9744, -0.6400,  0.0529,  0.3926,  0.6914,\n",
      "          0.8556, -0.4389, -0.1389,  0.2455,  0.4574, -0.3184, -0.0082,  0.1711,\n",
      "          0.0577, -0.3324, -0.0511,  0.4725],\n",
      "        [ 0.1516, -0.2313,  0.0956,  0.6419, -0.6327, -0.2557,  0.1251,  0.5334,\n",
      "          0.4880, -0.3627, -0.1748,  0.4976,  0.3014, -0.1473, -0.2936,  0.1207,\n",
      "         -0.0813, -0.4212, -0.0539,  0.5298],\n",
      "        [-0.0735, -0.2377,  0.0401,  0.7120, -0.4083, -0.1277,  0.1128,  0.6469,\n",
      "          0.8215, -0.1541, -0.3085,  0.6231,  0.0187, -0.3728, -0.0701,  0.0845,\n",
      "          0.3681, -0.3262, -0.0114,  0.5757]], grad_fn=<AddmmBackward0>)\n",
      "\n",
      "\n",
      "Após o ReLU: tensor([[0.3604, 0.0000, 0.0000, 0.9744, 0.0000, 0.0529, 0.3926, 0.6914, 0.8556,\n",
      "         0.0000, 0.0000, 0.2455, 0.4574, 0.0000, 0.0000, 0.1711, 0.0577, 0.0000,\n",
      "         0.0000, 0.4725],\n",
      "        [0.1516, 0.0000, 0.0956, 0.6419, 0.0000, 0.0000, 0.1251, 0.5334, 0.4880,\n",
      "         0.0000, 0.0000, 0.4976, 0.3014, 0.0000, 0.0000, 0.1207, 0.0000, 0.0000,\n",
      "         0.0000, 0.5298],\n",
      "        [0.0000, 0.0000, 0.0401, 0.7120, 0.0000, 0.0000, 0.1128, 0.6469, 0.8215,\n",
      "         0.0000, 0.0000, 0.6231, 0.0187, 0.0000, 0.0000, 0.0845, 0.3681, 0.0000,\n",
      "         0.0000, 0.5757]], grad_fn=<ReluBackward0>)\n"
     ]
    }
   ],
   "source": [
    "print(f\"Antes do ReLU: {hidden1}\\n\\n\")\n",
    "hidden1 = nn.ReLU()(hidden1)\n",
    "print(f\"Após o ReLU: {hidden1}\")"
   ]
  },
  {
   "cell_type": "markdown",
   "metadata": {},
   "source": [
    "#### nn.Sequential\n",
    "\n",
    "O `nn.Sequential` é um contêiner ordenado de módulos. Os dados são passados por todos os módulos na ordem definida. É possível utilizar contêineres em sequência para montar uma rede rápida como `seq.modules`"
   ]
  },
  {
   "cell_type": "code",
   "execution_count": 54,
   "metadata": {},
   "outputs": [],
   "source": [
    "seq_modules = nn.Sequential(\n",
    "    flatten,\n",
    "    layer1,\n",
    "    nn.ReLU(),\n",
    "    nn.Linear(20, 10)\n",
    ")\n",
    "input_image = torch.rand(3,28,28)\n",
    "logits = seq_modules(input_image)"
   ]
  },
  {
   "cell_type": "markdown",
   "metadata": {},
   "source": [
    "#### nn.Softmax\n",
    "\n",
    "A última camada linear da rede neural retorna valores `logits` brutos no intervalo [`-infty`, `infty`], que são passados em seguida para o módulo `nn.Softmax`. A função de ativação Softmax é usada para calcular a probabilidade da saída da rede neural. Ela é apenas utilizada na camada de saída de uma rede neural. Os resultados são, então, escalonados para o intervalo [0,1], representando as densidades previstas para cada classe do modelo. O parâmetro `dim` indica a dimensão através da qual os valores dos resultados, somados, devem resultar em 1. O _node_ com a maior probabilidade então é o que prevê a saída desejada.\n",
    "\n",
    "![](img/4-model-4.png)"
   ]
  },
  {
   "cell_type": "code",
   "execution_count": 55,
   "metadata": {},
   "outputs": [],
   "source": [
    "softmax = nn.Softmax(dim=1)\n",
    "pred_probab = softmax(logits)"
   ]
  },
  {
   "cell_type": "markdown",
   "metadata": {},
   "source": [
    "#### Parâmetros do modelo\n",
    "\n",
    "Muitas camadas dentro de uma rede neural são parametrizadas, isto é, possuem valores de pesos e viéses associados que são optimizados durante o processo do treinamento do modelo. Ao criar uma subclasse de `nn.Module` é possível rastrear automaticamente todos os campos definidos dentro de seu modelo, e permite acessar os parâmetros por meio dos métodos `parameters()` ou `named_parameters()`.\n",
    "\n",
    "No exemplo a seguir, iteramos sobre todos os parâmetros, e imprimimos a dimensão e uma previsão de seus valores."
   ]
  },
  {
   "cell_type": "code",
   "execution_count": 56,
   "metadata": {},
   "outputs": [
    {
     "name": "stdout",
     "output_type": "stream",
     "text": [
      "Estrutura do modelo:  NeuralNetwork(\n",
      "  (flatten): Flatten(start_dim=1, end_dim=-1)\n",
      "  (linear_relu_stack): Sequential(\n",
      "    (0): Linear(in_features=784, out_features=512, bias=True)\n",
      "    (1): ReLU()\n",
      "    (2): Linear(in_features=512, out_features=512, bias=True)\n",
      "    (3): ReLU()\n",
      "    (4): Linear(in_features=512, out_features=10, bias=True)\n",
      "    (5): ReLU()\n",
      "  )\n",
      ") \n",
      "\n",
      "\n",
      "Camada: linear_relu_stack.0.weight | Dimensão: torch.Size([512, 784]) | Valores : tensor([[ 0.0162,  0.0327,  0.0261,  ...,  0.0062, -0.0150, -0.0182],\n",
      "        [-0.0253, -0.0073, -0.0021,  ...,  0.0187, -0.0251, -0.0011]],\n",
      "       device='cuda:0', grad_fn=<SliceBackward0>) \n",
      "\n",
      "Camada: linear_relu_stack.0.bias | Dimensão: torch.Size([512]) | Valores : tensor([-0.0025, -0.0145], device='cuda:0', grad_fn=<SliceBackward0>) \n",
      "\n",
      "Camada: linear_relu_stack.2.weight | Dimensão: torch.Size([512, 512]) | Valores : tensor([[-0.0022,  0.0102,  0.0383,  ..., -0.0177, -0.0194, -0.0326],\n",
      "        [ 0.0152, -0.0040,  0.0315,  ...,  0.0339, -0.0424, -0.0033]],\n",
      "       device='cuda:0', grad_fn=<SliceBackward0>) \n",
      "\n",
      "Camada: linear_relu_stack.2.bias | Dimensão: torch.Size([512]) | Valores : tensor([0.0009, 0.0404], device='cuda:0', grad_fn=<SliceBackward0>) \n",
      "\n",
      "Camada: linear_relu_stack.4.weight | Dimensão: torch.Size([10, 512]) | Valores : tensor([[ 0.0089, -0.0371,  0.0422,  ..., -0.0023,  0.0354, -0.0137],\n",
      "        [-0.0160,  0.0441,  0.0376,  ..., -0.0360, -0.0119,  0.0045]],\n",
      "       device='cuda:0', grad_fn=<SliceBackward0>) \n",
      "\n",
      "Camada: linear_relu_stack.4.bias | Dimensão: torch.Size([10]) | Valores : tensor([-0.0037, -0.0204], device='cuda:0', grad_fn=<SliceBackward0>) \n",
      "\n"
     ]
    }
   ],
   "source": [
    "print(\"Estrutura do modelo: \", model, \"\\n\\n\")\n",
    "\n",
    "for name, param in model.named_parameters():\n",
    "    print(f\"Camada: {name} | Dimensão: {param.size()} | Valores : {param[:2]} \\n\")"
   ]
  },
  {
   "cell_type": "markdown",
   "metadata": {},
   "source": [
    "# Parte 4: Diferenciação automática"
   ]
  },
  {
   "cell_type": "code",
   "execution_count": 57,
   "metadata": {},
   "outputs": [],
   "source": [
    "%matplotlib inline\n",
    "import torch\n",
    "\n",
    "x = torch.ones(5)  # input tensor\n",
    "y = torch.zeros(3)  # expected output\n",
    "w = torch.randn(5, 3, requires_grad=True)\n",
    "b = torch.randn(3, requires_grad=True)\n",
    "z = torch.matmul(x, w)+b\n",
    "loss = torch.nn.functional.binary_cross_entropy_with_logits(z, y)"
   ]
  },
  {
   "cell_type": "code",
   "execution_count": 59,
   "metadata": {},
   "outputs": [
    {
     "name": "stdout",
     "output_type": "stream",
     "text": [
      "Função gradiente para z = <AddBackward0 object at 0x7effb98153d0>\n",
      "Função gradiente para a perda = <BinaryCrossEntropyWithLogitsBackward0 object at 0x7effb981cdc0>\n"
     ]
    }
   ],
   "source": [
    "print('Função gradiente para z =',z.grad_fn)\n",
    "print('Função gradiente para a perda =', loss.grad_fn)"
   ]
  },
  {
   "cell_type": "code",
   "execution_count": 60,
   "metadata": {},
   "outputs": [
    {
     "name": "stdout",
     "output_type": "stream",
     "text": [
      "tensor([[0.1175, 0.2707, 0.0003],\n",
      "        [0.1175, 0.2707, 0.0003],\n",
      "        [0.1175, 0.2707, 0.0003],\n",
      "        [0.1175, 0.2707, 0.0003],\n",
      "        [0.1175, 0.2707, 0.0003]])\n",
      "tensor([0.1175, 0.2707, 0.0003])\n"
     ]
    }
   ],
   "source": [
    "loss.backward()\n",
    "print(w.grad)\n",
    "print(b.grad)"
   ]
  },
  {
   "cell_type": "code",
   "execution_count": 61,
   "metadata": {},
   "outputs": [
    {
     "name": "stdout",
     "output_type": "stream",
     "text": [
      "True\n",
      "False\n"
     ]
    }
   ],
   "source": [
    "z = torch.matmul(x, w)+b\n",
    "print(z.requires_grad)\n",
    "\n",
    "with torch.no_grad():\n",
    "    z = torch.matmul(x, w)+b\n",
    "print(z.requires_grad)"
   ]
  },
  {
   "cell_type": "code",
   "execution_count": 62,
   "metadata": {},
   "outputs": [
    {
     "name": "stdout",
     "output_type": "stream",
     "text": [
      "False\n"
     ]
    }
   ],
   "source": [
    "z = torch.matmul(x, w)+b\n",
    "z_det = z.detach()\n",
    "print(z_det.requires_grad)"
   ]
  },
  {
   "cell_type": "code",
   "execution_count": 64,
   "metadata": {},
   "outputs": [
    {
     "name": "stdout",
     "output_type": "stream",
     "text": [
      "Primeira execução\n",
      " tensor([[4., 2., 2., 2., 2.],\n",
      "        [2., 4., 2., 2., 2.],\n",
      "        [2., 2., 4., 2., 2.],\n",
      "        [2., 2., 2., 4., 2.],\n",
      "        [2., 2., 2., 2., 4.]])\n",
      "\n",
      "Segunda execução\n",
      " tensor([[8., 4., 4., 4., 4.],\n",
      "        [4., 8., 4., 4., 4.],\n",
      "        [4., 4., 8., 4., 4.],\n",
      "        [4., 4., 4., 8., 4.],\n",
      "        [4., 4., 4., 4., 8.]])\n",
      "\n",
      "Execução após zerar gradientes\n",
      " tensor([[4., 2., 2., 2., 2.],\n",
      "        [2., 4., 2., 2., 2.],\n",
      "        [2., 2., 4., 2., 2.],\n",
      "        [2., 2., 2., 4., 2.],\n",
      "        [2., 2., 2., 2., 4.]])\n"
     ]
    }
   ],
   "source": [
    "inp = torch.eye(5, requires_grad=True)\n",
    "out = (inp+1).pow(2)\n",
    "out.backward(torch.ones_like(inp), retain_graph=True)\n",
    "print(\"Primeira execução\\n\", inp.grad)\n",
    "out.backward(torch.ones_like(inp), retain_graph=True)\n",
    "print(\"\\nSegunda execução\\n\", inp.grad)\n",
    "inp.grad.zero_()\n",
    "out.backward(torch.ones_like(inp), retain_graph=True)\n",
    "print(\"\\nExecução após zerar gradientes\\n\", inp.grad)"
   ]
  },
  {
   "cell_type": "markdown",
   "metadata": {},
   "source": [
    "# Parte 5: Aprendendo sobre o loop de optimização"
   ]
  },
  {
   "cell_type": "code",
   "execution_count": 65,
   "metadata": {},
   "outputs": [],
   "source": [
    "%matplotlib inline\n",
    "import torch\n",
    "from torch import nn\n",
    "from torch.utils.data import DataLoader\n",
    "from torchvision import datasets\n",
    "from torchvision.transforms import ToTensor, Lambda\n",
    "\n",
    "training_data = datasets.FashionMNIST(\n",
    "    root=\"data\",\n",
    "    train=True,\n",
    "    download=True,\n",
    "    transform=ToTensor()\n",
    ")\n",
    "\n",
    "test_data = datasets.FashionMNIST(\n",
    "    root=\"data\",\n",
    "    train=False,\n",
    "    download=True,\n",
    "    transform=ToTensor()\n",
    ")\n",
    "\n",
    "train_dataloader = DataLoader(training_data, batch_size=64)\n",
    "test_dataloader = DataLoader(test_data, batch_size=64)\n",
    "\n",
    "class NeuralNetwork(nn.Module):\n",
    "    def __init__(self):\n",
    "        super(NeuralNetwork, self).__init__()\n",
    "        self.flatten = nn.Flatten()\n",
    "        self.linear_relu_stack = nn.Sequential(\n",
    "            nn.Linear(28*28, 512),\n",
    "            nn.ReLU(),\n",
    "            nn.Linear(512, 512),\n",
    "            nn.ReLU(),\n",
    "            nn.Linear(512, 10),\n",
    "            nn.ReLU()\n",
    "        )\n",
    "\n",
    "    def forward(self, x):\n",
    "        x = self.flatten(x)\n",
    "        logits = self.linear_relu_stack(x)\n",
    "        return logits\n",
    "\n",
    "model = NeuralNetwork()"
   ]
  },
  {
   "cell_type": "code",
   "execution_count": 66,
   "metadata": {},
   "outputs": [],
   "source": [
    "learning_rate = 1e-3\n",
    "batch_size = 64\n",
    "epochs = 5"
   ]
  },
  {
   "cell_type": "code",
   "execution_count": 67,
   "metadata": {},
   "outputs": [],
   "source": [
    "# Inicializando a loss function\n",
    "loss_fn = nn.CrossEntropyLoss()"
   ]
  },
  {
   "cell_type": "code",
   "execution_count": 68,
   "metadata": {},
   "outputs": [],
   "source": [
    "optimizer = torch.optim.SGD(model.parameters(), lr=learning_rate)"
   ]
  },
  {
   "cell_type": "code",
   "execution_count": 69,
   "metadata": {},
   "outputs": [],
   "source": [
    "def train_loop(dataloader, model, loss_fn, optimizer):\n",
    "    size = len(dataloader.dataset)\n",
    "    for batch, (X, y) in enumerate(dataloader):        \n",
    "        # Computa a previsão e a perda\n",
    "        pred = model(X)\n",
    "        loss = loss_fn(pred, y)\n",
    "        \n",
    "        # Backpropagation\n",
    "        optimizer.zero_grad()\n",
    "        loss.backward()\n",
    "        optimizer.step()\n",
    "\n",
    "        if batch % 100 == 0:\n",
    "            loss, current = loss.item(), batch * len(X)\n",
    "            print(f\"loss: {loss:>7f}  [{current:>5d}/{size:>5d}]\")\n",
    "\n",
    "\n",
    "def test_loop(dataloader, model, loss_fn):\n",
    "    size = len(dataloader.dataset)\n",
    "    test_loss, correct = 0, 0\n",
    "\n",
    "    with torch.no_grad():\n",
    "        for X, y in dataloader:\n",
    "            pred = model(X)\n",
    "            test_loss += loss_fn(pred, y).item()\n",
    "            correct += (pred.argmax(1) == y).type(torch.float).sum().item()\n",
    "            \n",
    "    test_loss /= size\n",
    "    correct /= size\n",
    "    print(f\"Erro no teste: \\n Precisão: {(100*correct):>0.1f}%, Perda média: {test_loss:>8f} \\n\")"
   ]
  },
  {
   "cell_type": "code",
   "execution_count": 70,
   "metadata": {},
   "outputs": [
    {
     "name": "stdout",
     "output_type": "stream",
     "text": [
      "Epoch 1\n",
      "-------------------------------\n",
      "loss: 2.307655  [    0/60000]\n",
      "loss: 2.296285  [ 6400/60000]\n",
      "loss: 2.280057  [12800/60000]\n",
      "loss: 2.276619  [19200/60000]\n",
      "loss: 2.253632  [25600/60000]\n",
      "loss: 2.247976  [32000/60000]\n",
      "loss: 2.253484  [38400/60000]\n",
      "loss: 2.235549  [44800/60000]\n",
      "loss: 2.233183  [51200/60000]\n",
      "loss: 2.197762  [57600/60000]\n",
      "Erro no teste: \n",
      " Precisão: 46.1%, Perda média: 0.034616 \n",
      "\n",
      "Epoch 2\n",
      "-------------------------------\n",
      "loss: 2.216839  [    0/60000]\n",
      "loss: 2.188782  [ 6400/60000]\n",
      "loss: 2.160083  [12800/60000]\n",
      "loss: 2.185682  [19200/60000]\n",
      "loss: 2.120147  [25600/60000]\n",
      "loss: 2.110475  [32000/60000]\n",
      "loss: 2.145373  [38400/60000]\n",
      "loss: 2.105047  [44800/60000]\n",
      "loss: 2.116391  [51200/60000]\n",
      "loss: 2.043687  [57600/60000]\n",
      "Erro no teste: \n",
      " Precisão: 46.8%, Perda média: 0.032389 \n",
      "\n",
      "Epoch 3\n",
      "-------------------------------\n",
      "loss: 2.081988  [    0/60000]\n",
      "loss: 2.021157  [ 6400/60000]\n",
      "loss: 1.979194  [12800/60000]\n",
      "loss: 2.047880  [19200/60000]\n",
      "loss: 1.925187  [25600/60000]\n",
      "loss: 1.926949  [32000/60000]\n",
      "loss: 1.987319  [38400/60000]\n",
      "loss: 1.933412  [44800/60000]\n",
      "loss: 1.961932  [51200/60000]\n",
      "loss: 1.851818  [57600/60000]\n",
      "Erro no teste: \n",
      " Precisão: 51.0%, Perda média: 0.029674 \n",
      "\n",
      "Epoch 4\n",
      "-------------------------------\n",
      "loss: 1.917277  [    0/60000]\n",
      "loss: 1.820684  [ 6400/60000]\n",
      "loss: 1.782186  [12800/60000]\n",
      "loss: 1.888684  [19200/60000]\n",
      "loss: 1.752360  [25600/60000]\n",
      "loss: 1.767538  [32000/60000]\n",
      "loss: 1.833444  [38400/60000]\n",
      "loss: 1.793334  [44800/60000]\n",
      "loss: 1.822171  [51200/60000]\n",
      "loss: 1.681712  [57600/60000]\n",
      "Erro no teste: \n",
      " Precisão: 52.5%, Perda média: 0.027403 \n",
      "\n",
      "Epoch 5\n",
      "-------------------------------\n",
      "loss: 1.774839  [    0/60000]\n",
      "loss: 1.660936  [ 6400/60000]\n",
      "loss: 1.625012  [12800/60000]\n",
      "loss: 1.760624  [19200/60000]\n",
      "loss: 1.642658  [25600/60000]\n",
      "loss: 1.647332  [32000/60000]\n",
      "loss: 1.714631  [38400/60000]\n",
      "loss: 1.693829  [44800/60000]\n",
      "loss: 1.721327  [51200/60000]\n",
      "loss: 1.560576  [57600/60000]\n",
      "Erro no teste: \n",
      " Precisão: 53.2%, Perda média: 0.025751 \n",
      "\n",
      "Epoch 6\n",
      "-------------------------------\n",
      "loss: 1.664997  [    0/60000]\n",
      "loss: 1.549654  [ 6400/60000]\n",
      "loss: 1.505899  [12800/60000]\n",
      "loss: 1.671661  [19200/60000]\n",
      "loss: 1.571282  [25600/60000]\n",
      "loss: 1.555534  [32000/60000]\n",
      "loss: 1.631543  [38400/60000]\n",
      "loss: 1.622299  [44800/60000]\n",
      "loss: 1.648675  [51200/60000]\n",
      "loss: 1.477592  [57600/60000]\n",
      "Erro no teste: \n",
      " Precisão: 53.9%, Perda média: 0.024548 \n",
      "\n",
      "Epoch 7\n",
      "-------------------------------\n",
      "loss: 1.582352  [    0/60000]\n",
      "loss: 1.471734  [ 6400/60000]\n",
      "loss: 1.416141  [12800/60000]\n",
      "loss: 1.606167  [19200/60000]\n",
      "loss: 1.518661  [25600/60000]\n",
      "loss: 1.485125  [32000/60000]\n",
      "loss: 1.572371  [38400/60000]\n",
      "loss: 1.569144  [44800/60000]\n",
      "loss: 1.592350  [51200/60000]\n",
      "loss: 1.418602  [57600/60000]\n",
      "Erro no teste: \n",
      " Precisão: 54.4%, Perda média: 0.023631 \n",
      "\n",
      "Epoch 8\n",
      "-------------------------------\n",
      "loss: 1.517940  [    0/60000]\n",
      "loss: 1.413484  [ 6400/60000]\n",
      "loss: 1.347263  [12800/60000]\n",
      "loss: 1.555774  [19200/60000]\n",
      "loss: 1.476673  [25600/60000]\n",
      "loss: 1.431799  [32000/60000]\n",
      "loss: 1.529670  [38400/60000]\n",
      "loss: 1.527925  [44800/60000]\n",
      "loss: 1.546765  [51200/60000]\n",
      "loss: 1.375788  [57600/60000]\n",
      "Erro no teste: \n",
      " Precisão: 54.7%, Perda média: 0.022927 \n",
      "\n",
      "Epoch 9\n",
      "-------------------------------\n",
      "loss: 1.466203  [    0/60000]\n",
      "loss: 1.369318  [ 6400/60000]\n",
      "loss: 1.293052  [12800/60000]\n",
      "loss: 1.515947  [19200/60000]\n",
      "loss: 1.441934  [25600/60000]\n",
      "loss: 1.389646  [32000/60000]\n",
      "loss: 1.497161  [38400/60000]\n",
      "loss: 1.497946  [44800/60000]\n",
      "loss: 1.510195  [51200/60000]\n",
      "loss: 1.342144  [57600/60000]\n",
      "Erro no teste: \n",
      " Precisão: 54.9%, Perda média: 0.022359 \n",
      "\n",
      "Epoch 10\n",
      "-------------------------------\n",
      "loss: 1.423564  [    0/60000]\n",
      "loss: 1.334300  [ 6400/60000]\n",
      "loss: 1.248909  [12800/60000]\n",
      "loss: 1.482247  [19200/60000]\n",
      "loss: 1.412598  [25600/60000]\n",
      "loss: 1.355554  [32000/60000]\n",
      "loss: 1.470673  [38400/60000]\n",
      "loss: 1.475479  [44800/60000]\n",
      "loss: 1.479814  [51200/60000]\n",
      "loss: 1.313755  [57600/60000]\n",
      "Erro no teste: \n",
      " Precisão: 54.9%, Perda média: 0.021884 \n",
      "\n",
      "Done!\n"
     ]
    }
   ],
   "source": [
    "loss_fn = nn.CrossEntropyLoss()\n",
    "optimizer = torch.optim.SGD(model.parameters(), lr=learning_rate)\n",
    "\n",
    "epochs = 10\n",
    "for t in range(epochs):\n",
    "    print(f\"Epoch {t+1}\\n-------------------------------\")\n",
    "    train_loop(train_dataloader, model, loss_fn, optimizer)\n",
    "    test_loop(test_dataloader, model, loss_fn)\n",
    "print(\"Fim!\")"
   ]
  },
  {
   "cell_type": "code",
   "execution_count": 71,
   "metadata": {},
   "outputs": [
    {
     "name": "stdout",
     "output_type": "stream",
     "text": [
      "Modelo salvo em model.pth.\n"
     ]
    }
   ],
   "source": [
    "torch.save(model.state_dict(), \"data/model.pth\")\n",
    "\n",
    "print(\"Modelo salvo em model.pth.\")"
   ]
  },
  {
   "cell_type": "markdown",
   "metadata": {},
   "source": [
    "# Parte 6: Carregando e executando as previsões do modelo"
   ]
  },
  {
   "cell_type": "code",
   "execution_count": 73,
   "metadata": {},
   "outputs": [],
   "source": [
    "%matplotlib inline\n",
    "import torch\n",
    "import onnxruntime\n",
    "from torch import nn\n",
    "import torch.onnx as onnx\n",
    "import torchvision.models as models\n",
    "from torchvision import datasets\n",
    "from torchvision.transforms import ToTensor"
   ]
  },
  {
   "cell_type": "code",
   "execution_count": 74,
   "metadata": {},
   "outputs": [],
   "source": [
    "class NeuralNetwork(nn.Module):\n",
    "    def __init__(self):\n",
    "        super(NeuralNetwork, self).__init__()\n",
    "        self.flatten = nn.Flatten()\n",
    "        self.linear_relu_stack = nn.Sequential(\n",
    "            nn.Linear(28*28, 512),\n",
    "            nn.ReLU(),\n",
    "            nn.Linear(512, 512),\n",
    "            nn.ReLU(),\n",
    "            nn.Linear(512, 10),\n",
    "            nn.ReLU()\n",
    "        )\n",
    "\n",
    "    def forward(self, x):\n",
    "        x = self.flatten(x)\n",
    "        logits = self.linear_relu_stack(x)\n",
    "        return logits"
   ]
  },
  {
   "cell_type": "code",
   "execution_count": 75,
   "metadata": {},
   "outputs": [
    {
     "data": {
      "text/plain": [
       "NeuralNetwork(\n",
       "  (flatten): Flatten(start_dim=1, end_dim=-1)\n",
       "  (linear_relu_stack): Sequential(\n",
       "    (0): Linear(in_features=784, out_features=512, bias=True)\n",
       "    (1): ReLU()\n",
       "    (2): Linear(in_features=512, out_features=512, bias=True)\n",
       "    (3): ReLU()\n",
       "    (4): Linear(in_features=512, out_features=10, bias=True)\n",
       "    (5): ReLU()\n",
       "  )\n",
       ")"
      ]
     },
     "execution_count": 75,
     "metadata": {},
     "output_type": "execute_result"
    }
   ],
   "source": [
    "model = NeuralNetwork()\n",
    "model.load_state_dict(torch.load('data/model.pth'))\n",
    "model.eval()"
   ]
  },
  {
   "cell_type": "code",
   "execution_count": 76,
   "metadata": {},
   "outputs": [],
   "source": [
    "input_image = torch.zeros((1,28,28))\n",
    "onnx_model = 'data/model.onnx'\n",
    "onnx.export(model, input_image, onnx_model)"
   ]
  },
  {
   "cell_type": "code",
   "execution_count": 77,
   "metadata": {},
   "outputs": [],
   "source": [
    "test_data = datasets.FashionMNIST(\n",
    "    root=\"data\",\n",
    "    train=False,\n",
    "    download=True,\n",
    "    transform=ToTensor()\n",
    ")\n",
    "\n",
    "classes = [\n",
    "    \"T-shirt/top\",\n",
    "    \"Trouser\",\n",
    "    \"Pullover\",\n",
    "    \"Dress\",\n",
    "    \"Coat\",\n",
    "    \"Sandal\",\n",
    "    \"Shirt\",\n",
    "    \"Sneaker\",\n",
    "    \"Bag\",\n",
    "    \"Ankle boot\",\n",
    "]\n",
    "x, y = test_data[0][0], test_data[0][1]"
   ]
  },
  {
   "cell_type": "code",
   "execution_count": 81,
   "metadata": {},
   "outputs": [
    {
     "name": "stdout",
     "output_type": "stream",
     "text": [
      "Previsto: \"Ankle boot\", Atual: \"Ankle boot\"\n"
     ]
    }
   ],
   "source": [
    "session = onnxruntime.InferenceSession(onnx_model, providers=['CUDAExecutionProvider'])\n",
    "input_name = session.get_inputs()[0].name\n",
    "output_name = session.get_outputs()[0].name\n",
    "\n",
    "result = session.run([output_name], {input_name: x.numpy()})\n",
    "predicted, actual = classes[result[0][0].argmax(0)], classes[y]\n",
    "print(f'Previsto: \"{predicted}\", Atual: \"{actual}\"')"
   ]
  },
  {
   "cell_type": "markdown",
   "metadata": {},
   "source": [
    "# Parte 7: O processo completo de construção do modelo"
   ]
  },
  {
   "cell_type": "markdown",
   "metadata": {},
   "source": [
    "Vamos agora resumir todo o processo, executando as etapas em sequência para uma compreensão mais holística de como funciona a criação e a execução do modelo."
   ]
  },
  {
   "cell_type": "code",
   "execution_count": 82,
   "metadata": {},
   "outputs": [],
   "source": [
    "%matplotlib inline\n",
    "import torch\n",
    "from torch import nn\n",
    "from torch.utils.data import DataLoader\n",
    "from torchvision import datasets\n",
    "from torchvision.transforms import ToTensor, Lambda, Compose\n",
    "import matplotlib.pyplot as plt"
   ]
  },
  {
   "cell_type": "code",
   "execution_count": 83,
   "metadata": {},
   "outputs": [],
   "source": [
    "# Baixando dados de treino do dataset:\n",
    "training_data = datasets.FashionMNIST(\n",
    "    root=\"data\",\n",
    "    train=True,\n",
    "    download=True,\n",
    "    transform=ToTensor(),\n",
    ")\n",
    "\n",
    "# Baixando dados de teste do dataset:\n",
    "test_data = datasets.FashionMNIST(\n",
    "    root=\"data\",\n",
    "    train=False,\n",
    "    download=True,\n",
    "    transform=ToTensor(),\n",
    ")"
   ]
  },
  {
   "cell_type": "code",
   "execution_count": 84,
   "metadata": {},
   "outputs": [
    {
     "name": "stdout",
     "output_type": "stream",
     "text": [
      "Shape of X [N, C, H, W]:  torch.Size([64, 1, 28, 28])\n",
      "Shape of y:  torch.Size([64]) torch.int64\n"
     ]
    },
    {
     "data": {
      "image/png": "[encoded data removed]",
      "text/plain": [
       "<Figure size 720x576 with 25 Axes>"
      ]
     },
     "metadata": {
      "needs_background": "light"
     },
     "output_type": "display_data"
    }
   ],
   "source": [
    "batch_size = 64\n",
    "\n",
    "# Criando os DataLoaders.\n",
    "train_dataloader = DataLoader(training_data, batch_size=batch_size)\n",
    "test_dataloader = DataLoader(test_data, batch_size=batch_size)\n",
    "\n",
    "for X, y in test_dataloader:\n",
    "    print(\"Shape of X [N, C, H, W]: \", X.shape)\n",
    "    print(\"Shape of y: \", y.shape, y.dtype)\n",
    "    break\n",
    "    \n",
    "# Mostrando exemplos dos dados\n",
    "figure = plt.figure(figsize=(10, 8))\n",
    "cols, rows = 5, 5\n",
    "for i in range(1, cols * rows + 1):\n",
    "    idx = torch.randint(len(test_data), size=(1,)).item()\n",
    "    img, label = test_data[idx]\n",
    "    figure.add_subplot(rows, cols, i)\n",
    "    plt.title(label)\n",
    "    plt.axis(\"off\")\n",
    "    plt.imshow(img.squeeze(), cmap=\"gray\")\n",
    "plt.show()"
   ]
  },
  {
   "cell_type": "code",
   "execution_count": 87,
   "metadata": {},
   "outputs": [
    {
     "name": "stdout",
     "output_type": "stream",
     "text": [
      "Usando cuda.\n",
      "NeuralNetwork(\n",
      "  (flatten): Flatten(start_dim=1, end_dim=-1)\n",
      "  (linear_relu_stack): Sequential(\n",
      "    (0): Linear(in_features=784, out_features=512, bias=True)\n",
      "    (1): ReLU()\n",
      "    (2): Linear(in_features=512, out_features=512, bias=True)\n",
      "    (3): ReLU()\n",
      "    (4): Linear(in_features=512, out_features=10, bias=True)\n",
      "    (5): ReLU()\n",
      "  )\n",
      ")\n"
     ]
    }
   ],
   "source": [
    "# Escolhendo o dispositivo de treino:\n",
    "device = \"cuda\" if torch.cuda.is_available() else \"cpu\"\n",
    "print(f\"Usando {device}.\")\n",
    "\n",
    "# Definindo o modelo\n",
    "class NeuralNetwork(nn.Module):\n",
    "    def __init__(self):\n",
    "        super(NeuralNetwork, self).__init__()\n",
    "        self.flatten = nn.Flatten()\n",
    "        self.linear_relu_stack = nn.Sequential(\n",
    "            nn.Linear(28*28, 512),\n",
    "            nn.ReLU(),\n",
    "            nn.Linear(512, 512),\n",
    "            nn.ReLU(),\n",
    "            nn.Linear(512, 10),\n",
    "            nn.ReLU()\n",
    "        )\n",
    "\n",
    "    def forward(self, x):\n",
    "        x = self.flatten(x)\n",
    "        logits = self.linear_relu_stack(x)\n",
    "        return logits\n",
    "\n",
    "model = NeuralNetwork().to(device)\n",
    "print(model)"
   ]
  },
  {
   "cell_type": "code",
   "execution_count": 88,
   "metadata": {},
   "outputs": [],
   "source": [
    "# Optimizando os parâmetros do modelo\n",
    "\n",
    "loss_fn = nn.CrossEntropyLoss()\n",
    "learning_rate = 1e-3\n",
    "optimizer = torch.optim.SGD(model.parameters(), lr=learning_rate)"
   ]
  },
  {
   "cell_type": "code",
   "execution_count": 89,
   "metadata": {},
   "outputs": [],
   "source": [
    "# Treinando o modelo\n",
    "def train(dataloader, model, loss_fn, optimizer):\n",
    "    size = len(dataloader.dataset)\n",
    "    for batch, (X, y) in enumerate(dataloader):\n",
    "        X, y = X.to(device), y.to(device)\n",
    "        \n",
    "        # Calculando o erro nas previsões\n",
    "        pred = model(X)\n",
    "        loss = loss_fn(pred, y)\n",
    "        \n",
    "        # Backpropagation\n",
    "        optimizer.zero_grad()\n",
    "        loss.backward()\n",
    "        optimizer.step()\n",
    "\n",
    "        if batch % 100 == 0:\n",
    "            loss, current = loss.item(), batch * len(X)\n",
    "            print(f\"loss: {loss:>7f}  [{current:>5d}/{size:>5d}]\")"
   ]
  },
  {
   "cell_type": "code",
   "execution_count": 90,
   "metadata": {},
   "outputs": [],
   "source": [
    "# Testando o desempenho do modelo para verificar sua eficiência\n",
    "def test(dataloader, model):\n",
    "    size = len(dataloader.dataset)\n",
    "    model.eval()\n",
    "    test_loss, correct = 0, 0\n",
    "    with torch.no_grad():\n",
    "        for X, y in dataloader:\n",
    "            X, y = X.to(device), y.to(device)\n",
    "            pred = model(X)\n",
    "            test_loss += loss_fn(pred, y).item()\n",
    "            correct += (pred.argmax(1) == y).type(torch.float).sum().item()\n",
    "    test_loss /= size\n",
    "    correct /= size\n",
    "    print(f\"Erros no teste: \\n Previsão: {(100*correct):>0.1f}%, Perda média: {test_loss:>8f} \\n\")"
   ]
  },
  {
   "cell_type": "code",
   "execution_count": 91,
   "metadata": {},
   "outputs": [
    {
     "name": "stdout",
     "output_type": "stream",
     "text": [
      "Epoch 1\n",
      "-------------------------------\n",
      "loss: 2.297367  [    0/60000]\n",
      "loss: 2.293564  [ 6400/60000]\n",
      "loss: 2.275012  [12800/60000]\n",
      "loss: 2.283568  [19200/60000]\n",
      "loss: 2.278128  [25600/60000]\n",
      "loss: 2.257450  [32000/60000]\n",
      "loss: 2.246504  [38400/60000]\n",
      "loss: 2.227202  [44800/60000]\n",
      "loss: 2.236900  [51200/60000]\n",
      "loss: 2.219619  [57600/60000]\n",
      "Erros no teste: \n",
      " Previsão: 43.0%, Perda média: 0.034885 \n",
      "\n",
      "Epoch 2\n",
      "-------------------------------\n",
      "loss: 2.214786  [    0/60000]\n",
      "loss: 2.226838  [ 6400/60000]\n",
      "loss: 2.179623  [12800/60000]\n",
      "loss: 2.199891  [19200/60000]\n",
      "loss: 2.184374  [25600/60000]\n",
      "loss: 2.150620  [32000/60000]\n",
      "loss: 2.126430  [38400/60000]\n",
      "loss: 2.091466  [44800/60000]\n",
      "loss: 2.127749  [51200/60000]\n",
      "loss: 2.078912  [57600/60000]\n",
      "Erros no teste: \n",
      " Previsão: 42.4%, Perda média: 0.032942 \n",
      "\n",
      "Epoch 3\n",
      "-------------------------------\n",
      "loss: 2.088279  [    0/60000]\n",
      "loss: 2.114778  [ 6400/60000]\n",
      "loss: 2.020396  [12800/60000]\n",
      "loss: 2.063795  [19200/60000]\n",
      "loss: 2.029534  [25600/60000]\n",
      "loss: 1.984648  [32000/60000]\n",
      "loss: 1.935328  [38400/60000]\n",
      "loss: 1.884429  [44800/60000]\n",
      "loss: 1.956016  [51200/60000]\n",
      "loss: 1.877809  [57600/60000]\n",
      "Erros no teste: \n",
      " Previsão: 42.2%, Perda média: 0.030142 \n",
      "\n",
      "Epoch 4\n",
      "-------------------------------\n",
      "loss: 1.902348  [    0/60000]\n",
      "loss: 1.959276  [ 6400/60000]\n",
      "loss: 1.815341  [12800/60000]\n",
      "loss: 1.889095  [19200/60000]\n",
      "loss: 1.849229  [25600/60000]\n",
      "loss: 1.806342  [32000/60000]\n",
      "loss: 1.727143  [38400/60000]\n",
      "loss: 1.683636  [44800/60000]\n",
      "loss: 1.788658  [51200/60000]\n",
      "loss: 1.697983  [57600/60000]\n",
      "Erros no teste: \n",
      " Previsão: 45.0%, Perda média: 0.027697 \n",
      "\n",
      "Epoch 5\n",
      "-------------------------------\n",
      "loss: 1.733533  [    0/60000]\n",
      "loss: 1.827249  [ 6400/60000]\n",
      "loss: 1.656642  [12800/60000]\n",
      "loss: 1.753662  [19200/60000]\n",
      "loss: 1.712323  [25600/60000]\n",
      "loss: 1.682524  [32000/60000]\n",
      "loss: 1.575395  [38400/60000]\n",
      "loss: 1.551873  [44800/60000]\n",
      "loss: 1.667544  [51200/60000]\n",
      "loss: 1.582698  [57600/60000]\n",
      "Erros no teste: \n",
      " Previsão: 46.9%, Perda média: 0.026005 \n",
      "\n",
      "Epoch 6\n",
      "-------------------------------\n",
      "loss: 1.613241  [    0/60000]\n",
      "loss: 1.732749  [ 6400/60000]\n",
      "loss: 1.547094  [12800/60000]\n",
      "loss: 1.662157  [19200/60000]\n",
      "loss: 1.609839  [25600/60000]\n",
      "loss: 1.598646  [32000/60000]\n",
      "loss: 1.475360  [38400/60000]\n",
      "loss: 1.462891  [44800/60000]\n",
      "loss: 1.583081  [51200/60000]\n",
      "loss: 1.509416  [57600/60000]\n",
      "Erros no teste: \n",
      " Previsão: 47.9%, Perda média: 0.024810 \n",
      "\n",
      "Epoch 7\n",
      "-------------------------------\n",
      "loss: 1.528156  [    0/60000]\n",
      "loss: 1.651642  [ 6400/60000]\n",
      "loss: 1.451139  [12800/60000]\n",
      "loss: 1.603575  [19200/60000]\n",
      "loss: 1.441653  [25600/60000]\n",
      "loss: 1.507552  [32000/60000]\n",
      "loss: 1.347053  [38400/60000]\n",
      "loss: 1.316471  [44800/60000]\n",
      "loss: 1.437981  [51200/60000]\n",
      "loss: 1.442880  [57600/60000]\n",
      "Erros no teste: \n",
      " Previsão: 53.5%, Perda média: 0.022977 \n",
      "\n",
      "Epoch 8\n",
      "-------------------------------\n",
      "loss: 1.356978  [    0/60000]\n",
      "loss: 1.514112  [ 6400/60000]\n",
      "loss: 1.355151  [12800/60000]\n",
      "loss: 1.558593  [19200/60000]\n",
      "loss: 1.329804  [25600/60000]\n",
      "loss: 1.445509  [32000/60000]\n",
      "loss: 1.266046  [38400/60000]\n",
      "loss: 1.236287  [44800/60000]\n",
      "loss: 1.362761  [51200/60000]\n",
      "loss: 1.391534  [57600/60000]\n",
      "Erros no teste: \n",
      " Previsão: 55.6%, Perda média: 0.021936 \n",
      "\n",
      "Epoch 9\n",
      "-------------------------------\n",
      "loss: 1.272687  [    0/60000]\n",
      "loss: 1.437959  [ 6400/60000]\n",
      "loss: 1.285521  [12800/60000]\n",
      "loss: 1.514155  [19200/60000]\n",
      "loss: 1.261014  [25600/60000]\n",
      "loss: 1.398126  [32000/60000]\n",
      "loss: 1.208148  [38400/60000]\n",
      "loss: 1.180014  [44800/60000]\n",
      "loss: 1.305142  [51200/60000]\n",
      "loss: 1.348567  [57600/60000]\n",
      "Erros no teste: \n",
      " Previsão: 56.7%, Perda média: 0.021092 \n",
      "\n",
      "Epoch 10\n",
      "-------------------------------\n",
      "loss: 1.208077  [    0/60000]\n",
      "loss: 1.374327  [ 6400/60000]\n",
      "loss: 1.228794  [12800/60000]\n",
      "loss: 1.476813  [19200/60000]\n",
      "loss: 1.211063  [25600/60000]\n",
      "loss: 1.358303  [32000/60000]\n",
      "loss: 1.161526  [38400/60000]\n",
      "loss: 1.137221  [44800/60000]\n",
      "loss: 1.259401  [51200/60000]\n",
      "loss: 1.313527  [57600/60000]\n",
      "Erros no teste: \n",
      " Previsão: 57.5%, Perda média: 0.020398 \n",
      "\n",
      "Epoch 11\n",
      "-------------------------------\n",
      "loss: 1.154407  [    0/60000]\n",
      "loss: 1.320713  [ 6400/60000]\n",
      "loss: 1.181286  [12800/60000]\n",
      "loss: 1.445387  [19200/60000]\n",
      "loss: 1.174478  [25600/60000]\n",
      "loss: 1.324328  [32000/60000]\n",
      "loss: 1.124028  [38400/60000]\n",
      "loss: 1.103386  [44800/60000]\n",
      "loss: 1.221277  [51200/60000]\n",
      "loss: 1.284220  [57600/60000]\n",
      "Erros no teste: \n",
      " Previsão: 58.5%, Perda média: 0.019821 \n",
      "\n",
      "Epoch 12\n",
      "-------------------------------\n",
      "loss: 1.108689  [    0/60000]\n",
      "loss: 1.275499  [ 6400/60000]\n",
      "loss: 1.141086  [12800/60000]\n",
      "loss: 1.420300  [19200/60000]\n",
      "loss: 1.146704  [25600/60000]\n",
      "loss: 1.294494  [32000/60000]\n",
      "loss: 1.092880  [38400/60000]\n",
      "loss: 1.076684  [44800/60000]\n",
      "loss: 1.188882  [51200/60000]\n",
      "loss: 1.259175  [57600/60000]\n",
      "Erros no teste: \n",
      " Previsão: 59.7%, Perda média: 0.019334 \n",
      "\n",
      "Epoch 13\n",
      "-------------------------------\n",
      "loss: 1.069205  [    0/60000]\n",
      "loss: 1.237208  [ 6400/60000]\n",
      "loss: 1.106249  [12800/60000]\n",
      "loss: 1.399828  [19200/60000]\n",
      "loss: 1.124907  [25600/60000]\n",
      "loss: 1.268196  [32000/60000]\n",
      "loss: 1.066650  [38400/60000]\n",
      "loss: 1.054963  [44800/60000]\n",
      "loss: 1.160970  [51200/60000]\n",
      "loss: 1.236732  [57600/60000]\n",
      "Erros no teste: \n",
      " Previsão: 60.6%, Perda média: 0.018915 \n",
      "\n",
      "Epoch 14\n",
      "-------------------------------\n",
      "loss: 1.034936  [    0/60000]\n",
      "loss: 1.204476  [ 6400/60000]\n",
      "loss: 1.075130  [12800/60000]\n",
      "loss: 1.382429  [19200/60000]\n",
      "loss: 1.107344  [25600/60000]\n",
      "loss: 1.244303  [32000/60000]\n",
      "loss: 1.043884  [38400/60000]\n",
      "loss: 1.034760  [44800/60000]\n",
      "loss: 1.137198  [51200/60000]\n",
      "loss: 1.216109  [57600/60000]\n",
      "Erros no teste: \n",
      " Previsão: 61.6%, Perda média: 0.018546 \n",
      "\n",
      "Epoch 15\n",
      "-------------------------------\n",
      "loss: 1.005280  [    0/60000]\n",
      "loss: 1.175811  [ 6400/60000]\n",
      "loss: 1.047103  [12800/60000]\n",
      "loss: 1.367740  [19200/60000]\n",
      "loss: 1.091766  [25600/60000]\n",
      "loss: 1.222375  [32000/60000]\n",
      "loss: 1.024079  [38400/60000]\n",
      "loss: 1.017215  [44800/60000]\n",
      "loss: 1.116126  [51200/60000]\n",
      "loss: 1.197366  [57600/60000]\n",
      "Erros no teste: \n",
      " Previsão: 62.3%, Perda média: 0.018215 \n",
      "\n",
      "Done!\n"
     ]
    }
   ],
   "source": [
    "# Vamos executar em 15 ciclos. \n",
    "epochs = 15\n",
    "for t in range(epochs):\n",
    "    print(f\"Epoch {t+1}\\n-------------------------------\")\n",
    "    train(train_dataloader, model, loss_fn, optimizer)\n",
    "    test(test_dataloader, model)\n",
    "print(\"Fim!\")"
   ]
  },
  {
   "cell_type": "code",
   "execution_count": 94,
   "metadata": {},
   "outputs": [
    {
     "name": "stdout",
     "output_type": "stream",
     "text": [
      "Modelo salvo em model.pth\n"
     ]
    }
   ],
   "source": [
    "# É possível salvar o modelo\n",
    "torch.save(model.state_dict(), \"data/model.pth\")\n",
    "print(\"Modelo salvo em model.pth\")"
   ]
  },
  {
   "cell_type": "code",
   "execution_count": 93,
   "metadata": {},
   "outputs": [
    {
     "data": {
      "text/plain": [
       "<All keys matched successfully>"
      ]
     },
     "execution_count": 93,
     "metadata": {},
     "output_type": "execute_result"
    }
   ],
   "source": [
    "# E carregar modelos salvos\n",
    "model = NeuralNetwork()\n",
    "model.load_state_dict(torch.load(\"data/model.pth\"))"
   ]
  },
  {
   "cell_type": "code",
   "execution_count": 95,
   "metadata": {},
   "outputs": [
    {
     "name": "stdout",
     "output_type": "stream",
     "text": [
      "Predicted: \"Ankle boot\", Actual: \"Ankle boot\"\n"
     ]
    }
   ],
   "source": [
    "# E em seguida, utilizar um modelo salvo para efetuar previsões.\n",
    "classes = [\n",
    "    \"T-shirt/top\",\n",
    "    \"Trouser\",\n",
    "    \"Pullover\",\n",
    "    \"Dress\",\n",
    "    \"Coat\",\n",
    "    \"Sandal\",\n",
    "    \"Shirt\",\n",
    "    \"Sneaker\",\n",
    "    \"Bag\",\n",
    "    \"Ankle boot\",\n",
    "]\n",
    "\n",
    "model.eval()\n",
    "x, y = test_data[0][0], test_data[0][1]\n",
    "with torch.no_grad():\n",
    "    pred = model(x)\n",
    "    predicted, actual = classes[pred[0].argmax(0)], classes[y]\n",
    "    print(f'Predicted: \"{predicted}\", Actual: \"{actual}\"')"
   ]
  }
 ],
 "metadata": {
  "kernelspec": {
   "display_name": "Python 3.9.13 ('intro-pytorch')",
   "language": "python",
   "name": "python3"
  },
  "language_info": {
   "codemirror_mode": {
    "name": "ipython",
    "version": 3
   },
   "file_extension": ".py",
   "mimetype": "text/x-python",
   "name": "python",
   "nbconvert_exporter": "python",
   "pygments_lexer": "ipython3",
   "version": "3.9.13"
  },
  "orig_nbformat": 4,
  "vscode": {
   "interpreter": {
    "hash": "75e9abd45e6be526d8622b7f981aa0daba29749ea801e913e6f82b84980524c2"
   }
  }
 },
 "nbformat": 4,
 "nbformat_minor": 2
}
